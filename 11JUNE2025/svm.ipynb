{
 "cells": [
  {
   "cell_type": "markdown",
   "id": "4df953aa",
   "metadata": {},
   "source": [
    "# Support Vector Machine [SVM] - Classification:\n",
    "\n",
    "**Usage**: classification & regression both [supervised].\n",
    "\n",
    "**Goal**: Finding the best decision boundary (hyperplane) separating the classes with maximum margin.\n",
    "\n",
    "- **Hyperplane**: Decision boundary - separating classes with max margin. \n",
    "    - Equation: $w^T\\cdot x+b = 0$\n",
    "\n",
    "- **Support Vectors**: Closest data points to hyperplane. [crucial in determining the hyperplane & margin in SVM].\n",
    "\n",
    "- **Margin**: Distance between hyperplane & support vectors. SVM aims to maximize the margin to improve performance.\n",
    "\n",
    "- **Kernel**: Function to map the data to a higher-dimensional space enabling SVM to handle non-linearly separable data.\n",
    "\n",
    "- **Hard Margin**: max-margin in hyperplane that perfectly separates the data. [no misclassifications]\n",
    "\n",
    "- **Soft Margin**: allows some missclassifications when data is not perfectly separable.\n",
    "\n",
    "- **C**: regularization term balancing margin maximization & missclass. penalties. $\\uparrow C \\propto$ *stricter penalties*.\n",
    "\n",
    "- **Hinge Loss**: loss function.\n",
    "\n",
    "\n",
    "## SVM Functionality:\n",
    "\n",
    "- Hyperplane:\n",
    "\n",
    "    $w^T \\cdot x + b = 0$\n",
    "    - $w$: weight (normal to hyperplane)\n",
    "    - $b$: bias (shifting the plane)\n",
    "    - $x$: features (inputs)\n",
    "\n",
    "- To predict / margin-region:\n",
    "    \n",
    "    $y^{(k)} =\n",
    "    \\begin{cases}\n",
    "    +1 & \\text{if } \\mathbf{w}^T \\mathbf{x} + b \\geq 0 \\\\\n",
    "    -1 & \\text{if } \\mathbf{w}^T \\mathbf{x} + b < 0\n",
    "    \\end{cases}\n",
    "    $\n",
    "\n",
    "**Optimization**:\n",
    "\n",
    "$||\\text{w}|| = \\sqrt{w_1^2 + w_2^2 + ... + w_n^2}$\n",
    "\n",
    "> where, $||\\text{w}||$ - Norm of Vector (Euclidean norm)\n",
    "\n",
    "1. $\\text{Margin} = \\frac{2}{||\\text{w}||}$\n",
    "\n",
    "2. $\\text{Hard-Margin} = \\min_{w,b} \\frac{1}{2} {||\\text{w}||^2}$, \n",
    "    - subject to: $y_i(w^T \\cdot x_i + b) \\geq 1$\n",
    "    - No missclassifications allowed \n",
    "\n",
    "3. $\\text{soft-margin} = \\min_{w,b,\\xi} \\frac{1}{2}{||\\text{w}||^2} + C\\cdot \\sum_{i=1}^{n}{\\xi_i}$\n",
    "\n",
    "    - subject to: $y_i(w^T \\cdot x_i + b) \\geq 1 - \\xi_i$, $\\xi \\geq 0$  \n",
    "    - allows some missclassifications.\n",
    "    - $\\xi_i$ refers to the penalty (slack).\n",
    "\n",
    "4. Kernel Function $K(x, x')$:\n",
    "\n",
    "    - linear: $K(x, x') = x^T \\cdot x'$\n",
    "    - polynomial: $K(x, x') = (x^T \\cdot x' + 1)^d$\n",
    "    - Gaussian/RBF: $K(x, x') = \\exp{(- \\gamma || x - x'||^2)}$\n",
    "\n",
    "    - used when is not linearly separable (converts the data into higher dimensons) \n",
    "\n",
    "\n",
    "5. Hinge Loss:\n",
    "\n",
    "    $f(x) = w^T \\cdot x_i + b$\n",
    "\n",
    "    $L(y, f(x)) = max(0, 1 - y_i\\cdot f(x))$\n",
    "\n",
    "6. Decision Boundary:\n",
    "\n",
    "    $\\text{w} = \\sum_{i=1}^n{\\alpha_i \\cdot y_i \\cdot x_i} + b$\n",
    "\n",
    "Optimization Objective:\n",
    "\n",
    "- $(\\text{maximize Hard/Soft-Margin}) + C \\cdot L(y, f(x))$\n",
    "\n",
    "Weights/Parameters are adjusted using gradient descent (generally stochastic gd) as follow:\n",
    "\n",
    "- $w_i = w_{i-1} - \\eta \\cdot \\nabla J(w_i)$\n",
    "\n",
    "    here, $\\eta$ refers to learning rate,\n",
    "          $J(w)$ refers to total loss.\n",
    "\n",
    "- **Dual Problem** is used generally for non-linear based classification. This includes the optimization of kernel functions involves maximizing the Lagrange multipliers."
   ]
  },
  {
   "cell_type": "markdown",
   "id": "3e7597c6",
   "metadata": {},
   "source": [
    "---\n",
    "# SVM Implementation:\n",
    "\n",
    "- Dataset : [News Classification Datasets 🔗](https://www.kaggle.com/datasets/rmisra/news-category-dataset)"
   ]
  },
  {
   "cell_type": "markdown",
   "id": "7111cefa",
   "metadata": {},
   "source": [
    "## Imports & Data Load:"
   ]
  },
  {
   "cell_type": "code",
   "execution_count": 4,
   "id": "fe6c1f32",
   "metadata": {},
   "outputs": [],
   "source": [
    "import os, warnings\n",
    "import numpy as np, pandas as pd\n",
    "import seaborn as sns, matplotlib.pyplot as plt\n",
    "import plotly.graph_objects as go \n",
    "import plotly.express as px \n",
    "\n",
    "warnings.filterwarnings('ignore')\n",
    "%matplotlib inline"
   ]
  },
  {
   "cell_type": "code",
   "execution_count": 5,
   "id": "7bc1e28f",
   "metadata": {},
   "outputs": [
    {
     "data": {
      "text/html": [
       "<div>\n",
       "<style scoped>\n",
       "    .dataframe tbody tr th:only-of-type {\n",
       "        vertical-align: middle;\n",
       "    }\n",
       "\n",
       "    .dataframe tbody tr th {\n",
       "        vertical-align: top;\n",
       "    }\n",
       "\n",
       "    .dataframe thead th {\n",
       "        text-align: right;\n",
       "    }\n",
       "</style>\n",
       "<table border=\"1\" class=\"dataframe\">\n",
       "  <thead>\n",
       "    <tr style=\"text-align: right;\">\n",
       "      <th></th>\n",
       "      <th>link</th>\n",
       "      <th>headline</th>\n",
       "      <th>category</th>\n",
       "      <th>short_description</th>\n",
       "      <th>authors</th>\n",
       "      <th>date</th>\n",
       "    </tr>\n",
       "  </thead>\n",
       "  <tbody>\n",
       "    <tr>\n",
       "      <th>0</th>\n",
       "      <td>https://www.huffpost.com/entry/covid-boosters-...</td>\n",
       "      <td>Over 4 Million Americans Roll Up Sleeves For O...</td>\n",
       "      <td>U.S. NEWS</td>\n",
       "      <td>Health experts said it is too early to predict...</td>\n",
       "      <td>Carla K. Johnson, AP</td>\n",
       "      <td>2022-09-23</td>\n",
       "    </tr>\n",
       "    <tr>\n",
       "      <th>1</th>\n",
       "      <td>https://www.huffpost.com/entry/american-airlin...</td>\n",
       "      <td>American Airlines Flyer Charged, Banned For Li...</td>\n",
       "      <td>U.S. NEWS</td>\n",
       "      <td>He was subdued by passengers and crew when he ...</td>\n",
       "      <td>Mary Papenfuss</td>\n",
       "      <td>2022-09-23</td>\n",
       "    </tr>\n",
       "    <tr>\n",
       "      <th>2</th>\n",
       "      <td>https://www.huffpost.com/entry/funniest-tweets...</td>\n",
       "      <td>23 Of The Funniest Tweets About Cats And Dogs ...</td>\n",
       "      <td>COMEDY</td>\n",
       "      <td>\"Until you have a dog you don't understand wha...</td>\n",
       "      <td>Elyse Wanshel</td>\n",
       "      <td>2022-09-23</td>\n",
       "    </tr>\n",
       "    <tr>\n",
       "      <th>3</th>\n",
       "      <td>https://www.huffpost.com/entry/funniest-parent...</td>\n",
       "      <td>The Funniest Tweets From Parents This Week (Se...</td>\n",
       "      <td>PARENTING</td>\n",
       "      <td>\"Accidentally put grown-up toothpaste on my to...</td>\n",
       "      <td>Caroline Bologna</td>\n",
       "      <td>2022-09-23</td>\n",
       "    </tr>\n",
       "    <tr>\n",
       "      <th>4</th>\n",
       "      <td>https://www.huffpost.com/entry/amy-cooper-lose...</td>\n",
       "      <td>Woman Who Called Cops On Black Bird-Watcher Lo...</td>\n",
       "      <td>U.S. NEWS</td>\n",
       "      <td>Amy Cooper accused investment firm Franklin Te...</td>\n",
       "      <td>Nina Golgowski</td>\n",
       "      <td>2022-09-22</td>\n",
       "    </tr>\n",
       "  </tbody>\n",
       "</table>\n",
       "</div>"
      ],
      "text/plain": [
       "                                                link  ...       date\n",
       "0  https://www.huffpost.com/entry/covid-boosters-...  ... 2022-09-23\n",
       "1  https://www.huffpost.com/entry/american-airlin...  ... 2022-09-23\n",
       "2  https://www.huffpost.com/entry/funniest-tweets...  ... 2022-09-23\n",
       "3  https://www.huffpost.com/entry/funniest-parent...  ... 2022-09-23\n",
       "4  https://www.huffpost.com/entry/amy-cooper-lose...  ... 2022-09-22\n",
       "\n",
       "[5 rows x 6 columns]"
      ]
     },
     "execution_count": 5,
     "metadata": {},
     "output_type": "execute_result"
    }
   ],
   "source": [
    "df = pd.read_json('./dataset/News_Category_Dataset_v3.json', lines=True)\n",
    "df.head(5)\n"
   ]
  },
  {
   "cell_type": "markdown",
   "id": "4fac343e",
   "metadata": {},
   "source": [
    "## Data Analysis and preprocessing:"
   ]
  },
  {
   "cell_type": "code",
   "execution_count": 6,
   "id": "9bc45432",
   "metadata": {},
   "outputs": [
    {
     "name": "stdout",
     "output_type": "stream",
     "text": [
      "<class 'pandas.core.frame.DataFrame'>\n",
      "RangeIndex: 209527 entries, 0 to 209526\n",
      "Data columns (total 6 columns):\n",
      " #   Column             Non-Null Count   Dtype         \n",
      "---  ------             --------------   -----         \n",
      " 0   link               209527 non-null  object        \n",
      " 1   headline           209527 non-null  object        \n",
      " 2   category           209527 non-null  object        \n",
      " 3   short_description  209527 non-null  object        \n",
      " 4   authors            209527 non-null  object        \n",
      " 5   date               209527 non-null  datetime64[ns]\n",
      "dtypes: datetime64[ns](1), object(5)\n",
      "memory usage: 9.6+ MB\n"
     ]
    }
   ],
   "source": [
    "# about data:\n",
    "df.info()"
   ]
  },
  {
   "cell_type": "code",
   "execution_count": 7,
   "id": "5572c696",
   "metadata": {},
   "outputs": [
    {
     "name": "stdout",
     "output_type": "stream",
     "text": [
      "News Categories/Classes:\n",
      "['U.S. NEWS' 'COMEDY' 'PARENTING' 'WORLD NEWS' 'CULTURE & ARTS' 'TECH'\n",
      " 'SPORTS' 'ENTERTAINMENT' 'POLITICS' 'WEIRD NEWS' 'ENVIRONMENT'\n",
      " 'EDUCATION' 'CRIME' 'SCIENCE' 'WELLNESS' 'BUSINESS' 'STYLE & BEAUTY'\n",
      " 'FOOD & DRINK' 'MEDIA' 'QUEER VOICES' 'HOME & LIVING' 'WOMEN'\n",
      " 'BLACK VOICES' 'TRAVEL' 'MONEY' 'RELIGION' 'LATINO VOICES' 'IMPACT'\n",
      " 'WEDDINGS' 'COLLEGE' 'PARENTS' 'ARTS & CULTURE' 'STYLE' 'GREEN' 'TASTE'\n",
      " 'HEALTHY LIVING' 'THE WORLDPOST' 'GOOD NEWS' 'WORLDPOST' 'FIFTY' 'ARTS'\n",
      " 'DIVORCE']\n"
     ]
    }
   ],
   "source": [
    "# Available News Categories\n",
    "categories = df['category'].unique()\n",
    "print(f\"\"\"News Categories/Classes:\n",
    "{categories}\"\"\")"
   ]
  },
  {
   "cell_type": "code",
   "execution_count": 8,
   "id": "bc2000bd",
   "metadata": {},
   "outputs": [
    {
     "data": {
      "text/html": [
       "<div>\n",
       "<style scoped>\n",
       "    .dataframe tbody tr th:only-of-type {\n",
       "        vertical-align: middle;\n",
       "    }\n",
       "\n",
       "    .dataframe tbody tr th {\n",
       "        vertical-align: top;\n",
       "    }\n",
       "\n",
       "    .dataframe thead th {\n",
       "        text-align: right;\n",
       "    }\n",
       "</style>\n",
       "<table border=\"1\" class=\"dataframe\">\n",
       "  <thead>\n",
       "    <tr style=\"text-align: right;\">\n",
       "      <th></th>\n",
       "      <th>category</th>\n",
       "      <th>count</th>\n",
       "    </tr>\n",
       "  </thead>\n",
       "  <tbody>\n",
       "    <tr>\n",
       "      <th>0</th>\n",
       "      <td>POLITICS</td>\n",
       "      <td>35602</td>\n",
       "    </tr>\n",
       "    <tr>\n",
       "      <th>1</th>\n",
       "      <td>WELLNESS</td>\n",
       "      <td>17945</td>\n",
       "    </tr>\n",
       "    <tr>\n",
       "      <th>2</th>\n",
       "      <td>ENTERTAINMENT</td>\n",
       "      <td>17362</td>\n",
       "    </tr>\n",
       "    <tr>\n",
       "      <th>3</th>\n",
       "      <td>TRAVEL</td>\n",
       "      <td>9900</td>\n",
       "    </tr>\n",
       "    <tr>\n",
       "      <th>4</th>\n",
       "      <td>STYLE &amp; BEAUTY</td>\n",
       "      <td>9814</td>\n",
       "    </tr>\n",
       "    <tr>\n",
       "      <th>5</th>\n",
       "      <td>PARENTING</td>\n",
       "      <td>8791</td>\n",
       "    </tr>\n",
       "    <tr>\n",
       "      <th>6</th>\n",
       "      <td>HEALTHY LIVING</td>\n",
       "      <td>6694</td>\n",
       "    </tr>\n",
       "    <tr>\n",
       "      <th>7</th>\n",
       "      <td>QUEER VOICES</td>\n",
       "      <td>6347</td>\n",
       "    </tr>\n",
       "    <tr>\n",
       "      <th>8</th>\n",
       "      <td>FOOD &amp; DRINK</td>\n",
       "      <td>6340</td>\n",
       "    </tr>\n",
       "    <tr>\n",
       "      <th>9</th>\n",
       "      <td>BUSINESS</td>\n",
       "      <td>5992</td>\n",
       "    </tr>\n",
       "    <tr>\n",
       "      <th>10</th>\n",
       "      <td>COMEDY</td>\n",
       "      <td>5400</td>\n",
       "    </tr>\n",
       "    <tr>\n",
       "      <th>11</th>\n",
       "      <td>SPORTS</td>\n",
       "      <td>5077</td>\n",
       "    </tr>\n",
       "    <tr>\n",
       "      <th>12</th>\n",
       "      <td>BLACK VOICES</td>\n",
       "      <td>4583</td>\n",
       "    </tr>\n",
       "    <tr>\n",
       "      <th>13</th>\n",
       "      <td>HOME &amp; LIVING</td>\n",
       "      <td>4320</td>\n",
       "    </tr>\n",
       "    <tr>\n",
       "      <th>14</th>\n",
       "      <td>PARENTS</td>\n",
       "      <td>3955</td>\n",
       "    </tr>\n",
       "    <tr>\n",
       "      <th>15</th>\n",
       "      <td>THE WORLDPOST</td>\n",
       "      <td>3664</td>\n",
       "    </tr>\n",
       "    <tr>\n",
       "      <th>16</th>\n",
       "      <td>WEDDINGS</td>\n",
       "      <td>3653</td>\n",
       "    </tr>\n",
       "    <tr>\n",
       "      <th>17</th>\n",
       "      <td>WOMEN</td>\n",
       "      <td>3572</td>\n",
       "    </tr>\n",
       "    <tr>\n",
       "      <th>18</th>\n",
       "      <td>CRIME</td>\n",
       "      <td>3562</td>\n",
       "    </tr>\n",
       "    <tr>\n",
       "      <th>19</th>\n",
       "      <td>IMPACT</td>\n",
       "      <td>3484</td>\n",
       "    </tr>\n",
       "    <tr>\n",
       "      <th>20</th>\n",
       "      <td>DIVORCE</td>\n",
       "      <td>3426</td>\n",
       "    </tr>\n",
       "    <tr>\n",
       "      <th>21</th>\n",
       "      <td>WORLD NEWS</td>\n",
       "      <td>3299</td>\n",
       "    </tr>\n",
       "    <tr>\n",
       "      <th>22</th>\n",
       "      <td>MEDIA</td>\n",
       "      <td>2944</td>\n",
       "    </tr>\n",
       "    <tr>\n",
       "      <th>23</th>\n",
       "      <td>WEIRD NEWS</td>\n",
       "      <td>2777</td>\n",
       "    </tr>\n",
       "    <tr>\n",
       "      <th>24</th>\n",
       "      <td>GREEN</td>\n",
       "      <td>2622</td>\n",
       "    </tr>\n",
       "    <tr>\n",
       "      <th>25</th>\n",
       "      <td>WORLDPOST</td>\n",
       "      <td>2579</td>\n",
       "    </tr>\n",
       "    <tr>\n",
       "      <th>26</th>\n",
       "      <td>RELIGION</td>\n",
       "      <td>2577</td>\n",
       "    </tr>\n",
       "    <tr>\n",
       "      <th>27</th>\n",
       "      <td>STYLE</td>\n",
       "      <td>2254</td>\n",
       "    </tr>\n",
       "    <tr>\n",
       "      <th>28</th>\n",
       "      <td>SCIENCE</td>\n",
       "      <td>2206</td>\n",
       "    </tr>\n",
       "    <tr>\n",
       "      <th>29</th>\n",
       "      <td>TECH</td>\n",
       "      <td>2104</td>\n",
       "    </tr>\n",
       "    <tr>\n",
       "      <th>30</th>\n",
       "      <td>TASTE</td>\n",
       "      <td>2096</td>\n",
       "    </tr>\n",
       "    <tr>\n",
       "      <th>31</th>\n",
       "      <td>MONEY</td>\n",
       "      <td>1756</td>\n",
       "    </tr>\n",
       "    <tr>\n",
       "      <th>32</th>\n",
       "      <td>ARTS</td>\n",
       "      <td>1509</td>\n",
       "    </tr>\n",
       "    <tr>\n",
       "      <th>33</th>\n",
       "      <td>ENVIRONMENT</td>\n",
       "      <td>1444</td>\n",
       "    </tr>\n",
       "    <tr>\n",
       "      <th>34</th>\n",
       "      <td>FIFTY</td>\n",
       "      <td>1401</td>\n",
       "    </tr>\n",
       "    <tr>\n",
       "      <th>35</th>\n",
       "      <td>GOOD NEWS</td>\n",
       "      <td>1398</td>\n",
       "    </tr>\n",
       "    <tr>\n",
       "      <th>36</th>\n",
       "      <td>U.S. NEWS</td>\n",
       "      <td>1377</td>\n",
       "    </tr>\n",
       "    <tr>\n",
       "      <th>37</th>\n",
       "      <td>ARTS &amp; CULTURE</td>\n",
       "      <td>1339</td>\n",
       "    </tr>\n",
       "    <tr>\n",
       "      <th>38</th>\n",
       "      <td>COLLEGE</td>\n",
       "      <td>1144</td>\n",
       "    </tr>\n",
       "    <tr>\n",
       "      <th>39</th>\n",
       "      <td>LATINO VOICES</td>\n",
       "      <td>1130</td>\n",
       "    </tr>\n",
       "    <tr>\n",
       "      <th>40</th>\n",
       "      <td>CULTURE &amp; ARTS</td>\n",
       "      <td>1074</td>\n",
       "    </tr>\n",
       "    <tr>\n",
       "      <th>41</th>\n",
       "      <td>EDUCATION</td>\n",
       "      <td>1014</td>\n",
       "    </tr>\n",
       "  </tbody>\n",
       "</table>\n",
       "</div>"
      ],
      "text/plain": [
       "          category  count\n",
       "0         POLITICS  35602\n",
       "1         WELLNESS  17945\n",
       "2    ENTERTAINMENT  17362\n",
       "3           TRAVEL   9900\n",
       "4   STYLE & BEAUTY   9814\n",
       "5        PARENTING   8791\n",
       "6   HEALTHY LIVING   6694\n",
       "7     QUEER VOICES   6347\n",
       "8     FOOD & DRINK   6340\n",
       "9         BUSINESS   5992\n",
       "10          COMEDY   5400\n",
       "11          SPORTS   5077\n",
       "12    BLACK VOICES   4583\n",
       "13   HOME & LIVING   4320\n",
       "14         PARENTS   3955\n",
       "15   THE WORLDPOST   3664\n",
       "16        WEDDINGS   3653\n",
       "17           WOMEN   3572\n",
       "18           CRIME   3562\n",
       "19          IMPACT   3484\n",
       "20         DIVORCE   3426\n",
       "21      WORLD NEWS   3299\n",
       "22           MEDIA   2944\n",
       "23      WEIRD NEWS   2777\n",
       "24           GREEN   2622\n",
       "25       WORLDPOST   2579\n",
       "26        RELIGION   2577\n",
       "27           STYLE   2254\n",
       "28         SCIENCE   2206\n",
       "29            TECH   2104\n",
       "30           TASTE   2096\n",
       "31           MONEY   1756\n",
       "32            ARTS   1509\n",
       "33     ENVIRONMENT   1444\n",
       "34           FIFTY   1401\n",
       "35       GOOD NEWS   1398\n",
       "36       U.S. NEWS   1377\n",
       "37  ARTS & CULTURE   1339\n",
       "38         COLLEGE   1144\n",
       "39   LATINO VOICES   1130\n",
       "40  CULTURE & ARTS   1074\n",
       "41       EDUCATION   1014"
      ]
     },
     "execution_count": 8,
     "metadata": {},
     "output_type": "execute_result"
    }
   ],
   "source": [
    "# Category-wise balance check:\n",
    "categories_count = df['category'].value_counts().reset_index()\n",
    "categories_count"
   ]
  },
  {
   "cell_type": "code",
   "execution_count": 9,
   "id": "f4cf55f2",
   "metadata": {},
   "outputs": [
    {
     "data": {
      "image/png": "[encoded data removed]",
      "text/plain": [
       "<Figure size 1200x1000 with 1 Axes>"
      ]
     },
     "metadata": {},
     "output_type": "display_data"
    }
   ],
   "source": [
    "plt.figure(figsize=(12,10))\n",
    "sns.barplot(df['category'].value_counts(), orient='v')\n",
    "plt.title('News Category Distribution:')\n",
    "plt.xticks(rotation=45, ha='right')\n",
    "plt.show()"
   ]
  },
  {
   "cell_type": "code",
   "execution_count": 10,
   "id": "f1872bb5",
   "metadata": {},
   "outputs": [
    {
     "name": "stdout",
     "output_type": "stream",
     "text": [
      "\n",
      "CATEGORY: POLITICS\n",
      "HEADLINE: Ivanka Trump Backed Her Dad Even As She Knew He Lied, Ex-White House Aide Points Out\n",
      "DESC.: She shouldn't have stood by Donald Trump's side as he kept pushing  lies that the election he lost was rigged, said former press secretary Stephanie Grisham.\n",
      "\n"
     ]
    }
   ],
   "source": [
    "# Any one sample\n",
    "\n",
    "i = np.random.randint(1,1000)\n",
    "\n",
    "print(f\"\"\"\n",
    "CATEGORY: {df.loc[i]['category']}\n",
    "HEADLINE: {df.loc[i]['headline']}\n",
    "DESC.: {df.loc[i]['short_description']}\n",
    "\"\"\")"
   ]
  },
  {
   "cell_type": "markdown",
   "id": "6157594a",
   "metadata": {},
   "source": [
    "---\n",
    "\n",
    "### Feature Engineering:"
   ]
  },
  {
   "cell_type": "code",
   "execution_count": 11,
   "id": "2bdd0c95",
   "metadata": {},
   "outputs": [
    {
     "data": {
      "text/plain": [
       "Index(['link', 'headline', 'category', 'short_description', 'authors', 'date'], dtype='object')"
      ]
     },
     "execution_count": 11,
     "metadata": {},
     "output_type": "execute_result"
    }
   ],
   "source": [
    "df.columns"
   ]
  },
  {
   "cell_type": "markdown",
   "id": "248cbee9",
   "metadata": {},
   "source": [
    "Selecting only required columns:"
   ]
  },
  {
   "cell_type": "code",
   "execution_count": 12,
   "id": "9ef5cf4d",
   "metadata": {},
   "outputs": [
    {
     "data": {
      "text/html": [
       "<div>\n",
       "<style scoped>\n",
       "    .dataframe tbody tr th:only-of-type {\n",
       "        vertical-align: middle;\n",
       "    }\n",
       "\n",
       "    .dataframe tbody tr th {\n",
       "        vertical-align: top;\n",
       "    }\n",
       "\n",
       "    .dataframe thead th {\n",
       "        text-align: right;\n",
       "    }\n",
       "</style>\n",
       "<table border=\"1\" class=\"dataframe\">\n",
       "  <thead>\n",
       "    <tr style=\"text-align: right;\">\n",
       "      <th></th>\n",
       "      <th>headline</th>\n",
       "      <th>short_description</th>\n",
       "      <th>category</th>\n",
       "    </tr>\n",
       "  </thead>\n",
       "  <tbody>\n",
       "    <tr>\n",
       "      <th>0</th>\n",
       "      <td>Over 4 Million Americans Roll Up Sleeves For O...</td>\n",
       "      <td>Health experts said it is too early to predict...</td>\n",
       "      <td>U.S. NEWS</td>\n",
       "    </tr>\n",
       "    <tr>\n",
       "      <th>1</th>\n",
       "      <td>American Airlines Flyer Charged, Banned For Li...</td>\n",
       "      <td>He was subdued by passengers and crew when he ...</td>\n",
       "      <td>U.S. NEWS</td>\n",
       "    </tr>\n",
       "    <tr>\n",
       "      <th>2</th>\n",
       "      <td>23 Of The Funniest Tweets About Cats And Dogs ...</td>\n",
       "      <td>\"Until you have a dog you don't understand wha...</td>\n",
       "      <td>COMEDY</td>\n",
       "    </tr>\n",
       "    <tr>\n",
       "      <th>3</th>\n",
       "      <td>The Funniest Tweets From Parents This Week (Se...</td>\n",
       "      <td>\"Accidentally put grown-up toothpaste on my to...</td>\n",
       "      <td>PARENTING</td>\n",
       "    </tr>\n",
       "    <tr>\n",
       "      <th>4</th>\n",
       "      <td>Woman Who Called Cops On Black Bird-Watcher Lo...</td>\n",
       "      <td>Amy Cooper accused investment firm Franklin Te...</td>\n",
       "      <td>U.S. NEWS</td>\n",
       "    </tr>\n",
       "  </tbody>\n",
       "</table>\n",
       "</div>"
      ],
      "text/plain": [
       "                                            headline  ...   category\n",
       "0  Over 4 Million Americans Roll Up Sleeves For O...  ...  U.S. NEWS\n",
       "1  American Airlines Flyer Charged, Banned For Li...  ...  U.S. NEWS\n",
       "2  23 Of The Funniest Tweets About Cats And Dogs ...  ...     COMEDY\n",
       "3  The Funniest Tweets From Parents This Week (Se...  ...  PARENTING\n",
       "4  Woman Who Called Cops On Black Bird-Watcher Lo...  ...  U.S. NEWS\n",
       "\n",
       "[5 rows x 3 columns]"
      ]
     },
     "execution_count": 12,
     "metadata": {},
     "output_type": "execute_result"
    }
   ],
   "source": [
    "req_cols = ['headline', 'short_description', 'category'] \n",
    "\n",
    "data = df[req_cols]\n",
    "data.head(5)"
   ]
  },
  {
   "cell_type": "markdown",
   "id": "d211b271",
   "metadata": {},
   "source": [
    "Combining the headline and short description columns:"
   ]
  },
  {
   "cell_type": "code",
   "execution_count": 13,
   "id": "1c329a63",
   "metadata": {},
   "outputs": [
    {
     "name": "stdout",
     "output_type": "stream",
     "text": [
      "Ivanka Trump Backed Her Dad Even As She Knew He Lied, Ex-White House Aide Points Out She shouldn't have stood by Donald Trump's side as he kept pushing  lies that the election he lost was rigged, said former press secretary Stephanie Grisham.\n"
     ]
    }
   ],
   "source": [
    "data.loc[:, 'news'] = data['headline'].fillna('') + ' ' + data['short_description'].fillna('')\n",
    "data = data[['news','category']]\n",
    "print(data.loc[i]['news'])"
   ]
  },
  {
   "cell_type": "markdown",
   "id": "4926afcf",
   "metadata": {},
   "source": [
    "### News Data Preprocessing [Text Preprocessing]:"
   ]
  },
  {
   "cell_type": "code",
   "execution_count": 14,
   "id": "e6aa23bb",
   "metadata": {},
   "outputs": [],
   "source": [
    "import nltk, re\n",
    "from nltk.corpus import stopwords\n",
    "from nltk.stem import SnowballStemmer, WordNetLemmatizer"
   ]
  },
  {
   "cell_type": "code",
   "execution_count": 15,
   "id": "54da0636",
   "metadata": {},
   "outputs": [],
   "source": [
    "# nltk.download('all')"
   ]
  },
  {
   "cell_type": "code",
   "execution_count": 16,
   "id": "ec562020",
   "metadata": {},
   "outputs": [],
   "source": [
    "stop_words = set(stopwords.words('english'))\n",
    "stemmer = SnowballStemmer(language='english')\n",
    "lemmatizer = WordNetLemmatizer()"
   ]
  },
  {
   "cell_type": "code",
   "execution_count": 17,
   "id": "3c6a40f0",
   "metadata": {},
   "outputs": [],
   "source": [
    "def preprocess_text(text: str) -> str:\n",
    "    \n",
    "    text = text.lower().strip()\n",
    "    tokens = []\n",
    "    for token in text.split():\n",
    "        if token not in stop_words:\n",
    "            # if stemmer.stem:\n",
    "            if lemmatizer.lemmatize:\n",
    "                # tokens.append(stemmer.stem(token))\n",
    "                tokens.append(lemmatizer.lemmatize(token))\n",
    "            else:\n",
    "                tokens.append(token)\n",
    "    return \" \".join(tokens)"
   ]
  },
  {
   "cell_type": "code",
   "execution_count": 18,
   "id": "12f9b464",
   "metadata": {},
   "outputs": [
    {
     "data": {
      "text/plain": [
       "\"ivanka trump backed dad even knew lied, ex-white house aide point stood donald trump's side kept pushing lie election lost rigged, said former press secretary stephanie grisham.\""
      ]
     },
     "execution_count": 18,
     "metadata": {},
     "output_type": "execute_result"
    }
   ],
   "source": [
    "# Sample Text:\n",
    "preprocess_text(data.loc[i]['news'])"
   ]
  },
  {
   "cell_type": "code",
   "execution_count": 19,
   "id": "26bc3f7d",
   "metadata": {},
   "outputs": [],
   "source": [
    "data['preprocessed_news'] = data['news'].apply(lambda txt: preprocess_text(txt))"
   ]
  },
  {
   "cell_type": "code",
   "execution_count": 20,
   "id": "4a146d88",
   "metadata": {},
   "outputs": [
    {
     "data": {
      "text/html": [
       "<div>\n",
       "<style scoped>\n",
       "    .dataframe tbody tr th:only-of-type {\n",
       "        vertical-align: middle;\n",
       "    }\n",
       "\n",
       "    .dataframe tbody tr th {\n",
       "        vertical-align: top;\n",
       "    }\n",
       "\n",
       "    .dataframe thead th {\n",
       "        text-align: right;\n",
       "    }\n",
       "</style>\n",
       "<table border=\"1\" class=\"dataframe\">\n",
       "  <thead>\n",
       "    <tr style=\"text-align: right;\">\n",
       "      <th></th>\n",
       "      <th>news</th>\n",
       "      <th>category</th>\n",
       "      <th>preprocessed_news</th>\n",
       "    </tr>\n",
       "  </thead>\n",
       "  <tbody>\n",
       "    <tr>\n",
       "      <th>0</th>\n",
       "      <td>Over 4 Million Americans Roll Up Sleeves For O...</td>\n",
       "      <td>U.S. NEWS</td>\n",
       "      <td>4 million american roll sleeve omicron-targete...</td>\n",
       "    </tr>\n",
       "    <tr>\n",
       "      <th>1</th>\n",
       "      <td>American Airlines Flyer Charged, Banned For Li...</td>\n",
       "      <td>U.S. NEWS</td>\n",
       "      <td>american airline flyer charged, banned life pu...</td>\n",
       "    </tr>\n",
       "  </tbody>\n",
       "</table>\n",
       "</div>"
      ],
      "text/plain": [
       "                                                news  ...                                  preprocessed_news\n",
       "0  Over 4 Million Americans Roll Up Sleeves For O...  ...  4 million american roll sleeve omicron-targete...\n",
       "1  American Airlines Flyer Charged, Banned For Li...  ...  american airline flyer charged, banned life pu...\n",
       "\n",
       "[2 rows x 3 columns]"
      ]
     },
     "execution_count": 20,
     "metadata": {},
     "output_type": "execute_result"
    }
   ],
   "source": [
    "data.head(2)"
   ]
  },
  {
   "cell_type": "markdown",
   "id": "60bb1e43",
   "metadata": {},
   "source": [
    "---\n",
    "\n",
    "### Preprocessed News data vectorization & Label Encoding:"
   ]
  },
  {
   "cell_type": "code",
   "execution_count": 21,
   "id": "af32af70",
   "metadata": {},
   "outputs": [],
   "source": [
    "from sklearn.feature_extraction.text import TfidfVectorizer\n",
    "from sklearn.preprocessing import LabelEncoder"
   ]
  },
  {
   "cell_type": "code",
   "execution_count": 22,
   "id": "b9ed60ff",
   "metadata": {},
   "outputs": [],
   "source": [
    "vectorizer = TfidfVectorizer(max_features=5000, ngram_range=(1,2), stop_words='english')\n",
    "label_encoder = LabelEncoder()"
   ]
  },
  {
   "cell_type": "code",
   "execution_count": 23,
   "id": "896b4f1d",
   "metadata": {},
   "outputs": [],
   "source": [
    "X = vectorizer.fit_transform(data['preprocessed_news'])\n",
    "y = label_encoder.fit_transform(data['category'])"
   ]
  },
  {
   "cell_type": "markdown",
   "id": "67b6d881",
   "metadata": {},
   "source": [
    "---\n",
    "### Splitting Train Test Data:"
   ]
  },
  {
   "cell_type": "code",
   "execution_count": 24,
   "id": "7b406bc1",
   "metadata": {},
   "outputs": [],
   "source": [
    "from sklearn.model_selection import train_test_split"
   ]
  },
  {
   "cell_type": "code",
   "execution_count": null,
   "id": "5f0036d9",
   "metadata": {},
   "outputs": [
    {
     "name": "stdout",
     "output_type": "stream",
     "text": [
      "\n",
      "TRAIN DATA SHAPE: (146668, 5000)\n",
      "TEST DATA SHAPE: (62859, 5000)      \n",
      "\n"
     ]
    }
   ],
   "source": [
    "X_train, X_test, y_train, y_test = train_test_split(X, y, test_size=0.3, random_state=42)\n",
    "\n",
    "print(f\"\"\"\n",
    "TRAIN DATA SHAPE: {X_train.shape}\n",
    "TEST DATA SHAPE: {X_test.shape}      \n",
    "\"\"\")"
   ]
  },
  {
   "cell_type": "markdown",
   "id": "2114d1db",
   "metadata": {},
   "source": [
    "---\n",
    "### Handling the Imbalances among the data:"
   ]
  },
  {
   "cell_type": "code",
   "execution_count": 56,
   "id": "d69b6521",
   "metadata": {},
   "outputs": [],
   "source": [
    "# Setting up minority classes and majority classes threshold:\n",
    "\n",
    "MINORITY_THRESHOLD = 3000\n",
    "MAJORITY_THRESHOLD = 10000"
   ]
  },
  {
   "cell_type": "code",
   "execution_count": 57,
   "id": "a696923c",
   "metadata": {},
   "outputs": [],
   "source": [
    "train_data_categories, counts = np.unique(y_train, return_counts=True)\n",
    "category_counts = {int(cls): int(count) for cls, count in zip(train_data_categories, counts)}"
   ]
  },
  {
   "cell_type": "code",
   "execution_count": 58,
   "id": "66124337",
   "metadata": {},
   "outputs": [],
   "source": [
    "minority_classes = [cls for cls, count in category_counts.items() if count < MINORITY_THRESHOLD]\n",
    "majority_classes = [cls for cls, count in category_counts.items() if count > MAJORITY_THRESHOLD]"
   ]
  },
  {
   "cell_type": "markdown",
   "id": "c4505094",
   "metadata": {},
   "source": [
    "category wise sampling strategy:"
   ]
  },
  {
   "cell_type": "code",
   "execution_count": 59,
   "id": "69d49d33",
   "metadata": {},
   "outputs": [],
   "source": [
    "oversampling_strat:dict = {cls: MINORITY_THRESHOLD for cls in minority_classes}\n",
    "undersampling_strat:dict = {cls: MAJORITY_THRESHOLD for cls in majority_classes}"
   ]
  },
  {
   "cell_type": "code",
   "execution_count": 60,
   "id": "0e0e746d",
   "metadata": {},
   "outputs": [
    {
     "data": {
      "text/plain": [
       "{10: 10000, 24: 10000, 38: 10000}"
      ]
     },
     "execution_count": 60,
     "metadata": {},
     "output_type": "execute_result"
    }
   ],
   "source": [
    "undersampling_strat"
   ]
  },
  {
   "cell_type": "markdown",
   "id": "fe8f4623",
   "metadata": {},
   "source": [
    "sampling pipeline:"
   ]
  },
  {
   "cell_type": "code",
   "execution_count": 61,
   "id": "07df7880",
   "metadata": {},
   "outputs": [],
   "source": [
    "from imblearn.under_sampling import RandomUnderSampler\n",
    "from imblearn.over_sampling import SMOTE\n",
    "from imblearn.pipeline import Pipeline\n",
    "from collections import Counter\n",
    "\n",
    "over = SMOTE(sampling_strategy=oversampling_strat, random_state=42)\n",
    "under = RandomUnderSampler(sampling_strategy=undersampling_strat, random_state=42)\n",
    "\n",
    "sampling_pipeline = Pipeline([\n",
    "    ('under', under),\n",
    "    ('over',over)\n",
    "])"
   ]
  },
  {
   "cell_type": "code",
   "execution_count": 62,
   "id": "ec8771a1",
   "metadata": {},
   "outputs": [
    {
     "name": "stdout",
     "output_type": "stream",
     "text": [
      "\n",
      "SAMPLED TRAIN DATA [Hybrid Sampling - over and under sampling both]\n",
      "Features: (165088, 5000)\n",
      "Categories: (165088,)\n",
      "\n"
     ]
    }
   ],
   "source": [
    "X_train_sampled, y_train_sampled = sampling_pipeline.fit_resample(X_train, y_train)\n",
    "\n",
    "\n",
    "print(f\"\"\"\n",
    "SAMPLED TRAIN DATA [Hybrid Sampling - over and under sampling both]\n",
    "Features: {X_train_sampled.shape}\n",
    "Categories: {y_train_sampled.shape}\n",
    "\"\"\")"
   ]
  },
  {
   "cell_type": "markdown",
   "id": "002795b6",
   "metadata": {},
   "source": [
    "---\n",
    "### SVM Model Fit and predict:\n",
    "\n",
    "- Will train model with both imbalanced data and balanced (sampled data) as well to compare the both."
   ]
  },
  {
   "cell_type": "code",
   "execution_count": 63,
   "id": "cc105fef",
   "metadata": {},
   "outputs": [],
   "source": [
    "from sklearn.svm import SVC"
   ]
  },
  {
   "cell_type": "code",
   "execution_count": null,
   "id": "e6b2c67a",
   "metadata": {},
   "outputs": [
    {
     "name": "stdout",
     "output_type": "stream",
     "text": [
      "[LibSVM]"
     ]
    }
   ],
   "source": [
    "# SVM training on Sampled Data:\n",
    "svm = SVC(kernel='linear', class_weight='balanced', random_state=42, C=1,verbose=True)\n",
    "svm.fit(X_train_sampled, y_train_sampled)"
   ]
  },
  {
   "cell_type": "markdown",
   "id": "c42c72a8",
   "metadata": {},
   "source": [
    "---\n",
    "### Trained Model Evaluation:"
   ]
  },
  {
   "cell_type": "code",
   "execution_count": 40,
   "id": "689131db",
   "metadata": {},
   "outputs": [],
   "source": [
    "from sklearn.metrics import confusion_matrix, classification_report, accuracy_score"
   ]
  },
  {
   "cell_type": "code",
   "execution_count": null,
   "id": "5ccfe067",
   "metadata": {},
   "outputs": [],
   "source": [
    "y_pred = svm.predict(X_test)"
   ]
  },
  {
   "cell_type": "markdown",
   "id": "29babf8d",
   "metadata": {},
   "source": [
    "**Accuracy:**"
   ]
  },
  {
   "cell_type": "code",
   "execution_count": null,
   "id": "f7cfc62b",
   "metadata": {},
   "outputs": [
    {
     "name": "stdout",
     "output_type": "stream",
     "text": [
      "\n",
      "Accuracy Score [balanced]: 0.50        \n",
      "\n"
     ]
    }
   ],
   "source": [
    "print(f\"\"\"\n",
    "Accuracy Score [balanced]: {accuracy_score(y_test, y_pred):.2f}\"\"\")"
   ]
  },
  {
   "cell_type": "markdown",
   "id": "4b91d2af",
   "metadata": {},
   "source": [
    "**Confusion Matrix:**"
   ]
  },
  {
   "cell_type": "code",
   "execution_count": null,
   "id": "378d1120",
   "metadata": {},
   "outputs": [],
   "source": [
    "cm = confusion_matrix(y_test, y_pred)"
   ]
  },
  {
   "cell_type": "code",
   "execution_count": 1,
   "id": "2ea07fd3",
   "metadata": {},
   "outputs": [],
   "source": [
    "# plt.figure(figsize=(12,10), dpi=500)\n",
    "# sns.heatmap(cm, annot=True)\n",
    "# plt.title('Confusion Matrix: Model Trained on Imbalanced Data')\n",
    "# plt.show()"
   ]
  },
  {
   "cell_type": "markdown",
   "id": "c40e1d99",
   "metadata": {},
   "source": [
    "**Classification Report:**"
   ]
  },
  {
   "cell_type": "code",
   "execution_count": null,
   "id": "a13c2d13",
   "metadata": {},
   "outputs": [
    {
     "name": "stdout",
     "output_type": "stream",
     "text": [
      "\n",
      "Classification Report\n",
      "              precision    recall  f1-score   support\n",
      "\n",
      "           0       0.13      0.32      0.19       438\n",
      "           1       0.19      0.29      0.23       388\n",
      "           2       0.36      0.45      0.40      1378\n",
      "           3       0.39      0.45      0.41      1796\n",
      "           4       0.26      0.48      0.33       297\n",
      "           5       0.40      0.47      0.43      1620\n",
      "           6       0.42      0.61      0.50      1094\n",
      "           7       0.27      0.34      0.30       309\n",
      "           8       0.67      0.73      0.70      1013\n",
      "           9       0.26      0.53      0.35       315\n",
      "          10       0.70      0.47      0.56      5148\n",
      "          11       0.30      0.37      0.34       442\n",
      "          12       0.11      0.23      0.14       413\n",
      "          13       0.57      0.57      0.57      1896\n",
      "          14       0.19      0.29      0.23       402\n",
      "          15       0.27      0.42      0.33       781\n",
      "          16       0.28      0.32      0.30      2001\n",
      "          17       0.63      0.71      0.67      1292\n",
      "          18       0.25      0.32      0.28      1038\n",
      "          19       0.26      0.41      0.31       350\n",
      "          20       0.34      0.56      0.42       880\n",
      "          21       0.34      0.53      0.42       534\n",
      "          22       0.52      0.47      0.49      2673\n",
      "          23       0.29      0.39      0.33      1200\n",
      "          24       0.88      0.52      0.66     10653\n",
      "          25       0.72      0.63      0.67      1899\n",
      "          26       0.43      0.54      0.48       785\n",
      "          27       0.34      0.49      0.40       629\n",
      "          28       0.58      0.67      0.62      1532\n",
      "          29       0.30      0.48      0.37       676\n",
      "          30       0.85      0.68      0.75      3010\n",
      "          31       0.23      0.38      0.29       619\n",
      "          32       0.34      0.53      0.41       611\n",
      "          33       0.41      0.44      0.43      1103\n",
      "          34       0.74      0.65      0.69      3073\n",
      "          35       0.14      0.22      0.17       388\n",
      "          36       0.69      0.77      0.73      1104\n",
      "          37       0.26      0.27      0.27       837\n",
      "          38       0.69      0.45      0.55      5423\n",
      "          39       0.30      0.42      0.35      1059\n",
      "          40       0.36      0.38      0.37       967\n",
      "          41       0.31      0.38      0.34       793\n",
      "\n",
      "    accuracy                           0.50     62859\n",
      "   macro avg       0.40      0.47      0.42     62859\n",
      "weighted avg       0.58      0.50      0.52     62859\n",
      "\n",
      "---------------------------------------------------------------------------\n",
      "\n"
     ]
    }
   ],
   "source": [
    "print(f\"\"\"\n",
    "Classification Report\n",
    "{classification_report(y_test, y_pred)}\n",
    "{'-'*75}\n",
    "\"\"\")"
   ]
  },
  {
   "cell_type": "markdown",
   "id": "0e55f21b",
   "metadata": {},
   "source": [
    "---\n",
    "### Dumping Trained Model:"
   ]
  },
  {
   "cell_type": "code",
   "execution_count": null,
   "id": "ddceef05",
   "metadata": {},
   "outputs": [],
   "source": [
    "is_bal = True\n",
    "\n",
    "model_file_name = f\"svm_acc{int(accuracy_score(y_test, y_pred)*100)}_{'bal' if is_bal else 'imb'}_{int(X_train.shape[1])}.pkl\"\n",
    "# Save Trained model pickle file:\n",
    "from pickle4 import pickle\n",
    "\n",
    "with open(model_file_name, 'wb') as file:\n",
    "    pickle.dump(svm, file)"
   ]
  },
  {
   "cell_type": "markdown",
   "id": "4de0febe",
   "metadata": {},
   "source": [
    "---\n",
    "By Kirtan Ghelani $@SculptSoft$\n",
    "\n",
    "\n",
    "`status: Training Complete| Hyperparameter tuning & performance improvement left.`"
   ]
  }
 ],
 "metadata": {
  "kernelspec": {
   "display_name": "Python 3",
   "language": "python",
   "name": "python3"
  },
  "language_info": {
   "codemirror_mode": {
    "name": "ipython",
    "version": 3
   },
   "file_extension": ".py",
   "mimetype": "text/x-python",
   "name": "python",
   "nbconvert_exporter": "python",
   "pygments_lexer": "ipython3",
   "version": "3.10.16"
  }
 },
 "nbformat": 4,
 "nbformat_minor": 5
}
