{
 "cells": [
  {
   "cell_type": "markdown",
   "id": "4df953aa",
   "metadata": {},
   "source": [
    "# Support Vector Machine [SVM] - Classification:\n"
   ]
  }
 ],
 "metadata": {
  "language_info": {
   "name": "python"
  }
 },
 "nbformat": 4,
 "nbformat_minor": 5
}
