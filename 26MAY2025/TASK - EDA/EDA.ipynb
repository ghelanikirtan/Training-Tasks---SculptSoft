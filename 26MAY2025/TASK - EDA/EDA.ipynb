{
 "cells": [
  {
   "cell_type": "markdown",
   "id": "539088d7",
   "metadata": {},
   "source": [
    "# EDA - Exploratory Data Analysis:\n",
    "\n",
    "- Dataset Used: [FaceBook Data - Kaggle 🔗](https://www.kaggle.com/datasets/sheenabatra/facebook-data/data)"
   ]
  },
  {
   "cell_type": "markdown",
   "id": "3dd246ed",
   "metadata": {},
   "source": [
    "### Step 1: Importing Libraries:"
   ]
  },
  {
   "cell_type": "code",
   "execution_count": 52,
   "id": "e619492a",
   "metadata": {},
   "outputs": [],
   "source": [
    "# Imports\n",
    "import numpy as np\n",
    "import pandas as pd\n",
    "import matplotlib.pyplot as plt\n",
    "import seaborn as sns"
   ]
  },
  {
   "cell_type": "markdown",
   "id": "df87aadc",
   "metadata": {},
   "source": [
    "### Step 2: Loading Dataset and Understanding the data:"
   ]
  },
  {
   "cell_type": "code",
   "execution_count": 25,
   "id": "e8e3db07",
   "metadata": {},
   "outputs": [],
   "source": [
    "PATH = 'pseudo_facebook.csv'\n",
    "\n",
    "df = pd.read_csv(PATH, index_col = 'userid' )"
   ]
  },
  {
   "cell_type": "code",
   "execution_count": 26,
   "id": "86f63257",
   "metadata": {},
   "outputs": [
    {
     "data": {
      "text/html": [
       "<div>\n",
       "<style scoped>\n",
       "    .dataframe tbody tr th:only-of-type {\n",
       "        vertical-align: middle;\n",
       "    }\n",
       "\n",
       "    .dataframe tbody tr th {\n",
       "        vertical-align: top;\n",
       "    }\n",
       "\n",
       "    .dataframe thead th {\n",
       "        text-align: right;\n",
       "    }\n",
       "</style>\n",
       "<table border=\"1\" class=\"dataframe\">\n",
       "  <thead>\n",
       "    <tr style=\"text-align: right;\">\n",
       "      <th></th>\n",
       "      <th>age</th>\n",
       "      <th>dob_day</th>\n",
       "      <th>dob_year</th>\n",
       "      <th>dob_month</th>\n",
       "      <th>gender</th>\n",
       "      <th>tenure</th>\n",
       "      <th>friend_count</th>\n",
       "      <th>friendships_initiated</th>\n",
       "      <th>likes</th>\n",
       "      <th>likes_received</th>\n",
       "      <th>mobile_likes</th>\n",
       "      <th>mobile_likes_received</th>\n",
       "      <th>www_likes</th>\n",
       "      <th>www_likes_received</th>\n",
       "    </tr>\n",
       "    <tr>\n",
       "      <th>userid</th>\n",
       "      <th></th>\n",
       "      <th></th>\n",
       "      <th></th>\n",
       "      <th></th>\n",
       "      <th></th>\n",
       "      <th></th>\n",
       "      <th></th>\n",
       "      <th></th>\n",
       "      <th></th>\n",
       "      <th></th>\n",
       "      <th></th>\n",
       "      <th></th>\n",
       "      <th></th>\n",
       "      <th></th>\n",
       "    </tr>\n",
       "  </thead>\n",
       "  <tbody>\n",
       "    <tr>\n",
       "      <th>2094382</th>\n",
       "      <td>14</td>\n",
       "      <td>19</td>\n",
       "      <td>1999</td>\n",
       "      <td>11</td>\n",
       "      <td>male</td>\n",
       "      <td>266.0</td>\n",
       "      <td>0</td>\n",
       "      <td>0</td>\n",
       "      <td>0</td>\n",
       "      <td>0</td>\n",
       "      <td>0</td>\n",
       "      <td>0</td>\n",
       "      <td>0</td>\n",
       "      <td>0</td>\n",
       "    </tr>\n",
       "    <tr>\n",
       "      <th>1192601</th>\n",
       "      <td>14</td>\n",
       "      <td>2</td>\n",
       "      <td>1999</td>\n",
       "      <td>11</td>\n",
       "      <td>female</td>\n",
       "      <td>6.0</td>\n",
       "      <td>0</td>\n",
       "      <td>0</td>\n",
       "      <td>0</td>\n",
       "      <td>0</td>\n",
       "      <td>0</td>\n",
       "      <td>0</td>\n",
       "      <td>0</td>\n",
       "      <td>0</td>\n",
       "    </tr>\n",
       "    <tr>\n",
       "      <th>2083884</th>\n",
       "      <td>14</td>\n",
       "      <td>16</td>\n",
       "      <td>1999</td>\n",
       "      <td>11</td>\n",
       "      <td>male</td>\n",
       "      <td>13.0</td>\n",
       "      <td>0</td>\n",
       "      <td>0</td>\n",
       "      <td>0</td>\n",
       "      <td>0</td>\n",
       "      <td>0</td>\n",
       "      <td>0</td>\n",
       "      <td>0</td>\n",
       "      <td>0</td>\n",
       "    </tr>\n",
       "    <tr>\n",
       "      <th>1203168</th>\n",
       "      <td>14</td>\n",
       "      <td>25</td>\n",
       "      <td>1999</td>\n",
       "      <td>12</td>\n",
       "      <td>female</td>\n",
       "      <td>93.0</td>\n",
       "      <td>0</td>\n",
       "      <td>0</td>\n",
       "      <td>0</td>\n",
       "      <td>0</td>\n",
       "      <td>0</td>\n",
       "      <td>0</td>\n",
       "      <td>0</td>\n",
       "      <td>0</td>\n",
       "    </tr>\n",
       "    <tr>\n",
       "      <th>1733186</th>\n",
       "      <td>14</td>\n",
       "      <td>4</td>\n",
       "      <td>1999</td>\n",
       "      <td>12</td>\n",
       "      <td>male</td>\n",
       "      <td>82.0</td>\n",
       "      <td>0</td>\n",
       "      <td>0</td>\n",
       "      <td>0</td>\n",
       "      <td>0</td>\n",
       "      <td>0</td>\n",
       "      <td>0</td>\n",
       "      <td>0</td>\n",
       "      <td>0</td>\n",
       "    </tr>\n",
       "    <tr>\n",
       "      <th>1524765</th>\n",
       "      <td>14</td>\n",
       "      <td>1</td>\n",
       "      <td>1999</td>\n",
       "      <td>12</td>\n",
       "      <td>male</td>\n",
       "      <td>15.0</td>\n",
       "      <td>0</td>\n",
       "      <td>0</td>\n",
       "      <td>0</td>\n",
       "      <td>0</td>\n",
       "      <td>0</td>\n",
       "      <td>0</td>\n",
       "      <td>0</td>\n",
       "      <td>0</td>\n",
       "    </tr>\n",
       "    <tr>\n",
       "      <th>1136133</th>\n",
       "      <td>13</td>\n",
       "      <td>14</td>\n",
       "      <td>2000</td>\n",
       "      <td>1</td>\n",
       "      <td>male</td>\n",
       "      <td>12.0</td>\n",
       "      <td>0</td>\n",
       "      <td>0</td>\n",
       "      <td>0</td>\n",
       "      <td>0</td>\n",
       "      <td>0</td>\n",
       "      <td>0</td>\n",
       "      <td>0</td>\n",
       "      <td>0</td>\n",
       "    </tr>\n",
       "    <tr>\n",
       "      <th>1680361</th>\n",
       "      <td>13</td>\n",
       "      <td>4</td>\n",
       "      <td>2000</td>\n",
       "      <td>1</td>\n",
       "      <td>female</td>\n",
       "      <td>0.0</td>\n",
       "      <td>0</td>\n",
       "      <td>0</td>\n",
       "      <td>0</td>\n",
       "      <td>0</td>\n",
       "      <td>0</td>\n",
       "      <td>0</td>\n",
       "      <td>0</td>\n",
       "      <td>0</td>\n",
       "    </tr>\n",
       "    <tr>\n",
       "      <th>1365174</th>\n",
       "      <td>13</td>\n",
       "      <td>1</td>\n",
       "      <td>2000</td>\n",
       "      <td>1</td>\n",
       "      <td>male</td>\n",
       "      <td>81.0</td>\n",
       "      <td>0</td>\n",
       "      <td>0</td>\n",
       "      <td>0</td>\n",
       "      <td>0</td>\n",
       "      <td>0</td>\n",
       "      <td>0</td>\n",
       "      <td>0</td>\n",
       "      <td>0</td>\n",
       "    </tr>\n",
       "    <tr>\n",
       "      <th>1712567</th>\n",
       "      <td>13</td>\n",
       "      <td>2</td>\n",
       "      <td>2000</td>\n",
       "      <td>2</td>\n",
       "      <td>male</td>\n",
       "      <td>171.0</td>\n",
       "      <td>0</td>\n",
       "      <td>0</td>\n",
       "      <td>0</td>\n",
       "      <td>0</td>\n",
       "      <td>0</td>\n",
       "      <td>0</td>\n",
       "      <td>0</td>\n",
       "      <td>0</td>\n",
       "    </tr>\n",
       "  </tbody>\n",
       "</table>\n",
       "</div>"
      ],
      "text/plain": [
       "         age  dob_day  dob_year  dob_month  gender  tenure  friend_count  \\\n",
       "userid                                                                     \n",
       "2094382   14       19      1999         11    male   266.0             0   \n",
       "1192601   14        2      1999         11  female     6.0             0   \n",
       "2083884   14       16      1999         11    male    13.0             0   \n",
       "1203168   14       25      1999         12  female    93.0             0   \n",
       "1733186   14        4      1999         12    male    82.0             0   \n",
       "1524765   14        1      1999         12    male    15.0             0   \n",
       "1136133   13       14      2000          1    male    12.0             0   \n",
       "1680361   13        4      2000          1  female     0.0             0   \n",
       "1365174   13        1      2000          1    male    81.0             0   \n",
       "1712567   13        2      2000          2    male   171.0             0   \n",
       "\n",
       "         friendships_initiated  likes  likes_received  mobile_likes  \\\n",
       "userid                                                                \n",
       "2094382                      0      0               0             0   \n",
       "1192601                      0      0               0             0   \n",
       "2083884                      0      0               0             0   \n",
       "1203168                      0      0               0             0   \n",
       "1733186                      0      0               0             0   \n",
       "1524765                      0      0               0             0   \n",
       "1136133                      0      0               0             0   \n",
       "1680361                      0      0               0             0   \n",
       "1365174                      0      0               0             0   \n",
       "1712567                      0      0               0             0   \n",
       "\n",
       "         mobile_likes_received  www_likes  www_likes_received  \n",
       "userid                                                         \n",
       "2094382                      0          0                   0  \n",
       "1192601                      0          0                   0  \n",
       "2083884                      0          0                   0  \n",
       "1203168                      0          0                   0  \n",
       "1733186                      0          0                   0  \n",
       "1524765                      0          0                   0  \n",
       "1136133                      0          0                   0  \n",
       "1680361                      0          0                   0  \n",
       "1365174                      0          0                   0  \n",
       "1712567                      0          0                   0  "
      ]
     },
     "execution_count": 26,
     "metadata": {},
     "output_type": "execute_result"
    }
   ],
   "source": [
    "df.head(10)"
   ]
  },
  {
   "cell_type": "code",
   "execution_count": 27,
   "id": "f9d034fd",
   "metadata": {},
   "outputs": [
    {
     "name": "stdout",
     "output_type": "stream",
     "text": [
      "<class 'pandas.core.frame.DataFrame'>\n",
      "Index: 99003 entries, 2094382 to 1397896\n",
      "Data columns (total 14 columns):\n",
      " #   Column                 Non-Null Count  Dtype  \n",
      "---  ------                 --------------  -----  \n",
      " 0   age                    99003 non-null  int64  \n",
      " 1   dob_day                99003 non-null  int64  \n",
      " 2   dob_year               99003 non-null  int64  \n",
      " 3   dob_month              99003 non-null  int64  \n",
      " 4   gender                 98828 non-null  object \n",
      " 5   tenure                 99001 non-null  float64\n",
      " 6   friend_count           99003 non-null  int64  \n",
      " 7   friendships_initiated  99003 non-null  int64  \n",
      " 8   likes                  99003 non-null  int64  \n",
      " 9   likes_received         99003 non-null  int64  \n",
      " 10  mobile_likes           99003 non-null  int64  \n",
      " 11  mobile_likes_received  99003 non-null  int64  \n",
      " 12  www_likes              99003 non-null  int64  \n",
      " 13  www_likes_received     99003 non-null  int64  \n",
      "dtypes: float64(1), int64(12), object(1)\n",
      "memory usage: 11.3+ MB\n"
     ]
    }
   ],
   "source": [
    "# Summary about the dataset...\n",
    "df.info()"
   ]
  },
  {
   "cell_type": "code",
   "execution_count": 28,
   "id": "ebb58d31",
   "metadata": {},
   "outputs": [
    {
     "data": {
      "text/plain": [
       "(99003, 14)"
      ]
     },
     "execution_count": 28,
     "metadata": {},
     "output_type": "execute_result"
    }
   ],
   "source": [
    "# Shape of the data...\n",
    "df.shape"
   ]
  },
  {
   "cell_type": "code",
   "execution_count": 29,
   "id": "21f30de9",
   "metadata": {},
   "outputs": [
    {
     "data": {
      "text/html": [
       "<div>\n",
       "<style scoped>\n",
       "    .dataframe tbody tr th:only-of-type {\n",
       "        vertical-align: middle;\n",
       "    }\n",
       "\n",
       "    .dataframe tbody tr th {\n",
       "        vertical-align: top;\n",
       "    }\n",
       "\n",
       "    .dataframe thead th {\n",
       "        text-align: right;\n",
       "    }\n",
       "</style>\n",
       "<table border=\"1\" class=\"dataframe\">\n",
       "  <thead>\n",
       "    <tr style=\"text-align: right;\">\n",
       "      <th></th>\n",
       "      <th>count</th>\n",
       "      <th>mean</th>\n",
       "      <th>std</th>\n",
       "      <th>min</th>\n",
       "      <th>25%</th>\n",
       "      <th>50%</th>\n",
       "      <th>75%</th>\n",
       "      <th>max</th>\n",
       "    </tr>\n",
       "  </thead>\n",
       "  <tbody>\n",
       "    <tr>\n",
       "      <th>age</th>\n",
       "      <td>99003.0</td>\n",
       "      <td>37.280224</td>\n",
       "      <td>22.589748</td>\n",
       "      <td>13.0</td>\n",
       "      <td>20.0</td>\n",
       "      <td>28.0</td>\n",
       "      <td>50.0</td>\n",
       "      <td>113.0</td>\n",
       "    </tr>\n",
       "    <tr>\n",
       "      <th>dob_day</th>\n",
       "      <td>99003.0</td>\n",
       "      <td>14.530408</td>\n",
       "      <td>9.015606</td>\n",
       "      <td>1.0</td>\n",
       "      <td>7.0</td>\n",
       "      <td>14.0</td>\n",
       "      <td>22.0</td>\n",
       "      <td>31.0</td>\n",
       "    </tr>\n",
       "    <tr>\n",
       "      <th>dob_year</th>\n",
       "      <td>99003.0</td>\n",
       "      <td>1975.719776</td>\n",
       "      <td>22.589748</td>\n",
       "      <td>1900.0</td>\n",
       "      <td>1963.0</td>\n",
       "      <td>1985.0</td>\n",
       "      <td>1993.0</td>\n",
       "      <td>2000.0</td>\n",
       "    </tr>\n",
       "    <tr>\n",
       "      <th>dob_month</th>\n",
       "      <td>99003.0</td>\n",
       "      <td>6.283365</td>\n",
       "      <td>3.529672</td>\n",
       "      <td>1.0</td>\n",
       "      <td>3.0</td>\n",
       "      <td>6.0</td>\n",
       "      <td>9.0</td>\n",
       "      <td>12.0</td>\n",
       "    </tr>\n",
       "    <tr>\n",
       "      <th>tenure</th>\n",
       "      <td>99001.0</td>\n",
       "      <td>537.887375</td>\n",
       "      <td>457.649874</td>\n",
       "      <td>0.0</td>\n",
       "      <td>226.0</td>\n",
       "      <td>412.0</td>\n",
       "      <td>675.0</td>\n",
       "      <td>3139.0</td>\n",
       "    </tr>\n",
       "    <tr>\n",
       "      <th>friend_count</th>\n",
       "      <td>99003.0</td>\n",
       "      <td>196.350787</td>\n",
       "      <td>387.304229</td>\n",
       "      <td>0.0</td>\n",
       "      <td>31.0</td>\n",
       "      <td>82.0</td>\n",
       "      <td>206.0</td>\n",
       "      <td>4923.0</td>\n",
       "    </tr>\n",
       "    <tr>\n",
       "      <th>friendships_initiated</th>\n",
       "      <td>99003.0</td>\n",
       "      <td>107.452471</td>\n",
       "      <td>188.786951</td>\n",
       "      <td>0.0</td>\n",
       "      <td>17.0</td>\n",
       "      <td>46.0</td>\n",
       "      <td>117.0</td>\n",
       "      <td>4144.0</td>\n",
       "    </tr>\n",
       "    <tr>\n",
       "      <th>likes</th>\n",
       "      <td>99003.0</td>\n",
       "      <td>156.078785</td>\n",
       "      <td>572.280681</td>\n",
       "      <td>0.0</td>\n",
       "      <td>1.0</td>\n",
       "      <td>11.0</td>\n",
       "      <td>81.0</td>\n",
       "      <td>25111.0</td>\n",
       "    </tr>\n",
       "    <tr>\n",
       "      <th>likes_received</th>\n",
       "      <td>99003.0</td>\n",
       "      <td>142.689363</td>\n",
       "      <td>1387.919613</td>\n",
       "      <td>0.0</td>\n",
       "      <td>1.0</td>\n",
       "      <td>8.0</td>\n",
       "      <td>59.0</td>\n",
       "      <td>261197.0</td>\n",
       "    </tr>\n",
       "    <tr>\n",
       "      <th>mobile_likes</th>\n",
       "      <td>99003.0</td>\n",
       "      <td>106.116300</td>\n",
       "      <td>445.252985</td>\n",
       "      <td>0.0</td>\n",
       "      <td>0.0</td>\n",
       "      <td>4.0</td>\n",
       "      <td>46.0</td>\n",
       "      <td>25111.0</td>\n",
       "    </tr>\n",
       "    <tr>\n",
       "      <th>mobile_likes_received</th>\n",
       "      <td>99003.0</td>\n",
       "      <td>84.120491</td>\n",
       "      <td>839.889444</td>\n",
       "      <td>0.0</td>\n",
       "      <td>0.0</td>\n",
       "      <td>4.0</td>\n",
       "      <td>33.0</td>\n",
       "      <td>138561.0</td>\n",
       "    </tr>\n",
       "    <tr>\n",
       "      <th>www_likes</th>\n",
       "      <td>99003.0</td>\n",
       "      <td>49.962425</td>\n",
       "      <td>285.560152</td>\n",
       "      <td>0.0</td>\n",
       "      <td>0.0</td>\n",
       "      <td>0.0</td>\n",
       "      <td>7.0</td>\n",
       "      <td>14865.0</td>\n",
       "    </tr>\n",
       "    <tr>\n",
       "      <th>www_likes_received</th>\n",
       "      <td>99003.0</td>\n",
       "      <td>58.568831</td>\n",
       "      <td>601.416348</td>\n",
       "      <td>0.0</td>\n",
       "      <td>0.0</td>\n",
       "      <td>2.0</td>\n",
       "      <td>20.0</td>\n",
       "      <td>129953.0</td>\n",
       "    </tr>\n",
       "  </tbody>\n",
       "</table>\n",
       "</div>"
      ],
      "text/plain": [
       "                         count         mean          std     min     25%  \\\n",
       "age                    99003.0    37.280224    22.589748    13.0    20.0   \n",
       "dob_day                99003.0    14.530408     9.015606     1.0     7.0   \n",
       "dob_year               99003.0  1975.719776    22.589748  1900.0  1963.0   \n",
       "dob_month              99003.0     6.283365     3.529672     1.0     3.0   \n",
       "tenure                 99001.0   537.887375   457.649874     0.0   226.0   \n",
       "friend_count           99003.0   196.350787   387.304229     0.0    31.0   \n",
       "friendships_initiated  99003.0   107.452471   188.786951     0.0    17.0   \n",
       "likes                  99003.0   156.078785   572.280681     0.0     1.0   \n",
       "likes_received         99003.0   142.689363  1387.919613     0.0     1.0   \n",
       "mobile_likes           99003.0   106.116300   445.252985     0.0     0.0   \n",
       "mobile_likes_received  99003.0    84.120491   839.889444     0.0     0.0   \n",
       "www_likes              99003.0    49.962425   285.560152     0.0     0.0   \n",
       "www_likes_received     99003.0    58.568831   601.416348     0.0     0.0   \n",
       "\n",
       "                          50%     75%       max  \n",
       "age                      28.0    50.0     113.0  \n",
       "dob_day                  14.0    22.0      31.0  \n",
       "dob_year               1985.0  1993.0    2000.0  \n",
       "dob_month                 6.0     9.0      12.0  \n",
       "tenure                  412.0   675.0    3139.0  \n",
       "friend_count             82.0   206.0    4923.0  \n",
       "friendships_initiated    46.0   117.0    4144.0  \n",
       "likes                    11.0    81.0   25111.0  \n",
       "likes_received            8.0    59.0  261197.0  \n",
       "mobile_likes              4.0    46.0   25111.0  \n",
       "mobile_likes_received     4.0    33.0  138561.0  \n",
       "www_likes                 0.0     7.0   14865.0  \n",
       "www_likes_received        2.0    20.0  129953.0  "
      ]
     },
     "execution_count": 29,
     "metadata": {},
     "output_type": "execute_result"
    }
   ],
   "source": [
    "df.describe().transpose()"
   ]
  },
  {
   "cell_type": "code",
   "execution_count": 30,
   "id": "da5bfdb8",
   "metadata": {},
   "outputs": [
    {
     "data": {
      "text/plain": [
       "age                        0\n",
       "dob_day                    0\n",
       "dob_year                   0\n",
       "dob_month                  0\n",
       "gender                   175\n",
       "tenure                     2\n",
       "friend_count               0\n",
       "friendships_initiated      0\n",
       "likes                      0\n",
       "likes_received             0\n",
       "mobile_likes               0\n",
       "mobile_likes_received      0\n",
       "www_likes                  0\n",
       "www_likes_received         0\n",
       "dtype: int64"
      ]
     },
     "execution_count": 30,
     "metadata": {},
     "output_type": "execute_result"
    }
   ],
   "source": [
    "# Finding the null Values:\n",
    "\n",
    "df.isnull().sum()"
   ]
  },
  {
   "cell_type": "markdown",
   "id": "83d82059",
   "metadata": {},
   "source": [
    "- here there are few null values we can see, we will simply drop the rows with the null values as of now...\n",
    "\n",
    "### Step 3: Data Reduction/cleaning: \n"
   ]
  },
  {
   "cell_type": "code",
   "execution_count": 34,
   "id": "54e1c012",
   "metadata": {},
   "outputs": [
    {
     "data": {
      "text/plain": [
       "age                      0\n",
       "dob_day                  0\n",
       "dob_year                 0\n",
       "dob_month                0\n",
       "gender                   0\n",
       "tenure                   0\n",
       "friend_count             0\n",
       "friendships_initiated    0\n",
       "likes                    0\n",
       "likes_received           0\n",
       "mobile_likes             0\n",
       "mobile_likes_received    0\n",
       "www_likes                0\n",
       "www_likes_received       0\n",
       "dtype: int64"
      ]
     },
     "execution_count": 34,
     "metadata": {},
     "output_type": "execute_result"
    }
   ],
   "source": [
    "df.dropna(inplace = True)\n",
    "\n",
    "\n",
    "# Now we will see no null values...\n",
    "df.isnull().sum()"
   ]
  },
  {
   "cell_type": "code",
   "execution_count": 35,
   "id": "87f9764b",
   "metadata": {},
   "outputs": [
    {
     "data": {
      "text/html": [
       "<div>\n",
       "<style scoped>\n",
       "    .dataframe tbody tr th:only-of-type {\n",
       "        vertical-align: middle;\n",
       "    }\n",
       "\n",
       "    .dataframe tbody tr th {\n",
       "        vertical-align: top;\n",
       "    }\n",
       "\n",
       "    .dataframe thead th {\n",
       "        text-align: right;\n",
       "    }\n",
       "</style>\n",
       "<table border=\"1\" class=\"dataframe\">\n",
       "  <thead>\n",
       "    <tr style=\"text-align: right;\">\n",
       "      <th></th>\n",
       "      <th>age</th>\n",
       "      <th>dob_day</th>\n",
       "      <th>dob_year</th>\n",
       "      <th>dob_month</th>\n",
       "      <th>gender</th>\n",
       "      <th>tenure</th>\n",
       "      <th>friend_count</th>\n",
       "      <th>friendships_initiated</th>\n",
       "      <th>likes</th>\n",
       "      <th>likes_received</th>\n",
       "      <th>mobile_likes</th>\n",
       "      <th>mobile_likes_received</th>\n",
       "      <th>www_likes</th>\n",
       "      <th>www_likes_received</th>\n",
       "    </tr>\n",
       "    <tr>\n",
       "      <th>userid</th>\n",
       "      <th></th>\n",
       "      <th></th>\n",
       "      <th></th>\n",
       "      <th></th>\n",
       "      <th></th>\n",
       "      <th></th>\n",
       "      <th></th>\n",
       "      <th></th>\n",
       "      <th></th>\n",
       "      <th></th>\n",
       "      <th></th>\n",
       "      <th></th>\n",
       "      <th></th>\n",
       "      <th></th>\n",
       "    </tr>\n",
       "  </thead>\n",
       "  <tbody>\n",
       "    <tr>\n",
       "      <th>2094382</th>\n",
       "      <td>14</td>\n",
       "      <td>19</td>\n",
       "      <td>1999</td>\n",
       "      <td>11</td>\n",
       "      <td>male</td>\n",
       "      <td>266.0</td>\n",
       "      <td>0</td>\n",
       "      <td>0</td>\n",
       "      <td>0</td>\n",
       "      <td>0</td>\n",
       "      <td>0</td>\n",
       "      <td>0</td>\n",
       "      <td>0</td>\n",
       "      <td>0</td>\n",
       "    </tr>\n",
       "    <tr>\n",
       "      <th>1192601</th>\n",
       "      <td>14</td>\n",
       "      <td>2</td>\n",
       "      <td>1999</td>\n",
       "      <td>11</td>\n",
       "      <td>female</td>\n",
       "      <td>6.0</td>\n",
       "      <td>0</td>\n",
       "      <td>0</td>\n",
       "      <td>0</td>\n",
       "      <td>0</td>\n",
       "      <td>0</td>\n",
       "      <td>0</td>\n",
       "      <td>0</td>\n",
       "      <td>0</td>\n",
       "    </tr>\n",
       "  </tbody>\n",
       "</table>\n",
       "</div>"
      ],
      "text/plain": [
       "         age  dob_day  dob_year  dob_month  gender  tenure  friend_count  \\\n",
       "userid                                                                     \n",
       "2094382   14       19      1999         11    male   266.0             0   \n",
       "1192601   14        2      1999         11  female     6.0             0   \n",
       "\n",
       "         friendships_initiated  likes  likes_received  mobile_likes  \\\n",
       "userid                                                                \n",
       "2094382                      0      0               0             0   \n",
       "1192601                      0      0               0             0   \n",
       "\n",
       "         mobile_likes_received  www_likes  www_likes_received  \n",
       "userid                                                         \n",
       "2094382                      0          0                   0  \n",
       "1192601                      0          0                   0  "
      ]
     },
     "execution_count": 35,
     "metadata": {},
     "output_type": "execute_result"
    }
   ],
   "source": [
    "df.head(2)"
   ]
  },
  {
   "cell_type": "markdown",
   "id": "2e5e7e3e",
   "metadata": {},
   "source": [
    "### Step 4: Feature Engineering & Feature Creation:\n",
    "\n",
    "- Let's create few age-groups to gain some meaningful insights..."
   ]
  },
  {
   "cell_type": "code",
   "execution_count": 42,
   "id": "19b6ca62",
   "metadata": {},
   "outputs": [],
   "source": [
    "age_grp_labels = [f'{st+1}-{st+10}' for st in np.arange(10,111,10)]\n",
    "\n",
    "# Adding new column of the age_grp and categorizing according to the labels...\n",
    "df['age_grp'] = pd.cut(\n",
    "    df['age'],\n",
    "    bins=np.arange(10,121,10),\n",
    "    labels=age_grp_labels,\n",
    "    right=True)"
   ]
  },
  {
   "cell_type": "markdown",
   "id": "05cb6133",
   "metadata": {},
   "source": [
    "### Step 5: Data Visualization:"
   ]
  },
  {
   "cell_type": "markdown",
   "id": "01006894",
   "metadata": {},
   "source": [
    "- Visualization of the age group wise:"
   ]
  },
  {
   "cell_type": "code",
   "execution_count": 62,
   "id": "b1a48ec0",
   "metadata": {},
   "outputs": [
    {
     "data": {
      "text/plain": [
       "Text(0, 0.5, 'Age Group')"
      ]
     },
     "execution_count": 62,
     "metadata": {},
     "output_type": "execute_result"
    },
    {
     "data": {
      "image/png": "[encoded data removed]",
      "text/plain": [
       "<Figure size 1200x1000 with 1 Axes>"
      ]
     },
     "metadata": {},
     "output_type": "display_data"
    }
   ],
   "source": [
    "plt.figure(figsize = (12, 10))\n",
    "sns.countplot(data = df['age_grp'])\n",
    "plt.title('USERS AGE GRP Distribution')\n",
    "plt.xlabel('Number of Users')\n",
    "plt.ylabel('Age Group')"
   ]
  },
  {
   "cell_type": "code",
   "execution_count": 72,
   "id": "19d3f4dd",
   "metadata": {},
   "outputs": [
    {
     "data": {
      "text/plain": [
       "Text(0.5, 1.0, 'Male & Female users according to age')"
      ]
     },
     "execution_count": 72,
     "metadata": {},
     "output_type": "execute_result"
    },
    {
     "data": {
      "image/png": "[encoded data removed]",
      "text/plain": [
       "<Figure size 1200x1000 with 1 Axes>"
      ]
     },
     "metadata": {},
     "output_type": "display_data"
    }
   ],
   "source": [
    "age_v_gender =  df[['age_grp','gender']].value_counts().reset_index()\n",
    "plt.figure(figsize = (12, 10))\n",
    "sns.barplot(data = age_v_gender, x = 'age_grp', y='count', hue='gender')\n",
    "plt.xlabel('MALE/FEMALE Age Group')\n",
    "plt.ylabel('Num of users')\n",
    "plt.title('Male & Female users according to age')"
   ]
  },
  {
   "cell_type": "code",
   "execution_count": 75,
   "id": "e90fba7a",
   "metadata": {},
   "outputs": [
    {
     "data": {
      "text/plain": [
       "Text(0.5, 1.0, 'distri. of male vs female users')"
      ]
     },
     "execution_count": 75,
     "metadata": {},
     "output_type": "execute_result"
    },
    {
     "data": {
      "image/png": "[encoded data removed]",
      "text/plain": [
       "<Figure size 500x500 with 1 Axes>"
      ]
     },
     "metadata": {},
     "output_type": "display_data"
    }
   ],
   "source": [
    "plt.figure(figsize = (5,5))\n",
    "plt.pie(\n",
    "    df['gender'].value_counts(), \n",
    "    labels = ['Male', 'Female'],\n",
    "    colors = ['blue', 'pink'], autopct = '%1.1f%%')\n",
    "plt.title('distri. of male vs female users')"
   ]
  },
  {
   "cell_type": "markdown",
   "id": "598bec0f",
   "metadata": {},
   "source": [
    "age_group vs active users:"
   ]
  },
  {
   "cell_type": "code",
   "execution_count": 78,
   "id": "8113437c",
   "metadata": {},
   "outputs": [
    {
     "data": {
      "image/png": "[encoded data removed]",
      "text/plain": [
       "<Figure size 1200x800 with 1 Axes>"
      ]
     },
     "metadata": {},
     "output_type": "display_data"
    }
   ],
   "source": [
    "df['activity_per_day'] = (\n",
    "    (df['friendships_initiated'] / df['tenure'])\n",
    "    + \n",
    "    (df['likes'] / df['tenure']).replace([np.nan], 0)\n",
    " )\n",
    "plt.figure(figsize=(12,8))\n",
    "sns.barplot(x='age_grp', y='activity_per_day', data = df)\n",
    "plt.show()"
   ]
  },
  {
   "cell_type": "markdown",
   "id": "a0fc55f1",
   "metadata": {},
   "source": [
    "Correlations:"
   ]
  },
  {
   "cell_type": "code",
   "execution_count": 77,
   "id": "bb23b261",
   "metadata": {},
   "outputs": [
    {
     "data": {
      "text/plain": [
       "[]"
      ]
     },
     "execution_count": 77,
     "metadata": {},
     "output_type": "execute_result"
    },
    {
     "data": {
      "image/png": "[encoded data removed]",
      "text/plain": [
       "<Figure size 640x480 with 2 Axes>"
      ]
     },
     "metadata": {},
     "output_type": "display_data"
    }
   ],
   "source": [
    "column_names = [\n",
    "    'age', 'friend_count', 'friendships_initiated', 'likes'\n",
    "]\n",
    "\n",
    "sns.heatmap(df[column_names].corr(), annot=True)\n",
    "plt.plot()"
   ]
  },
  {
   "cell_type": "code",
   "execution_count": null,
   "id": "d44e5efd",
   "metadata": {},
   "outputs": [],
   "source": []
  }
 ],
 "metadata": {
  "kernelspec": {
   "display_name": "Python 3",
   "language": "python",
   "name": "python3"
  },
  "language_info": {
   "codemirror_mode": {
    "name": "ipython",
    "version": 3
   },
   "file_extension": ".py",
   "mimetype": "text/x-python",
   "name": "python",
   "nbconvert_exporter": "python",
   "pygments_lexer": "ipython3",
   "version": "3.10.16"
  }
 },
 "nbformat": 4,
 "nbformat_minor": 5
}
