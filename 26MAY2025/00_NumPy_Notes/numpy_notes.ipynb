{
 "cells": [
  {
   "cell_type": "markdown",
   "id": "44b31164",
   "metadata": {},
   "source": [
    "## NumPy: [Library]\n",
    "\n",
    "### Arrays:"
   ]
  },
  {
   "cell_type": "code",
   "execution_count": 1,
   "id": "a2b76ba8",
   "metadata": {},
   "outputs": [
    {
     "data": {
      "text/plain": [
       "[1, 3, 5, 7, 9, 11]"
      ]
     },
     "execution_count": 1,
     "metadata": {},
     "output_type": "execute_result"
    }
   ],
   "source": [
    "my_list = [1,3,5,7,9,11]\n",
    "my_list"
   ]
  },
  {
   "cell_type": "code",
   "execution_count": 43,
   "id": "d9ab956c",
   "metadata": {},
   "outputs": [],
   "source": [
    "import numpy as np\n",
    "import sys"
   ]
  },
  {
   "cell_type": "code",
   "execution_count": 10,
   "id": "17ba734a",
   "metadata": {},
   "outputs": [
    {
     "name": "stdout",
     "output_type": "stream",
     "text": [
      "arr: [ 1  3  5  7  9 11]\n",
      "size: 136 bytes\n"
     ]
    }
   ],
   "source": [
    "# casting above list into np. array...\n",
    "arr = np.array(my_list)\n",
    "print(f\"arr: {arr}\")\n",
    "print(f\"size: {sys.getsizeof(arr)} bytes\")"
   ]
  },
  {
   "cell_type": "code",
   "execution_count": 45,
   "id": "aa2d0376",
   "metadata": {},
   "outputs": [
    {
     "name": "stdout",
     "output_type": "stream",
     "text": [
      "arr: [ 1  3  5  7  9 11]\n",
      "size: 118 bytes\n"
     ]
    }
   ],
   "source": [
    "# we can also define the datatype along with declaration of an array to avoid the extra memory usage...\n",
    "arr = np.array(my_list, dtype=np.int8)\n",
    "print(f\"arr: {arr}\")\n",
    "print(f\"size: {sys.getsizeof(arr)} bytes\")"
   ]
  },
  {
   "cell_type": "code",
   "execution_count": 44,
   "id": "b0f60a73",
   "metadata": {},
   "outputs": [
    {
     "name": "stderr",
     "output_type": "stream",
     "text": [
      "C:\\Users\\kyghe\\AppData\\Local\\Temp\\ipykernel_7652\\1508853750.py:2: DeprecationWarning: NumPy will stop allowing conversion of out-of-bound Python integers to integer arrays.  The conversion of 543456521 to int8 will fail in the future.\n",
      "For the old behavior, usually:\n",
      "    np.array(value).astype(dtype)\n",
      "will give the desired result (the cast overflows).\n",
      "  np.array([1,3,543456521, 4.5], np.int8)\n"
     ]
    },
    {
     "data": {
      "text/plain": [
       "array([1, 3, 9, 4], dtype=int8)"
      ]
     },
     "execution_count": 44,
     "metadata": {},
     "output_type": "execute_result"
    }
   ],
   "source": [
    "# Will insert junk values if we try to insert value that is not valid...\n",
    "np.array([1,3,543456521, 4.5], np.int8)"
   ]
  },
  {
   "cell_type": "code",
   "execution_count": 42,
   "id": "68d6cf57",
   "metadata": {},
   "outputs": [
    {
     "data": {
      "text/plain": [
       "array([[1, 2, 3],\n",
       "       [4, 5, 6],\n",
       "       [7, 8, 9]])"
      ]
     },
     "execution_count": 42,
     "metadata": {},
     "output_type": "execute_result"
    }
   ],
   "source": [
    "# Multi-dimensional array...\n",
    "\n",
    "my_matrix = [\n",
    "    [1,2,3],\n",
    "    [4,5,6],\n",
    "    [7,8,9]\n",
    "]\n",
    "\n",
    "np.array(my_matrix)"
   ]
  },
  {
   "cell_type": "markdown",
   "id": "d60ab965",
   "metadata": {},
   "source": [
    "### Common Ways to create NumPy arrays:"
   ]
  },
  {
   "cell_type": "markdown",
   "id": "69052db4",
   "metadata": {},
   "source": [
    "1. Creating array of specific range:\n",
    "\n",
    "- `np.arange(start, end, step=1)`"
   ]
  },
  {
   "cell_type": "code",
   "execution_count": 26,
   "id": "e5a19728",
   "metadata": {},
   "outputs": [
    {
     "data": {
      "text/plain": [
       "array([0, 1, 2, 3, 4, 5, 6, 7, 8, 9])"
      ]
     },
     "execution_count": 26,
     "metadata": {},
     "output_type": "execute_result"
    }
   ],
   "source": [
    "np.arange(0,10)"
   ]
  },
  {
   "cell_type": "markdown",
   "id": "e6c02210",
   "metadata": {},
   "source": [
    "2. Creating array of all zeros:\n"
   ]
  },
  {
   "cell_type": "code",
   "execution_count": 27,
   "id": "2aab2de5",
   "metadata": {},
   "outputs": [
    {
     "data": {
      "text/plain": [
       "array([0., 0., 0.])"
      ]
     },
     "execution_count": 27,
     "metadata": {},
     "output_type": "execute_result"
    }
   ],
   "source": [
    "np.zeros(3)"
   ]
  },
  {
   "cell_type": "code",
   "execution_count": 29,
   "id": "03b11521",
   "metadata": {},
   "outputs": [
    {
     "data": {
      "text/plain": [
       "array([[0., 0., 0., 0., 0.],\n",
       "       [0., 0., 0., 0., 0.],\n",
       "       [0., 0., 0., 0., 0.]])"
      ]
     },
     "execution_count": 29,
     "metadata": {},
     "output_type": "execute_result"
    }
   ],
   "source": [
    "# n-dimensional of zeros:\n",
    "np.zeros( (3,5))"
   ]
  },
  {
   "cell_type": "markdown",
   "id": "3fdf668c",
   "metadata": {},
   "source": [
    "3. Creating array of ones:"
   ]
  },
  {
   "cell_type": "code",
   "execution_count": 32,
   "id": "bf6cbbed",
   "metadata": {},
   "outputs": [
    {
     "data": {
      "text/plain": [
       "array([[1., 1., 1., 1., 1.],\n",
       "       [1., 1., 1., 1., 1.],\n",
       "       [1., 1., 1., 1., 1.]])"
      ]
     },
     "execution_count": 32,
     "metadata": {},
     "output_type": "execute_result"
    }
   ],
   "source": [
    "np.ones((3,5))"
   ]
  },
  {
   "cell_type": "markdown",
   "id": "efa3fcf1",
   "metadata": {},
   "source": [
    "4. Creating linearly-spaced arrays in given range:"
   ]
  },
  {
   "cell_type": "code",
   "execution_count": 33,
   "id": "c5ff8f33",
   "metadata": {},
   "outputs": [
    {
     "data": {
      "text/plain": [
       "array([ 0.        ,  1.42857143,  2.85714286,  4.28571429,  5.71428571,\n",
       "        7.14285714,  8.57142857, 10.        ])"
      ]
     },
     "execution_count": 33,
     "metadata": {},
     "output_type": "execute_result"
    }
   ],
   "source": [
    "# np.linspace(start, stop, even_space=50)\n",
    "\n",
    "np.linspace(0,10, 8)"
   ]
  },
  {
   "cell_type": "markdown",
   "id": "fa34bb55",
   "metadata": {},
   "source": [
    "5. Identity Matrix (size -> n * n):"
   ]
  },
  {
   "cell_type": "code",
   "execution_count": 34,
   "id": "50b8e3b3",
   "metadata": {},
   "outputs": [
    {
     "data": {
      "text/plain": [
       "array([[1., 0., 0.],\n",
       "       [0., 1., 0.],\n",
       "       [0., 0., 1.]])"
      ]
     },
     "execution_count": 34,
     "metadata": {},
     "output_type": "execute_result"
    }
   ],
   "source": [
    "np.eye(3)"
   ]
  },
  {
   "cell_type": "code",
   "execution_count": 47,
   "id": "b56b41b5",
   "metadata": {},
   "outputs": [
    {
     "data": {
      "text/plain": [
       "array([[1., 0., 0., 0., 0.],\n",
       "       [0., 1., 0., 0., 0.],\n",
       "       [0., 0., 1., 0., 0.],\n",
       "       [0., 0., 0., 1., 0.],\n",
       "       [0., 0., 0., 0., 1.]])"
      ]
     },
     "execution_count": 47,
     "metadata": {},
     "output_type": "execute_result"
    }
   ],
   "source": [
    "np.identity(5)"
   ]
  },
  {
   "cell_type": "markdown",
   "id": "11acbec9",
   "metadata": {},
   "source": [
    "6. Arrays of Random Numbers:"
   ]
  },
  {
   "cell_type": "code",
   "execution_count": 53,
   "id": "afc8b107",
   "metadata": {},
   "outputs": [
    {
     "data": {
      "text/plain": [
       "array([0.99487016, 0.67484201, 0.44863117, 0.13721633, 0.43337689])"
      ]
     },
     "execution_count": 53,
     "metadata": {},
     "output_type": "execute_result"
    }
   ],
   "source": [
    "# random numbers in uniform distribution...(range: 0-1)\n",
    "np.random.rand(5)"
   ]
  },
  {
   "cell_type": "code",
   "execution_count": 55,
   "id": "95edd19e",
   "metadata": {},
   "outputs": [
    {
     "data": {
      "text/plain": [
       "array([ 0.65210091, -2.04838003, -0.28917634])"
      ]
     },
     "execution_count": 55,
     "metadata": {},
     "output_type": "execute_result"
    }
   ],
   "source": [
    "# random numbers in standard normal distribution\n",
    "np.random.randn(3)"
   ]
  },
  {
   "cell_type": "code",
   "execution_count": 62,
   "id": "d282fbda",
   "metadata": {},
   "outputs": [
    {
     "data": {
      "text/plain": [
       "6"
      ]
     },
     "execution_count": 62,
     "metadata": {},
     "output_type": "execute_result"
    }
   ],
   "source": [
    "np.random.randint(0,10)"
   ]
  },
  {
   "cell_type": "markdown",
   "id": "5b9899a1",
   "metadata": {},
   "source": [
    "7. Creating Empty Array:"
   ]
  },
  {
   "cell_type": "code",
   "execution_count": 64,
   "id": "025f4d5f",
   "metadata": {},
   "outputs": [
    {
     "data": {
      "text/plain": [
       "array([[ 1.,  3.,  5.],\n",
       "       [ 7.,  9., 11.]])"
      ]
     },
     "execution_count": 64,
     "metadata": {},
     "output_type": "execute_result"
    }
   ],
   "source": [
    "np.empty((2,3))"
   ]
  },
  {
   "cell_type": "markdown",
   "id": "21356211",
   "metadata": {},
   "source": [
    "---\n",
    "\n",
    "### More Array methods & attributes:"
   ]
  },
  {
   "cell_type": "code",
   "execution_count": 70,
   "id": "592ffbba",
   "metadata": {},
   "outputs": [
    {
     "name": "stdout",
     "output_type": "stream",
     "text": [
      "arr: [ 0  1  2  3  4  5  6  7  8  9 10 11 12 13 14 15 16 17 18 19 20 21 22 23\n",
      " 24]\n",
      "ran_arr: [15 21  6  0 23  0  4 18  7  4  9 21 21 18  8 21 14 18 15 16  7  6  0  2\n",
      "  8 13 19]\n"
     ]
    }
   ],
   "source": [
    "arr = np.arange(0,25)\n",
    "ran_arr = np.random.randint(0,25, 27)\n",
    "\n",
    "print(f\"\"\"arr: {arr}\n",
    "ran_arr: {ran_arr}\"\"\")"
   ]
  },
  {
   "cell_type": "markdown",
   "id": "0fb58f69",
   "metadata": {},
   "source": [
    "1. Reshaping array (1d->2d):"
   ]
  },
  {
   "cell_type": "code",
   "execution_count": 71,
   "id": "1abc1a25",
   "metadata": {},
   "outputs": [
    {
     "data": {
      "text/plain": [
       "array([[ 0,  1,  2,  3,  4],\n",
       "       [ 5,  6,  7,  8,  9],\n",
       "       [10, 11, 12, 13, 14],\n",
       "       [15, 16, 17, 18, 19],\n",
       "       [20, 21, 22, 23, 24]])"
      ]
     },
     "execution_count": 71,
     "metadata": {},
     "output_type": "execute_result"
    }
   ],
   "source": [
    "arr_2d = arr.reshape(5,5)\n",
    "arr_2d"
   ]
  },
  {
   "cell_type": "code",
   "execution_count": 73,
   "id": "4bbbd880",
   "metadata": {},
   "outputs": [
    {
     "data": {
      "text/plain": [
       "array([[[15, 21,  6],\n",
       "        [ 0, 23,  0],\n",
       "        [ 4, 18,  7]],\n",
       "\n",
       "       [[ 4,  9, 21],\n",
       "        [21, 18,  8],\n",
       "        [21, 14, 18]],\n",
       "\n",
       "       [[15, 16,  7],\n",
       "        [ 6,  0,  2],\n",
       "        [ 8, 13, 19]]])"
      ]
     },
     "execution_count": 73,
     "metadata": {},
     "output_type": "execute_result"
    }
   ],
   "source": [
    "arr_3d = ran_arr.reshape(3,3,3)\n",
    "arr_3d"
   ]
  },
  {
   "cell_type": "code",
   "execution_count": 78,
   "id": "2d50bb91",
   "metadata": {},
   "outputs": [
    {
     "data": {
      "text/plain": [
       "array([ 0,  1,  2,  3,  4,  5,  6,  7,  8,  9, 10, 11, 12, 13, 14, 15, 16,\n",
       "       17, 18, 19, 20, 21, 22, 23, 24])"
      ]
     },
     "execution_count": 78,
     "metadata": {},
     "output_type": "execute_result"
    }
   ],
   "source": [
    "arr_2d.reshape(arr_2d.size)"
   ]
  },
  {
   "cell_type": "code",
   "execution_count": 83,
   "id": "b5a6828e",
   "metadata": {},
   "outputs": [
    {
     "data": {
      "text/plain": [
       "array([15, 21,  6,  0, 23,  0,  4, 18,  7,  4,  9, 21, 21, 18,  8, 21, 14,\n",
       "       18, 15, 16,  7,  6,  0,  2,  8, 13, 19])"
      ]
     },
     "execution_count": 83,
     "metadata": {},
     "output_type": "execute_result"
    }
   ],
   "source": [
    "# n-D array to 1-D array using .ravel() method.\n",
    "\n",
    "arr_3d.ravel()"
   ]
  },
  {
   "cell_type": "code",
   "execution_count": 82,
   "id": "41a7bdd6",
   "metadata": {},
   "outputs": [
    {
     "data": {
      "text/plain": [
       "array([[ 0,  1,  2,  3,  4],\n",
       "       [ 5,  6,  7,  8,  9],\n",
       "       [10, 11, 12, 13, 14],\n",
       "       [15, 16, 17, 18, 19],\n",
       "       [20, 21, 22, 23, 24]])"
      ]
     },
     "execution_count": 82,
     "metadata": {},
     "output_type": "execute_result"
    }
   ],
   "source": [
    "arrRavel"
   ]
  },
  {
   "cell_type": "markdown",
   "id": "bb3f46cb",
   "metadata": {},
   "source": [
    "2. Min/Max values method:"
   ]
  },
  {
   "cell_type": "code",
   "execution_count": 88,
   "id": "c16fef77",
   "metadata": {},
   "outputs": [
    {
     "name": "stdout",
     "output_type": "stream",
     "text": [
      "Minimum value: 0\n",
      "Maximum value: 23\n"
     ]
    }
   ],
   "source": [
    "print(f\"Minimum value: {ran_arr.min()}\")\n",
    "print(f\"Maximum value: {ran_arr.max()}\")"
   ]
  },
  {
   "cell_type": "markdown",
   "id": "1ed90295",
   "metadata": {},
   "source": [
    "3. Sorting an array:"
   ]
  },
  {
   "cell_type": "code",
   "execution_count": 92,
   "id": "610254c2",
   "metadata": {},
   "outputs": [
    {
     "data": {
      "text/plain": [
       "array([ 5, 23, 32, 32, 43, 54])"
      ]
     },
     "execution_count": 92,
     "metadata": {},
     "output_type": "execute_result"
    }
   ],
   "source": [
    "sor_arr = np.array([54,32,43,23,5,32])\n",
    "sor_arr.sort()\n",
    "sor_arr"
   ]
  },
  {
   "cell_type": "code",
   "execution_count": 94,
   "id": "6beb454a",
   "metadata": {},
   "outputs": [
    {
     "data": {
      "text/plain": [
       "array([4, 3, 1, 5, 2, 0], dtype=int64)"
      ]
     },
     "execution_count": 94,
     "metadata": {},
     "output_type": "execute_result"
    }
   ],
   "source": [
    "# .argsort() - will give the indices of the array to be sorted...\n",
    "sor_arr = np.array([54,32,43,23,5,32])\n",
    "sor_arr.argsort()"
   ]
  },
  {
   "cell_type": "code",
   "execution_count": null,
   "id": "aabd8053",
   "metadata": {},
   "outputs": [
    {
     "data": {
      "text/plain": [
       "array([[0, 0, 0],\n",
       "       [2, 1, 1],\n",
       "       [1, 2, 2]], dtype=int64)"
      ]
     },
     "execution_count": 95,
     "metadata": {},
     "output_type": "execute_result"
    }
   ],
   "source": [
    "# .argsort() in 2-D array using axis:\n",
    "\n",
    "two = np.array([\n",
    "    [1,2,3],\n",
    "    [4,2,4],\n",
    "    [3,7,8]\n",
    "])\n",
    "\n",
    "two.argsort(axis=0) # vertically..."
   ]
  },
  {
   "cell_type": "code",
   "execution_count": 97,
   "id": "a20c9553",
   "metadata": {},
   "outputs": [
    {
     "data": {
      "text/plain": [
       "array([[0, 1, 2],\n",
       "       [1, 0, 2],\n",
       "       [0, 1, 2]], dtype=int64)"
      ]
     },
     "execution_count": 97,
     "metadata": {},
     "output_type": "execute_result"
    }
   ],
   "source": [
    "two = np.array([\n",
    "    [1,2,3],\n",
    "    [4,2,4],\n",
    "    [3,7,8]\n",
    "])\n",
    "\n",
    "two.argsort(axis=1) # horizontally..."
   ]
  },
  {
   "cell_type": "markdown",
   "id": "ce8b067f",
   "metadata": {},
   "source": [
    "5. Finding the shape of arr:"
   ]
  },
  {
   "cell_type": "code",
   "execution_count": 98,
   "id": "fc67140f",
   "metadata": {},
   "outputs": [
    {
     "data": {
      "text/plain": [
       "(6,)"
      ]
     },
     "execution_count": 98,
     "metadata": {},
     "output_type": "execute_result"
    }
   ],
   "source": [
    "arr.shape"
   ]
  },
  {
   "cell_type": "code",
   "execution_count": 99,
   "id": "981faa30",
   "metadata": {},
   "outputs": [
    {
     "data": {
      "text/plain": [
       "(3, 3)"
      ]
     },
     "execution_count": 99,
     "metadata": {},
     "output_type": "execute_result"
    }
   ],
   "source": [
    "two.shape"
   ]
  },
  {
   "cell_type": "markdown",
   "id": "e87bf6ca",
   "metadata": {},
   "source": [
    "6. Finding Data Type:"
   ]
  },
  {
   "cell_type": "code",
   "execution_count": 100,
   "id": "da188986",
   "metadata": {},
   "outputs": [
    {
     "data": {
      "text/plain": [
       "dtype('int32')"
      ]
     },
     "execution_count": 100,
     "metadata": {},
     "output_type": "execute_result"
    }
   ],
   "source": [
    "two.dtype"
   ]
  },
  {
   "cell_type": "code",
   "execution_count": 101,
   "id": "b39b78ad",
   "metadata": {},
   "outputs": [
    {
     "data": {
      "text/plain": [
       "dtype('int8')"
      ]
     },
     "execution_count": 101,
     "metadata": {},
     "output_type": "execute_result"
    }
   ],
   "source": [
    "np.array([1,3,4,5], dtype=np.int8).dtype\n"
   ]
  },
  {
   "cell_type": "markdown",
   "id": "d4eb03ad",
   "metadata": {},
   "source": [
    "### NumPy Indexing & Selection:"
   ]
  },
  {
   "cell_type": "code",
   "execution_count": 103,
   "id": "048b6b54",
   "metadata": {},
   "outputs": [
    {
     "data": {
      "text/plain": [
       "array([ 0,  1,  2,  3,  4,  5,  6,  7,  8,  9, 10])"
      ]
     },
     "execution_count": 103,
     "metadata": {},
     "output_type": "execute_result"
    }
   ],
   "source": [
    "arr = np.arange(0,11)\n",
    "arr "
   ]
  },
  {
   "cell_type": "code",
   "execution_count": 106,
   "id": "91b4c13c",
   "metadata": {},
   "outputs": [
    {
     "name": "stdout",
     "output_type": "stream",
     "text": [
      "10\n",
      "[ 1  2  3  4  5  6  7  8  9 10]\n",
      "[5 7]\n"
     ]
    }
   ],
   "source": [
    "# We can use same indexing and slicing method as that of the python list.\n",
    "print(arr[10])\n",
    "print(arr[1:])\n",
    "print(arr[5:9:2])"
   ]
  },
  {
   "cell_type": "code",
   "execution_count": 107,
   "id": "ad0d7b44",
   "metadata": {},
   "outputs": [
    {
     "data": {
      "text/plain": [
       "array([[ 5, 10, 15],\n",
       "       [20, 25, 30],\n",
       "       [35, 40, 45]])"
      ]
     },
     "execution_count": 107,
     "metadata": {},
     "output_type": "execute_result"
    }
   ],
   "source": [
    "arr_2d = np.array([\n",
    "    [5,10,15],\n",
    "    [20,25,30],\n",
    "    [35,40,45]\n",
    "])\n",
    "arr_2d"
   ]
  },
  {
   "cell_type": "code",
   "execution_count": 109,
   "id": "89ed62ff",
   "metadata": {},
   "outputs": [
    {
     "name": "stdout",
     "output_type": "stream",
     "text": [
      "45\n",
      "30\n"
     ]
    }
   ],
   "source": [
    "print(arr_2d[2][2])\n",
    "print(arr_2d[1,2])"
   ]
  },
  {
   "cell_type": "markdown",
   "id": "2c0982a6",
   "metadata": {},
   "source": [
    "### Conditional Selection Method:"
   ]
  },
  {
   "cell_type": "code",
   "execution_count": 110,
   "id": "6f4020cd",
   "metadata": {},
   "outputs": [
    {
     "data": {
      "text/plain": [
       "array([ 0,  1,  2,  3,  4,  5,  6,  7,  8,  9, 10])"
      ]
     },
     "execution_count": 110,
     "metadata": {},
     "output_type": "execute_result"
    }
   ],
   "source": [
    "arr"
   ]
  },
  {
   "cell_type": "code",
   "execution_count": 112,
   "id": "52cf0ed0",
   "metadata": {},
   "outputs": [
    {
     "data": {
      "text/plain": [
       "array([False, False, False, False, False, False,  True,  True,  True,\n",
       "        True,  True])"
      ]
     },
     "execution_count": 112,
     "metadata": {},
     "output_type": "execute_result"
    }
   ],
   "source": [
    "arr > 5 "
   ]
  },
  {
   "cell_type": "code",
   "execution_count": 113,
   "id": "18fab70a",
   "metadata": {},
   "outputs": [
    {
     "data": {
      "text/plain": [
       "array([ 6,  7,  8,  9, 10])"
      ]
     },
     "execution_count": 113,
     "metadata": {},
     "output_type": "execute_result"
    }
   ],
   "source": [
    "arr[arr>5]"
   ]
  },
  {
   "cell_type": "markdown",
   "id": "e6ff0cfd",
   "metadata": {},
   "source": [
    "### Finding element in arr:"
   ]
  },
  {
   "cell_type": "code",
   "execution_count": 114,
   "id": "df1ba3fb",
   "metadata": {},
   "outputs": [
    {
     "data": {
      "text/plain": [
       "array([[25, 75, 90,  2, 60],\n",
       "       [11, 26,  4, 10, 31],\n",
       "       [57, 80, 73, 83,  3]])"
      ]
     },
     "execution_count": 114,
     "metadata": {},
     "output_type": "execute_result"
    }
   ],
   "source": [
    "arr2d = np.random.randint(0,100, (3,5))\n",
    "arr2d"
   ]
  },
  {
   "cell_type": "code",
   "execution_count": 117,
   "id": "cbb8a8be",
   "metadata": {},
   "outputs": [
    {
     "data": {
      "text/plain": [
       "(array([1], dtype=int64), array([2], dtype=int64))"
      ]
     },
     "execution_count": 117,
     "metadata": {},
     "output_type": "execute_result"
    }
   ],
   "source": [
    "np.where(arr2d == 4) # returns tuple of array positions"
   ]
  },
  {
   "cell_type": "markdown",
   "id": "94d7d93c",
   "metadata": {},
   "source": [
    "### NumPy Operations:\n",
    "\n",
    "-> Same as matrix operations:"
   ]
  },
  {
   "cell_type": "code",
   "execution_count": 118,
   "id": "d640643b",
   "metadata": {},
   "outputs": [
    {
     "data": {
      "text/plain": [
       "array([ 0,  1,  2,  3,  4,  5,  6,  7,  8,  9, 10])"
      ]
     },
     "execution_count": 118,
     "metadata": {},
     "output_type": "execute_result"
    }
   ],
   "source": [
    "arr"
   ]
  },
  {
   "cell_type": "code",
   "execution_count": 119,
   "id": "e24cd209",
   "metadata": {},
   "outputs": [
    {
     "data": {
      "text/plain": [
       "array([ 0,  2,  4,  6,  8, 10, 12, 14, 16, 18, 20])"
      ]
     },
     "execution_count": 119,
     "metadata": {},
     "output_type": "execute_result"
    }
   ],
   "source": [
    "arr + arr"
   ]
  },
  {
   "cell_type": "code",
   "execution_count": 120,
   "id": "19b41542",
   "metadata": {},
   "outputs": [
    {
     "data": {
      "text/plain": [
       "array([0, 0, 0, 0, 0, 0, 0, 0, 0, 0, 0])"
      ]
     },
     "execution_count": 120,
     "metadata": {},
     "output_type": "execute_result"
    }
   ],
   "source": [
    "arr - arr"
   ]
  },
  {
   "cell_type": "code",
   "execution_count": 121,
   "id": "ae99bc9d",
   "metadata": {},
   "outputs": [
    {
     "data": {
      "text/plain": [
       "array([ 0,  3,  6,  9, 12, 15, 18, 21, 24, 27, 30])"
      ]
     },
     "execution_count": 121,
     "metadata": {},
     "output_type": "execute_result"
    }
   ],
   "source": [
    "arr * 3"
   ]
  },
  {
   "cell_type": "code",
   "execution_count": 122,
   "id": "64cbe18d",
   "metadata": {},
   "outputs": [
    {
     "name": "stderr",
     "output_type": "stream",
     "text": [
      "C:\\Users\\kyghe\\AppData\\Local\\Temp\\ipykernel_7652\\3942562399.py:1: RuntimeWarning: divide by zero encountered in divide\n",
      "  arr / 0\n",
      "C:\\Users\\kyghe\\AppData\\Local\\Temp\\ipykernel_7652\\3942562399.py:1: RuntimeWarning: invalid value encountered in divide\n",
      "  arr / 0\n"
     ]
    },
    {
     "data": {
      "text/plain": [
       "array([nan, inf, inf, inf, inf, inf, inf, inf, inf, inf, inf])"
      ]
     },
     "execution_count": 122,
     "metadata": {},
     "output_type": "execute_result"
    }
   ],
   "source": [
    "arr / 0"
   ]
  },
  {
   "cell_type": "code",
   "execution_count": 123,
   "id": "989faea0",
   "metadata": {},
   "outputs": [
    {
     "name": "stderr",
     "output_type": "stream",
     "text": [
      "C:\\Users\\kyghe\\AppData\\Local\\Temp\\ipykernel_7652\\2663351161.py:1: RuntimeWarning: invalid value encountered in divide\n",
      "  arr / arr\n"
     ]
    },
    {
     "data": {
      "text/plain": [
       "array([nan,  1.,  1.,  1.,  1.,  1.,  1.,  1.,  1.,  1.,  1.])"
      ]
     },
     "execution_count": 123,
     "metadata": {},
     "output_type": "execute_result"
    }
   ],
   "source": [
    "arr / arr "
   ]
  },
  {
   "cell_type": "code",
   "execution_count": 124,
   "id": "c8f330d6",
   "metadata": {},
   "outputs": [
    {
     "data": {
      "text/plain": [
       "array([0.        , 1.        , 1.41421356, 1.73205081, 2.        ,\n",
       "       2.23606798, 2.44948974, 2.64575131, 2.82842712, 3.        ,\n",
       "       3.16227766])"
      ]
     },
     "execution_count": 124,
     "metadata": {},
     "output_type": "execute_result"
    }
   ],
   "source": [
    "# Square root:\n",
    "\n",
    "np.sqrt(arr)"
   ]
  },
  {
   "cell_type": "code",
   "execution_count": 125,
   "id": "cd6caca4",
   "metadata": {},
   "outputs": [
    {
     "data": {
      "text/plain": [
       "array([1.00000000e+00, 2.71828183e+00, 7.38905610e+00, 2.00855369e+01,\n",
       "       5.45981500e+01, 1.48413159e+02, 4.03428793e+02, 1.09663316e+03,\n",
       "       2.98095799e+03, 8.10308393e+03, 2.20264658e+04])"
      ]
     },
     "execution_count": 125,
     "metadata": {},
     "output_type": "execute_result"
    }
   ],
   "source": [
    "# Exponential:\n",
    "\n",
    "np.exp(arr)"
   ]
  },
  {
   "cell_type": "code",
   "execution_count": 126,
   "id": "54f36d20",
   "metadata": {},
   "outputs": [
    {
     "name": "stderr",
     "output_type": "stream",
     "text": [
      "C:\\Users\\kyghe\\AppData\\Local\\Temp\\ipykernel_7652\\1745042186.py:3: RuntimeWarning: divide by zero encountered in log\n",
      "  np.log(arr)\n"
     ]
    },
    {
     "data": {
      "text/plain": [
       "array([      -inf, 0.        , 0.69314718, 1.09861229, 1.38629436,\n",
       "       1.60943791, 1.79175947, 1.94591015, 2.07944154, 2.19722458,\n",
       "       2.30258509])"
      ]
     },
     "execution_count": 126,
     "metadata": {},
     "output_type": "execute_result"
    }
   ],
   "source": [
    "# Finding the logs of every element:\n",
    "\n",
    "np.log(arr)"
   ]
  },
  {
   "cell_type": "code",
   "execution_count": 127,
   "id": "928133d1",
   "metadata": {},
   "outputs": [
    {
     "data": {
      "text/plain": [
       "55"
      ]
     },
     "execution_count": 127,
     "metadata": {},
     "output_type": "execute_result"
    }
   ],
   "source": [
    "# Finding Sum:\n",
    "\n",
    "np.sum(arr)"
   ]
  },
  {
   "cell_type": "code",
   "execution_count": 128,
   "id": "eaf3ffaa",
   "metadata": {},
   "outputs": [
    {
     "data": {
      "text/plain": [
       "3.1622776601683795"
      ]
     },
     "execution_count": 128,
     "metadata": {},
     "output_type": "execute_result"
    }
   ],
   "source": [
    "# Finding Std. Deviation:\n",
    "\n",
    "np.std(arr) # or arr.std()"
   ]
  },
  {
   "cell_type": "code",
   "execution_count": 129,
   "id": "36f3f128",
   "metadata": {},
   "outputs": [
    {
     "data": {
      "text/plain": [
       "array([[25, 75, 90,  2, 60],\n",
       "       [11, 26,  4, 10, 31],\n",
       "       [57, 80, 73, 83,  3]])"
      ]
     },
     "execution_count": 129,
     "metadata": {},
     "output_type": "execute_result"
    }
   ],
   "source": [
    "arr2d"
   ]
  },
  {
   "cell_type": "code",
   "execution_count": 130,
   "id": "0b0ea764",
   "metadata": {},
   "outputs": [
    {
     "data": {
      "text/plain": [
       "array([ 93, 181, 167,  95,  94])"
      ]
     },
     "execution_count": 130,
     "metadata": {},
     "output_type": "execute_result"
    }
   ],
   "source": [
    "np.sum(arr2d, axis=0)"
   ]
  },
  {
   "cell_type": "code",
   "execution_count": 131,
   "id": "bd69ad6f",
   "metadata": {},
   "outputs": [
    {
     "data": {
      "text/plain": [
       "array([252,  82, 296])"
      ]
     },
     "execution_count": 131,
     "metadata": {},
     "output_type": "execute_result"
    }
   ],
   "source": [
    "np.sum(arr2d, axis=1)"
   ]
  },
  {
   "cell_type": "code",
   "execution_count": 134,
   "id": "38b55fc8",
   "metadata": {},
   "outputs": [
    {
     "data": {
      "text/plain": [
       "array([[25, 11, 57],\n",
       "       [75, 26, 80],\n",
       "       [90,  4, 73],\n",
       "       [ 2, 10, 83],\n",
       "       [60, 31,  3]])"
      ]
     },
     "execution_count": 134,
     "metadata": {},
     "output_type": "execute_result"
    }
   ],
   "source": [
    "# Transpose of Matrix:\n",
    "\n",
    "arr2d.T"
   ]
  },
  {
   "cell_type": "markdown",
   "id": "27f12c41",
   "metadata": {},
   "source": [
    "### Fetching iterator using .flat attribute:"
   ]
  },
  {
   "cell_type": "code",
   "execution_count": 137,
   "id": "70ba2354",
   "metadata": {},
   "outputs": [
    {
     "name": "stdout",
     "output_type": "stream",
     "text": [
      "0\n",
      "1\n",
      "2\n",
      "3\n",
      "4\n",
      "5\n",
      "6\n",
      "7\n",
      "8\n",
      "9\n",
      "10\n"
     ]
    }
   ],
   "source": [
    "for item in arr.flat:\n",
    "    print(item)"
   ]
  },
  {
   "cell_type": "markdown",
   "id": "85af9e9a",
   "metadata": {},
   "source": [
    "### Extras (NumPy):\n"
   ]
  },
  {
   "cell_type": "code",
   "execution_count": 139,
   "id": "d9edb303",
   "metadata": {},
   "outputs": [
    {
     "data": {
      "text/plain": [
       "44"
      ]
     },
     "execution_count": 139,
     "metadata": {},
     "output_type": "execute_result"
    }
   ],
   "source": [
    "arr.nbytes"
   ]
  },
  {
   "cell_type": "code",
   "execution_count": 140,
   "id": "35656166",
   "metadata": {},
   "outputs": [
    {
     "data": {
      "text/plain": [
       "2"
      ]
     },
     "execution_count": 140,
     "metadata": {},
     "output_type": "execute_result"
    }
   ],
   "source": [
    "arr2d.ndim"
   ]
  },
  {
   "cell_type": "code",
   "execution_count": null,
   "id": "90261358",
   "metadata": {},
   "outputs": [
    {
     "name": "stdout",
     "output_type": "stream",
     "text": [
      "6\n",
      "(array([0, 0, 0, 1, 2, 2], dtype=int64), array([0, 1, 2, 1, 0, 2], dtype=int64))\n"
     ]
    }
   ],
   "source": [
    "# Finding Non-zero elements:\n",
    "\n",
    "arr_nz= np.array([1,2,4,0,3,0,4,0,5]).reshape(3,3)\n",
    "print(np.count_nonzero(arr_nz))\n",
    "print(np.nonzero(arr_nz)) #represents the dimensions..."
   ]
  },
  {
   "cell_type": "code",
   "execution_count": 143,
   "id": "5bb56715",
   "metadata": {},
   "outputs": [
    {
     "data": {
      "text/plain": [
       "array([[1, 2, 4],\n",
       "       [0, 3, 0],\n",
       "       [4, 0, 5]])"
      ]
     },
     "execution_count": 143,
     "metadata": {},
     "output_type": "execute_result"
    }
   ],
   "source": [
    "arr_nz"
   ]
  },
  {
   "cell_type": "code",
   "execution_count": 144,
   "id": "2941ce33",
   "metadata": {},
   "outputs": [
    {
     "data": {
      "text/plain": [
       "[0, 1, 2, 3, 4, 5, 6, 7, 8, 9, 10]"
      ]
     },
     "execution_count": 144,
     "metadata": {},
     "output_type": "execute_result"
    }
   ],
   "source": [
    "# to list:\n",
    "\n",
    "arr.tolist()"
   ]
  }
 ],
 "metadata": {
  "kernelspec": {
   "display_name": "Python 3",
   "language": "python",
   "name": "python3"
  },
  "language_info": {
   "codemirror_mode": {
    "name": "ipython",
    "version": 3
   },
   "file_extension": ".py",
   "mimetype": "text/x-python",
   "name": "python",
   "nbconvert_exporter": "python",
   "pygments_lexer": "ipython3",
   "version": "3.10.16"
  }
 },
 "nbformat": 4,
 "nbformat_minor": 5
}
