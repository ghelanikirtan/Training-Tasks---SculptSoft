{
 "cells": [
  {
   "cell_type": "markdown",
   "id": "294fe6fe",
   "metadata": {},
   "source": [
    "# Random Forest Classification:\n",
    "\n",
    "- This is the combination of multiple Decision Trees.\n",
    "\n",
    "Algorithm Functionality:\n",
    "\n",
    "- This creates multiple decision trees by randomly selecting the features.\n",
    "- Each Tree makes predictions.\n",
    "    - In classification, we choose the category on the basis of majority voting.\n",
    "    - In Regression, we predict the final value by taking the averages generally...\n",
    "\n",
    "Features/Pros:\n",
    "\n",
    "- Works well even if few data is missing...\n",
    "- Shows which features are imp.\n",
    "- Works well big and complex data..."
   ]
  },
  {
   "cell_type": "code",
   "execution_count": 1,
   "id": "b5484a45",
   "metadata": {},
   "outputs": [],
   "source": [
    "import numpy as np, pandas as pd\n",
    "import seaborn as sns, matplotlib.pyplot as plt\n",
    "import plotly.graph_objects as go\n",
    "import plotly.express as px\n",
    "import plotly.offline as py"
   ]
  }
 ],
 "metadata": {
  "kernelspec": {
   "display_name": "Python 3",
   "language": "python",
   "name": "python3"
  },
  "language_info": {
   "codemirror_mode": {
    "name": "ipython",
    "version": 3
   },
   "file_extension": ".py",
   "mimetype": "text/x-python",
   "name": "python",
   "nbconvert_exporter": "python",
   "pygments_lexer": "ipython3",
   "version": "3.10.16"
  }
 },
 "nbformat": 4,
 "nbformat_minor": 5
}
