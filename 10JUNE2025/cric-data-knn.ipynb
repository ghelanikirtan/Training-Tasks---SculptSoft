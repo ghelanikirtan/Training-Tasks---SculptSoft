{
 "cells": [
  {
   "cell_type": "markdown",
   "id": "275d0357",
   "metadata": {},
   "source": [
    "## Cricket Data [KNN]:\n",
    "\n",
    "- Working with generated Dataset: data generation script inside `datasets` directory.\n",
    "\n",
    "\n",
    "Dataset Details:\n",
    "\n",
    "Target Class:\n",
    "Player Name (id) - Mapping:\n",
    "- 1 : \"Virat Kohli\"\n",
    "- 2 : \"Rohit Sharma\"\n",
    "- 3 : \"Shubman Gill\"\n",
    "- 4 : \"Yashasvi Jaiswal\"\n",
    "- 5 : \"KL Rahul\""
   ]
  },
  {
   "cell_type": "markdown",
   "id": "51eddc0a",
   "metadata": {},
   "source": [
    "Library imports and dataset load."
   ]
  },
  {
   "cell_type": "code",
   "execution_count": 173,
   "id": "ee239dc1",
   "metadata": {},
   "outputs": [],
   "source": [
    "import numpy as np, pandas as pd\n",
    "import seaborn as sns, matplotlib.pyplot as plt\n",
    "import plotly.graph_objects as go\n",
    "import plotly.express as px\n",
    "# \n",
    "from sklearn.preprocessing import OneHotEncoder, StandardScaler, LabelEncoder\n",
    "from sklearn.model_selection import train_test_split\n",
    "from sklearn.metrics import accuracy_score, classification_report, confusion_matrix"
   ]
  },
  {
   "cell_type": "code",
   "execution_count": 174,
   "id": "7754cd57",
   "metadata": {},
   "outputs": [
    {
     "data": {
      "text/html": [
       "<div>\n",
       "<style scoped>\n",
       "    .dataframe tbody tr th:only-of-type {\n",
       "        vertical-align: middle;\n",
       "    }\n",
       "\n",
       "    .dataframe tbody tr th {\n",
       "        vertical-align: top;\n",
       "    }\n",
       "\n",
       "    .dataframe thead th {\n",
       "        text-align: right;\n",
       "    }\n",
       "</style>\n",
       "<table border=\"1\" class=\"dataframe\">\n",
       "  <thead>\n",
       "    <tr style=\"text-align: right;\">\n",
       "      <th></th>\n",
       "      <th>temperature</th>\n",
       "      <th>wind_speed</th>\n",
       "      <th>opposition_strength</th>\n",
       "      <th>best_batter</th>\n",
       "      <th>pitch_dry</th>\n",
       "      <th>pitch_dusty</th>\n",
       "      <th>pitch_green</th>\n",
       "      <th>pitch_hard</th>\n",
       "    </tr>\n",
       "  </thead>\n",
       "  <tbody>\n",
       "    <tr>\n",
       "      <th>0</th>\n",
       "      <td>17.773839</td>\n",
       "      <td>26.250720</td>\n",
       "      <td>2</td>\n",
       "      <td>1</td>\n",
       "      <td>True</td>\n",
       "      <td>False</td>\n",
       "      <td>False</td>\n",
       "      <td>False</td>\n",
       "    </tr>\n",
       "    <tr>\n",
       "      <th>1</th>\n",
       "      <td>29.046128</td>\n",
       "      <td>6.664756</td>\n",
       "      <td>4</td>\n",
       "      <td>1</td>\n",
       "      <td>True</td>\n",
       "      <td>False</td>\n",
       "      <td>False</td>\n",
       "      <td>False</td>\n",
       "    </tr>\n",
       "    <tr>\n",
       "      <th>2</th>\n",
       "      <td>33.747134</td>\n",
       "      <td>18.069309</td>\n",
       "      <td>5</td>\n",
       "      <td>1</td>\n",
       "      <td>True</td>\n",
       "      <td>False</td>\n",
       "      <td>False</td>\n",
       "      <td>False</td>\n",
       "    </tr>\n",
       "    <tr>\n",
       "      <th>3</th>\n",
       "      <td>19.465080</td>\n",
       "      <td>28.431556</td>\n",
       "      <td>2</td>\n",
       "      <td>1</td>\n",
       "      <td>True</td>\n",
       "      <td>False</td>\n",
       "      <td>False</td>\n",
       "      <td>False</td>\n",
       "    </tr>\n",
       "    <tr>\n",
       "      <th>4</th>\n",
       "      <td>25.594460</td>\n",
       "      <td>29.967055</td>\n",
       "      <td>7</td>\n",
       "      <td>1</td>\n",
       "      <td>True</td>\n",
       "      <td>False</td>\n",
       "      <td>False</td>\n",
       "      <td>False</td>\n",
       "    </tr>\n",
       "  </tbody>\n",
       "</table>\n",
       "</div>"
      ],
      "text/plain": [
       "   temperature  wind_speed  ...  pitch_green  pitch_hard\n",
       "0    17.773839   26.250720  ...        False       False\n",
       "1    29.046128    6.664756  ...        False       False\n",
       "2    33.747134   18.069309  ...        False       False\n",
       "3    19.465080   28.431556  ...        False       False\n",
       "4    25.594460   29.967055  ...        False       False\n",
       "\n",
       "[5 rows x 8 columns]"
      ]
     },
     "execution_count": 174,
     "metadata": {},
     "output_type": "execute_result"
    }
   ],
   "source": [
    "data = pd.read_csv('datasets/cricket_knn_indian_players_balanced.csv')\n",
    "data.head()"
   ]
  },
  {
   "cell_type": "code",
   "execution_count": 175,
   "id": "d6594d6c",
   "metadata": {},
   "outputs": [],
   "source": [
    "batters = [\n",
    "    {'id': 1, 'name': 'Virat Kohli'},\n",
    "    {'id': 2, 'name': 'Rohit Sharma'},\n",
    "    {'id': 3, 'name': 'Shubman Gill'},\n",
    "    {'id': 4, 'name': 'Yashasvi Jaiswal'},\n",
    "    {'id': 5, 'name': 'KL Rahul'},\n",
    "]"
   ]
  },
  {
   "cell_type": "markdown",
   "id": "ade9d418",
   "metadata": {},
   "source": [
    "### Basic Visualization:"
   ]
  },
  {
   "cell_type": "markdown",
   "id": "e5a5747d",
   "metadata": {},
   "source": [
    "Correlation:"
   ]
  },
  {
   "cell_type": "code",
   "execution_count": 176,
   "id": "827da767",
   "metadata": {},
   "outputs": [
    {
     "data": {
      "application/vnd.plotly.v1+json": {
       "config": {
        "plotlyServerURL": "https://plot.ly"
       },
       "data": [
        {
         "colorscale": [
          [
           0,
           "rgb(103,0,31)"
          ],
          [
           0.1,
           "rgb(178,24,43)"
          ],
          [
           0.2,
           "rgb(214,96,77)"
          ],
          [
           0.3,
           "rgb(244,165,130)"
          ],
          [
           0.4,
           "rgb(253,219,199)"
          ],
          [
           0.5,
           "rgb(247,247,247)"
          ],
          [
           0.6,
           "rgb(209,229,240)"
          ],
          [
           0.7,
           "rgb(146,197,222)"
          ],
          [
           0.8,
           "rgb(67,147,195)"
          ],
          [
           0.9,
           "rgb(33,102,172)"
          ],
          [
           1,
           "rgb(5,48,97)"
          ]
         ],
         "texttemplate": "%{text}",
         "type": "heatmap",
         "x": [
          "temperature",
          "wind_speed",
          "opposition_strength",
          "best_batter",
          "pitch_dry",
          "pitch_dusty",
          "pitch_green",
          "pitch_hard"
         ],
         "xgap": 1,
         "y": [
          "temperature",
          "wind_speed",
          "opposition_strength",
          "best_batter",
          "pitch_dry",
          "pitch_dusty",
          "pitch_green",
          "pitch_hard"
         ],
         "ygap": 1,
         "z": {
          "bdata": "AAAAAAAA+H8AAAAAAAD4fwAAAAAAAPh/AAAAAAAA+H8AAAAAAAD4fwAAAAAAAPh/AAAAAAAA+H8AAAAAAAD4f9N/0JkoPIK/AAAAAAAA+H8AAAAAAAD4fwAAAAAAAPh/AAAAAAAA+H8AAAAAAAD4fwAAAAAAAPh/AAAAAAAA+H8slamLpgJhv8+oVBzCTJa/AAAAAAAA+H8AAAAAAAD4fwAAAAAAAPh/AAAAAAAA+H8AAAAAAAD4fwAAAAAAAPh/tJ2ULa/emj/q+vfKsU68P+rVvRkdEGw/AAAAAAAA+H8AAAAAAAD4fwAAAAAAAPh/AAAAAAAA+H8AAAAAAAD4f3RSD3DedoK/i1E/Fyw3pb+ARs2d212pv3h5XTIiSti/AAAAAAAA+H8AAAAAAAD4fwAAAAAAAPh/AAAAAAAA+H8eaOEafseSv66QM40sgbA/oTsDKdGFrD+1TUnqj3XTP7wkjQddndO/AAAAAAAA+H8AAAAAAAD4fwAAAAAAAPh/i20bM+P3jD+6RgXRrV2uv0EZdB6OKZi/N/EKtcxPsL+MA/DSFH3hv2n8a5B5A9S/AAAAAAAA+H8AAAAAAAD4f5h9lONwn4c/3bGUpRFisj/dQCQMdvylP3+ck3cZy9I/uJwAxhM207+8hvwYJPzFv1yYSp0WmtO/AAAAAAAA+H8=",
          "dtype": "f8",
          "shape": "8, 8"
         },
         "zmax": 1,
         "zmin": -0.25
        }
       ],
       "layout": {
        "height": 600,
        "template": {
         "data": {
          "bar": [
           {
            "error_x": {
             "color": "#2a3f5f"
            },
            "error_y": {
             "color": "#2a3f5f"
            },
            "marker": {
             "line": {
              "color": "#E5ECF6",
              "width": 0.5
             },
             "pattern": {
              "fillmode": "overlay",
              "size": 10,
              "solidity": 0.2
             }
            },
            "type": "bar"
           }
          ],
          "barpolar": [
           {
            "marker": {
             "line": {
              "color": "#E5ECF6",
              "width": 0.5
             },
             "pattern": {
              "fillmode": "overlay",
              "size": 10,
              "solidity": 0.2
             }
            },
            "type": "barpolar"
           }
          ],
          "carpet": [
           {
            "aaxis": {
             "endlinecolor": "#2a3f5f",
             "gridcolor": "white",
             "linecolor": "white",
             "minorgridcolor": "white",
             "startlinecolor": "#2a3f5f"
            },
            "baxis": {
             "endlinecolor": "#2a3f5f",
             "gridcolor": "white",
             "linecolor": "white",
             "minorgridcolor": "white",
             "startlinecolor": "#2a3f5f"
            },
            "type": "carpet"
           }
          ],
          "choropleth": [
           {
            "colorbar": {
             "outlinewidth": 0,
             "ticks": ""
            },
            "type": "choropleth"
           }
          ],
          "contour": [
           {
            "colorbar": {
             "outlinewidth": 0,
             "ticks": ""
            },
            "colorscale": [
             [
              0,
              "#0d0887"
             ],
             [
              0.1111111111111111,
              "#46039f"
             ],
             [
              0.2222222222222222,
              "#7201a8"
             ],
             [
              0.3333333333333333,
              "#9c179e"
             ],
             [
              0.4444444444444444,
              "#bd3786"
             ],
             [
              0.5555555555555556,
              "#d8576b"
             ],
             [
              0.6666666666666666,
              "#ed7953"
             ],
             [
              0.7777777777777778,
              "#fb9f3a"
             ],
             [
              0.8888888888888888,
              "#fdca26"
             ],
             [
              1,
              "#f0f921"
             ]
            ],
            "type": "contour"
           }
          ],
          "contourcarpet": [
           {
            "colorbar": {
             "outlinewidth": 0,
             "ticks": ""
            },
            "type": "contourcarpet"
           }
          ],
          "heatmap": [
           {
            "colorbar": {
             "outlinewidth": 0,
             "ticks": ""
            },
            "colorscale": [
             [
              0,
              "#0d0887"
             ],
             [
              0.1111111111111111,
              "#46039f"
             ],
             [
              0.2222222222222222,
              "#7201a8"
             ],
             [
              0.3333333333333333,
              "#9c179e"
             ],
             [
              0.4444444444444444,
              "#bd3786"
             ],
             [
              0.5555555555555556,
              "#d8576b"
             ],
             [
              0.6666666666666666,
              "#ed7953"
             ],
             [
              0.7777777777777778,
              "#fb9f3a"
             ],
             [
              0.8888888888888888,
              "#fdca26"
             ],
             [
              1,
              "#f0f921"
             ]
            ],
            "type": "heatmap"
           }
          ],
          "histogram": [
           {
            "marker": {
             "pattern": {
              "fillmode": "overlay",
              "size": 10,
              "solidity": 0.2
             }
            },
            "type": "histogram"
           }
          ],
          "histogram2d": [
           {
            "colorbar": {
             "outlinewidth": 0,
             "ticks": ""
            },
            "colorscale": [
             [
              0,
              "#0d0887"
             ],
             [
              0.1111111111111111,
              "#46039f"
             ],
             [
              0.2222222222222222,
              "#7201a8"
             ],
             [
              0.3333333333333333,
              "#9c179e"
             ],
             [
              0.4444444444444444,
              "#bd3786"
             ],
             [
              0.5555555555555556,
              "#d8576b"
             ],
             [
              0.6666666666666666,
              "#ed7953"
             ],
             [
              0.7777777777777778,
              "#fb9f3a"
             ],
             [
              0.8888888888888888,
              "#fdca26"
             ],
             [
              1,
              "#f0f921"
             ]
            ],
            "type": "histogram2d"
           }
          ],
          "histogram2dcontour": [
           {
            "colorbar": {
             "outlinewidth": 0,
             "ticks": ""
            },
            "colorscale": [
             [
              0,
              "#0d0887"
             ],
             [
              0.1111111111111111,
              "#46039f"
             ],
             [
              0.2222222222222222,
              "#7201a8"
             ],
             [
              0.3333333333333333,
              "#9c179e"
             ],
             [
              0.4444444444444444,
              "#bd3786"
             ],
             [
              0.5555555555555556,
              "#d8576b"
             ],
             [
              0.6666666666666666,
              "#ed7953"
             ],
             [
              0.7777777777777778,
              "#fb9f3a"
             ],
             [
              0.8888888888888888,
              "#fdca26"
             ],
             [
              1,
              "#f0f921"
             ]
            ],
            "type": "histogram2dcontour"
           }
          ],
          "mesh3d": [
           {
            "colorbar": {
             "outlinewidth": 0,
             "ticks": ""
            },
            "type": "mesh3d"
           }
          ],
          "parcoords": [
           {
            "line": {
             "colorbar": {
              "outlinewidth": 0,
              "ticks": ""
             }
            },
            "type": "parcoords"
           }
          ],
          "pie": [
           {
            "automargin": true,
            "type": "pie"
           }
          ],
          "scatter": [
           {
            "fillpattern": {
             "fillmode": "overlay",
             "size": 10,
             "solidity": 0.2
            },
            "type": "scatter"
           }
          ],
          "scatter3d": [
           {
            "line": {
             "colorbar": {
              "outlinewidth": 0,
              "ticks": ""
             }
            },
            "marker": {
             "colorbar": {
              "outlinewidth": 0,
              "ticks": ""
             }
            },
            "type": "scatter3d"
           }
          ],
          "scattercarpet": [
           {
            "marker": {
             "colorbar": {
              "outlinewidth": 0,
              "ticks": ""
             }
            },
            "type": "scattercarpet"
           }
          ],
          "scattergeo": [
           {
            "marker": {
             "colorbar": {
              "outlinewidth": 0,
              "ticks": ""
             }
            },
            "type": "scattergeo"
           }
          ],
          "scattergl": [
           {
            "marker": {
             "colorbar": {
              "outlinewidth": 0,
              "ticks": ""
             }
            },
            "type": "scattergl"
           }
          ],
          "scattermap": [
           {
            "marker": {
             "colorbar": {
              "outlinewidth": 0,
              "ticks": ""
             }
            },
            "type": "scattermap"
           }
          ],
          "scattermapbox": [
           {
            "marker": {
             "colorbar": {
              "outlinewidth": 0,
              "ticks": ""
             }
            },
            "type": "scattermapbox"
           }
          ],
          "scatterpolar": [
           {
            "marker": {
             "colorbar": {
              "outlinewidth": 0,
              "ticks": ""
             }
            },
            "type": "scatterpolar"
           }
          ],
          "scatterpolargl": [
           {
            "marker": {
             "colorbar": {
              "outlinewidth": 0,
              "ticks": ""
             }
            },
            "type": "scatterpolargl"
           }
          ],
          "scatterternary": [
           {
            "marker": {
             "colorbar": {
              "outlinewidth": 0,
              "ticks": ""
             }
            },
            "type": "scatterternary"
           }
          ],
          "surface": [
           {
            "colorbar": {
             "outlinewidth": 0,
             "ticks": ""
            },
            "colorscale": [
             [
              0,
              "#0d0887"
             ],
             [
              0.1111111111111111,
              "#46039f"
             ],
             [
              0.2222222222222222,
              "#7201a8"
             ],
             [
              0.3333333333333333,
              "#9c179e"
             ],
             [
              0.4444444444444444,
              "#bd3786"
             ],
             [
              0.5555555555555556,
              "#d8576b"
             ],
             [
              0.6666666666666666,
              "#ed7953"
             ],
             [
              0.7777777777777778,
              "#fb9f3a"
             ],
             [
              0.8888888888888888,
              "#fdca26"
             ],
             [
              1,
              "#f0f921"
             ]
            ],
            "type": "surface"
           }
          ],
          "table": [
           {
            "cells": {
             "fill": {
              "color": "#EBF0F8"
             },
             "line": {
              "color": "white"
             }
            },
            "header": {
             "fill": {
              "color": "#C8D4E3"
             },
             "line": {
              "color": "white"
             }
            },
            "type": "table"
           }
          ]
         },
         "layout": {
          "annotationdefaults": {
           "arrowcolor": "#2a3f5f",
           "arrowhead": 0,
           "arrowwidth": 1
          },
          "autotypenumbers": "strict",
          "coloraxis": {
           "colorbar": {
            "outlinewidth": 0,
            "ticks": ""
           }
          },
          "colorscale": {
           "diverging": [
            [
             0,
             "#8e0152"
            ],
            [
             0.1,
             "#c51b7d"
            ],
            [
             0.2,
             "#de77ae"
            ],
            [
             0.3,
             "#f1b6da"
            ],
            [
             0.4,
             "#fde0ef"
            ],
            [
             0.5,
             "#f7f7f7"
            ],
            [
             0.6,
             "#e6f5d0"
            ],
            [
             0.7,
             "#b8e186"
            ],
            [
             0.8,
             "#7fbc41"
            ],
            [
             0.9,
             "#4d9221"
            ],
            [
             1,
             "#276419"
            ]
           ],
           "sequential": [
            [
             0,
             "#0d0887"
            ],
            [
             0.1111111111111111,
             "#46039f"
            ],
            [
             0.2222222222222222,
             "#7201a8"
            ],
            [
             0.3333333333333333,
             "#9c179e"
            ],
            [
             0.4444444444444444,
             "#bd3786"
            ],
            [
             0.5555555555555556,
             "#d8576b"
            ],
            [
             0.6666666666666666,
             "#ed7953"
            ],
            [
             0.7777777777777778,
             "#fb9f3a"
            ],
            [
             0.8888888888888888,
             "#fdca26"
            ],
            [
             1,
             "#f0f921"
            ]
           ],
           "sequentialminus": [
            [
             0,
             "#0d0887"
            ],
            [
             0.1111111111111111,
             "#46039f"
            ],
            [
             0.2222222222222222,
             "#7201a8"
            ],
            [
             0.3333333333333333,
             "#9c179e"
            ],
            [
             0.4444444444444444,
             "#bd3786"
            ],
            [
             0.5555555555555556,
             "#d8576b"
            ],
            [
             0.6666666666666666,
             "#ed7953"
            ],
            [
             0.7777777777777778,
             "#fb9f3a"
            ],
            [
             0.8888888888888888,
             "#fdca26"
            ],
            [
             1,
             "#f0f921"
            ]
           ]
          },
          "colorway": [
           "#636efa",
           "#EF553B",
           "#00cc96",
           "#ab63fa",
           "#FFA15A",
           "#19d3f3",
           "#FF6692",
           "#B6E880",
           "#FF97FF",
           "#FECB52"
          ],
          "font": {
           "color": "#2a3f5f"
          },
          "geo": {
           "bgcolor": "white",
           "lakecolor": "white",
           "landcolor": "#E5ECF6",
           "showlakes": true,
           "showland": true,
           "subunitcolor": "white"
          },
          "hoverlabel": {
           "align": "left"
          },
          "hovermode": "closest",
          "mapbox": {
           "style": "light"
          },
          "paper_bgcolor": "white",
          "plot_bgcolor": "#E5ECF6",
          "polar": {
           "angularaxis": {
            "gridcolor": "white",
            "linecolor": "white",
            "ticks": ""
           },
           "bgcolor": "#E5ECF6",
           "radialaxis": {
            "gridcolor": "white",
            "linecolor": "white",
            "ticks": ""
           }
          },
          "scene": {
           "xaxis": {
            "backgroundcolor": "#E5ECF6",
            "gridcolor": "white",
            "gridwidth": 2,
            "linecolor": "white",
            "showbackground": true,
            "ticks": "",
            "zerolinecolor": "white"
           },
           "yaxis": {
            "backgroundcolor": "#E5ECF6",
            "gridcolor": "white",
            "gridwidth": 2,
            "linecolor": "white",
            "showbackground": true,
            "ticks": "",
            "zerolinecolor": "white"
           },
           "zaxis": {
            "backgroundcolor": "#E5ECF6",
            "gridcolor": "white",
            "gridwidth": 2,
            "linecolor": "white",
            "showbackground": true,
            "ticks": "",
            "zerolinecolor": "white"
           }
          },
          "shapedefaults": {
           "line": {
            "color": "#2a3f5f"
           }
          },
          "ternary": {
           "aaxis": {
            "gridcolor": "white",
            "linecolor": "white",
            "ticks": ""
           },
           "baxis": {
            "gridcolor": "white",
            "linecolor": "white",
            "ticks": ""
           },
           "bgcolor": "#E5ECF6",
           "caxis": {
            "gridcolor": "white",
            "linecolor": "white",
            "ticks": ""
           }
          },
          "title": {
           "x": 0.05
          },
          "xaxis": {
           "automargin": true,
           "gridcolor": "white",
           "linecolor": "white",
           "ticks": "",
           "title": {
            "standoff": 15
           },
           "zerolinecolor": "white",
           "zerolinewidth": 2
          },
          "yaxis": {
           "automargin": true,
           "gridcolor": "white",
           "linecolor": "white",
           "ticks": "",
           "title": {
            "standoff": 15
           },
           "zerolinecolor": "white",
           "zerolinewidth": 2
          }
         }
        },
        "title": {
         "text": "Cricket Data Correlation:",
         "x": 0.5
        },
        "width": 600,
        "xaxis": {
         "showgrid": false
        },
        "yaxis": {
         "autorange": "reversed",
         "showgrid": false
        }
       }
      }
     },
     "metadata": {},
     "output_type": "display_data"
    }
   ],
   "source": [
    "px.imshow(data.corr(), text_auto=True)\n",
    "\n",
    "mask = np.triu(np.ones_like(data.corr(), dtype=bool))\n",
    "rLT = data.corr().mask(mask)\n",
    "\n",
    "heat = go.Heatmap(\n",
    "    z = rLT,\n",
    "    # text = rLT.apply(lambda x: round(x, 2) if str(x).lower() != str(np.nan)),\n",
    "    x = rLT.columns.values,\n",
    "    y = rLT.columns.values,\n",
    "    zmin= -0.25, zmax=1,\n",
    "    xgap=1, ygap=1,\n",
    "    colorscale='RdBu',\n",
    "    texttemplate='%{text}'\n",
    ")\n",
    "title = \"Cricket Data Correlation:\"\n",
    "layout = go.Layout(\n",
    "    title_text = title,\n",
    "    title_x = 0.5,\n",
    "    width=600, \n",
    "    height=600,\n",
    "    xaxis_showgrid=False,\n",
    "    yaxis_showgrid=False,\n",
    "    yaxis_autorange='reversed'\n",
    ")\n",
    "\n",
    "fig=go.Figure(data=[heat], layout=layout)\n",
    "fig.show()"
   ]
  },
  {
   "cell_type": "code",
   "execution_count": 177,
   "id": "eaa69cd3",
   "metadata": {},
   "outputs": [
    {
     "data": {
      "application/vnd.plotly.v1+json": {
       "config": {
        "plotlyServerURL": "https://plot.ly"
       },
       "data": [
        {
         "bingroup": "x",
         "hovertemplate": "best_batter=%{x}<br>count=%{y}<extra></extra>",
         "legendgroup": "1",
         "marker": {
          "color": "#636efa",
          "pattern": {
           "shape": ""
          }
         },
         "name": "1",
         "orientation": "v",
         "showlegend": true,
         "type": "histogram",
         "x": {
          "bdata": "AQEBAQEBAQEBAQEBAQEBAQEBAQEBAQEBAQEBAQEBAQEBAQEBAQEBAQEBAQEBAQEBAQEBAQEBAQEBAQEBAQEBAQEBAQEBAQEBAQEBAQEBAQEBAQEBAQEBAQEBAQEBAQEBAQEBAQEBAQEBAQEBAQEBAQEBAQEBAQEBAQEBAQEBAQEBAQEBAQEBAQEBAQEBAQEBAQEBAQEBAQEBAQEBAQEBAQEBAQEBAQEBAQEBAQEBAQEBAQEBAQEBAQEBAQEBAQEBAQEBAQEBAQEBAQEBAQEBAQEBAQEBAQEBAQEBAQEBAQEBAQEBAQEBAQEBAQEBAQEBAQEBAQEBAQEBAQEBAQEBAQEBAQEBAQEBAQEBAQEBAQEBAQEBAQEBAQEBAQEBAQEBAQEBAQEBAQEBAQEBAQEBAQEBAQEBAQEBAQEBAQEBAQEBAQEBAQEBAQEBAQEBAQEBAQEBAQEBAQEBAQEBAQEBAQEBAQEBAQEBAQEBAQEBAQEBAQEBAQEBAQEBAQEBAQEBAQEBAQEBAQEBAQEBAQEBAQEBAQEBAQEBAQEBAQEBAQEBAQEBAQEBAQEBAQEBAQEBAQEBAQEBAQEBAQEBAQEBAQEBAQEBAQEBAQEBAQEBAQEBAQEBAQEBAQEBAQEBAQEBAQEBAQEBAQEBAQEBAQEBAQEBAQEBAQEBAQEBAQEBAQEBAQEBAQEBAQEBAQEBAQEBAQEBAQEBAQEBAQEBAQEBAQEBAQEBAQEBAQEBAQEBAQEBAQEBAQEBAQEBAQEBAQEBAQEBAQEBAQEBAQEBAQEBAQEBAQEBAQEBAQEBAQEBAQEBAQEBAQEBAQEBAQEBAQEBAQEBAQEBAQEBAQEBAQEBAQEBAQEBAQEBAQEBAQEBAQEBAQEBAQEBAQEBAQEBAQEBAQEBAQEBAQEBAQEBAQEBAQEBAQEBAQEBAQEBAQEBAQEBAQEBAQEBAQEBAQEBAQEBAQEBAQEBAQEBAQEBAQEBAQEBAQEBAQEBAQEBAQEBAQEBAQEBAQEBAQEBAQEBAQEBAQEBAQEBAQEBAQEBAQEBAQEBAQEBAQEBAQEBAQEBAQEBAQEBAQEBAQEBAQEBAQEBAQEBAQEBAQEBAQEBAQEBAQEBAQEBAQEBAQEBAQEBAQEBAQEBAQEBAQEBAQEBAQEBAQEBAQEBAQEBAQEBAQEBAQEBAQEBAQEBAQEBAQEBAQEBAQEBAQEBAQEBAQEBAQEBAQEBAQEBAQEBAQEBAQEBAQEBAQEBAQEBAQEBAQEBAQEBAQEBAQEBAQEBAQEBAQEBAQEBAQEBAQEBAQEBAQEBAQEBAQEBAQEBAQEBAQEBAQEBAQEBAQEBAQ==",
          "dtype": "i1"
         },
         "xaxis": "x",
         "yaxis": "y"
        },
        {
         "bingroup": "x",
         "hovertemplate": "best_batter=%{x}<br>count=%{y}<extra></extra>",
         "legendgroup": "2",
         "marker": {
          "color": "#EF553B",
          "pattern": {
           "shape": ""
          }
         },
         "name": "2",
         "orientation": "v",
         "showlegend": true,
         "type": "histogram",
         "x": {
          "bdata": "AgICAgICAgICAgICAgICAgICAgICAgICAgICAgICAgICAgICAgICAgICAgICAgICAgICAgICAgICAgICAgICAgICAgICAgICAgICAgICAgICAgICAgICAgICAgICAgICAgICAgICAgICAgICAgICAgICAgICAgICAgICAgICAgICAgICAgICAgICAgICAgICAgICAgICAgICAgICAgICAgICAgICAgICAgICAgICAgICAgICAgICAgICAgICAgICAgICAgICAgICAgICAgICAgICAgICAgICAgICAgICAgICAgICAgICAgICAgICAgICAgICAgICAgICAgICAgICAgICAgICAgICAgICAgICAgICAgICAgICAgICAgICAgICAgICAgICAgICAgICAgICAgICAgICAgICAgICAgICAgICAgICAgICAgICAgICAgICAgICAgICAgICAgICAgICAgICAgICAgICAgICAgICAgICAgICAgICAgICAgICAgICAgICAgICAgICAgICAgICAgICAgICAgICAgICAgICAgICAgICAgICAgICAgICAgICAgICAgICAgICAgICAgICAgICAgICAgICAgICAgICAgICAgICAgICAgICAgICAgICAgICAgICAgICAgICAgICAgICAgICAgICAgICAgICAgICAgICAgICAgICAgICAgICAgICAgICAgICAgICAgICAgICAgICAgICAgICAgICAgICAgICAgICAgICAgICAgICAgICAgICAgICAgICAgICAgICAgICAgICAgICAgICAgICAgICAgICAgICAgICAgICAgICAgICAgICAgICAgICAgICAgICAgICAgICAgICAgICAgICAgICAgICAgICAgICAgICAgICAgICAgICAgICAgICAgICAgICAgICAgICAgICAgICAgICAgICAgICAgICAgICAgICAgICAgICAgICAgICAgICAgICAgICAgICAgICAgICAgICAgICAgICAgICAgICAgICAgICAgICAgICAgICAgICAgICAgICAgICAgICAgICAgICAgICAgICAgICAgICAgICAgICAgICAgICAgICAgICAgICAgICAgICAgICAgICAgICAgICAgICAgICAgICAgICAgICAgICAgICAgICAgICAgICAgICAgICAgICAgICAgICAgICAgICAgICAgICAgICAgICAgICAgICAgICAgICAgICAgICAgICAgICAgICAgICAgICAgICAgICAgICAgICAgICAgICAgICAgICAgICAgICAgICAgICAgICAgICAgICAg==",
          "dtype": "i1"
         },
         "xaxis": "x",
         "yaxis": "y"
        },
        {
         "bingroup": "x",
         "hovertemplate": "best_batter=%{x}<br>count=%{y}<extra></extra>",
         "legendgroup": "3",
         "marker": {
          "color": "#00cc96",
          "pattern": {
           "shape": ""
          }
         },
         "name": "3",
         "orientation": "v",
         "showlegend": true,
         "type": "histogram",
         "x": {
          "bdata": "AwMDAwMDAwMDAwMDAwMDAwMDAwMDAwMDAwMDAwMDAwMDAwMDAwMDAwMDAwMDAwMDAwMDAwMDAwMDAwMDAwMDAwMDAwMDAwMDAwMDAwMDAwMDAwMDAwMDAwMDAwMDAwMDAwMDAwMDAwMDAwMDAwMDAwMDAwMDAwMDAwMDAwMDAwMDAwMDAwMDAwMDAwMDAwMDAwMDAwMDAwMDAwMDAwMDAwMDAwMDAwMDAwMDAwMDAwMDAwMDAwMDAwMDAwMDAwMDAwMDAwMDAwMDAwMDAwMDAwMDAwMDAwMDAwMDAwMDAwMDAwMDAwMDAwMDAwMDAwMDAwMDAwMDAwMDAwMDAwMDAwMDAwMDAwMDAwMDAwMDAwMDAwMDAwMDAwMDAwMDAwMDAwMDAwMDAwMDAwMDAwMDAwMDAwMDAwMDAwMDAwMDAwMDAwMDAwMDAwMDAwMDAwMDAwMDAwMDAwMDAwMDAwMDAwMDAwMDAwMDAwMDAwMDAwMDAwMDAwMDAwMDAwMDAwMDAwMDAwMDAwMDAwMDAwMDAwMDAwMDAwMDAwMDAwMDAwMDAwMDAwMDAwMDAwMDAwMDAwMDAwMDAwMDAwMDAwMDAwMDAwMDAwMDAwMDAwMDAwMDAwMDAwMDAwMDAwMDAwMDAwMDAwMDAwMDAwMDAwMDAwMDAwMDAwMDAwMDAwMDAwMDAwMDAwMDAwMDAwMDAwMDAwMDAwMDAwMDAwMDAwMDAwMDAwMDAwMDAwMDAwMDAwMDAwMDAwMDAwMDAwMDAwMDAwMDAwMDAwMDAwMDAwMDAwMDAwMDAwMDAwMDAwMDAwMDAwMDAwMDAwMDAwMDAwMDAwMDAwMDAwMDAwMDAwMDAwMDAwMDAwMDAwMDAwMDAwMDAwMDAwMDAwMDAwMDAwMDAwMDAwMDAwMDAwMDAwMDAwMDAwMDAwMDAwMDAwMDAwMDAwMDAwMDAwMDAwMDAwMDAwMDAwMDAwMDAwMDAwMDAwMDAwMDAwMDAwMDAwMDAwMDAwMDAwMDAwMDAwMDAwMDAwMDAwMDAwMDAwMDAwMDAwMDAwMDAwMDAwMDAwMDAwMDAwMDAwMDAwMDAwMDAwMDAwMDAwMDAwMDAwMDAwMDAwMDAwMDAwMDAwMDAwMDAwMDAwMDAwMDAwMDAwMDAwMDAwMDAwMDAwMDAwMDAwMDAwMDAwMDAwMDAwMDAwMDAwMDAwMDAwMDAwMDAwMDAwMDAwMDAwMDAwMDAwMDAwMDAwMDAwMDAwMDAwMDAwMDAwMDAwMDAwMDAwMDAwMDAwMDAwMDAwMDAwMDAwMDAwMDAwMDAwMDAwMDAwMDAwMDAwMDAwMDAwMDAw==",
          "dtype": "i1"
         },
         "xaxis": "x",
         "yaxis": "y"
        },
        {
         "bingroup": "x",
         "hovertemplate": "best_batter=%{x}<br>count=%{y}<extra></extra>",
         "legendgroup": "4",
         "marker": {
          "color": "#ab63fa",
          "pattern": {
           "shape": ""
          }
         },
         "name": "4",
         "orientation": "v",
         "showlegend": true,
         "type": "histogram",
         "x": {
          "bdata": "BAQEBAQEBAQEBAQEBAQEBAQEBAQEBAQEBAQEBAQEBAQEBAQEBAQEBAQEBAQEBAQEBAQEBAQEBAQEBAQEBAQEBAQEBAQEBAQEBAQEBAQEBAQEBAQEBAQEBAQEBAQEBAQEBAQEBAQEBAQEBAQEBAQEBAQEBAQEBAQEBAQEBAQEBAQEBAQEBAQEBAQEBAQEBAQEBAQEBAQEBAQEBAQEBAQEBAQEBAQEBAQEBAQEBAQEBAQEBAQEBAQEBAQEBAQEBAQEBAQEBAQEBAQEBAQEBAQEBAQEBAQEBAQEBAQEBAQEBAQEBAQEBAQEBAQEBAQEBAQEBAQEBAQEBAQEBAQEBAQEBAQEBAQEBAQEBAQEBAQEBAQEBAQEBAQEBAQEBAQEBAQEBAQEBAQEBAQEBAQEBAQEBAQEBAQEBAQEBAQEBAQEBAQEBAQEBAQEBAQEBAQEBAQEBAQEBAQEBAQEBAQEBAQEBAQEBAQEBAQEBAQEBAQEBAQEBAQEBAQEBAQEBAQEBAQEBAQEBAQEBAQEBAQEBAQEBAQEBAQEBAQEBAQEBAQEBAQEBAQEBAQEBAQEBAQEBAQEBAQEBAQEBAQEBAQEBAQEBAQEBAQEBAQEBAQEBAQEBAQEBAQEBAQEBAQEBAQEBAQEBAQEBAQEBAQEBAQEBAQEBAQEBAQEBAQEBAQEBAQEBAQEBAQEBAQEBAQEBAQEBAQEBAQEBAQEBAQEBAQEBAQEBAQEBAQEBAQEBAQEBAQEBAQEBAQEBAQEBAQEBAQEBAQEBAQEBAQEBAQEBAQEBAQEBAQEBAQEBAQEBAQEBAQEBAQEBAQEBAQEBAQEBAQEBAQEBAQEBAQEBAQEBAQEBAQEBAQEBAQEBAQEBAQEBAQEBAQEBAQEBAQEBAQEBAQEBAQEBAQEBAQEBAQEBAQEBAQEBAQEBAQEBAQEBAQEBAQEBAQEBAQEBAQEBAQEBAQEBAQEBAQEBAQEBAQEBAQEBAQEBAQEBAQEBAQEBAQEBAQEBAQEBAQEBAQEBAQEBAQEBAQEBAQEBAQEBAQEBAQEBAQEBAQEBAQEBAQEBAQEBAQEBAQEBAQEBAQEBAQEBAQEBAQEBAQEBAQEBAQEBAQEBAQEBAQEBAQEBAQEBAQEBAQEBAQEBAQEBAQEBAQEBAQEBAQEBAQEBAQEBAQEBAQEBAQEBAQEBAQEBAQEBAQEBAQEBAQEBAQEBAQEBAQEBAQEBAQEBAQEBAQEBAQEBAQEBAQEBAQEBAQEBAQEBAQEBAQEBAQEBAQEBAQEBAQEBAQEBAQEBAQEBAQEBAQEBAQEBAQEBAQEBAQEBAQEBAQEBAQEBAQEBAQEBAQEBA==",
          "dtype": "i1"
         },
         "xaxis": "x",
         "yaxis": "y"
        },
        {
         "bingroup": "x",
         "hovertemplate": "best_batter=%{x}<br>count=%{y}<extra></extra>",
         "legendgroup": "5",
         "marker": {
          "color": "#FFA15A",
          "pattern": {
           "shape": ""
          }
         },
         "name": "5",
         "orientation": "v",
         "showlegend": true,
         "type": "histogram",
         "x": {
          "bdata": "BQUFBQUFBQUFBQUFBQUFBQUFBQUFBQUFBQUFBQUFBQUFBQUFBQUFBQUFBQUFBQUFBQUFBQUFBQUFBQUFBQUFBQUFBQUFBQUFBQUFBQUFBQUFBQUFBQUFBQUFBQUFBQUFBQUFBQUFBQUFBQUFBQUFBQUFBQUFBQUFBQUFBQUFBQUFBQUFBQUFBQUFBQUFBQUFBQUFBQUFBQUFBQUFBQUFBQUFBQUFBQUFBQUFBQUFBQUFBQUFBQUFBQUFBQUFBQUFBQUFBQUFBQUFBQUFBQUFBQUFBQUFBQUFBQUFBQUFBQUFBQUFBQUFBQUFBQUFBQUFBQUFBQUFBQUFBQUFBQUFBQUFBQUFBQUFBQUFBQUFBQUFBQUFBQUFBQUFBQUFBQUFBQUFBQUFBQUFBQUFBQUFBQUFBQUFBQUFBQUFBQUFBQUFBQUFBQUFBQUFBQUFBQUFBQUFBQUFBQUFBQUFBQUFBQUFBQUFBQUFBQUFBQUFBQUFBQUFBQUFBQUFBQUFBQUFBQUFBQUFBQUFBQUFBQUFBQUFBQUFBQUFBQUFBQUFBQUFBQUFBQUFBQUFBQUFBQUFBQUFBQUFBQUFBQUFBQUFBQUFBQUFBQUFBQUFBQUFBQUFBQUFBQUFBQUFBQUFBQUFBQUFBQUFBQUFBQUFBQUFBQUFBQUFBQUFBQUFBQUFBQUFBQUFBQUFBQUFBQUFBQUFBQUFBQUFBQUFBQUFBQUFBQUFBQUFBQUFBQUFBQUFBQUFBQUFBQUFBQUFBQUFBQUFBQUFBQUFBQUFBQUFBQUFBQUFBQUFBQUFBQUFBQUFBQUFBQUFBQUFBQUFBQUFBQUFBQUFBQUFBQUFBQUFBQUFBQUFBQUFBQUFBQUFBQUFBQUFBQUFBQUFBQUFBQUFBQUFBQUFBQUFBQUFBQUFBQUFBQUFBQUFBQUFBQUFBQUFBQUFBQUFBQUFBQUFBQUFBQUFBQUFBQUFBQUFBQUFBQUFBQUFBQUFBQUFBQUFBQUFBQUFBQUFBQUFBQUFBQUFBQUFBQUFBQUFBQUFBQUFBQUFBQUFBQUFBQUFBQUFBQUFBQUFBQUFBQUFBQUFBQUFBQUFBQUFBQUFBQUFBQUFBQUFBQUFBQUFBQUFBQUFBQUFBQUFBQUFBQUFBQUFBQUFBQUFBQUFBQUFBQUFBQUFBQUFBQUFBQUFBQUFBQUFBQUFBQUFBQUFBQUFBQUFBQUFBQUFBQUFBQUFBQUFBQUFBQUFBQUFBQUFBQUFBQUFBQUFBQUFBQUFBQUFBQUFBQUFBQUFBQUFBQUFBQUFBQUFBQUFBQUFBQUFBQUFBQUFBQUFBQUFBQUFBQUFBQ==",
          "dtype": "i1"
         },
         "xaxis": "x",
         "yaxis": "y"
        }
       ],
       "layout": {
        "barmode": "relative",
        "legend": {
         "title": {
          "text": "best_batter"
         },
         "tracegroupgap": 0
        },
        "margin": {
         "t": 60
        },
        "template": {
         "data": {
          "bar": [
           {
            "error_x": {
             "color": "#2a3f5f"
            },
            "error_y": {
             "color": "#2a3f5f"
            },
            "marker": {
             "line": {
              "color": "#E5ECF6",
              "width": 0.5
             },
             "pattern": {
              "fillmode": "overlay",
              "size": 10,
              "solidity": 0.2
             }
            },
            "type": "bar"
           }
          ],
          "barpolar": [
           {
            "marker": {
             "line": {
              "color": "#E5ECF6",
              "width": 0.5
             },
             "pattern": {
              "fillmode": "overlay",
              "size": 10,
              "solidity": 0.2
             }
            },
            "type": "barpolar"
           }
          ],
          "carpet": [
           {
            "aaxis": {
             "endlinecolor": "#2a3f5f",
             "gridcolor": "white",
             "linecolor": "white",
             "minorgridcolor": "white",
             "startlinecolor": "#2a3f5f"
            },
            "baxis": {
             "endlinecolor": "#2a3f5f",
             "gridcolor": "white",
             "linecolor": "white",
             "minorgridcolor": "white",
             "startlinecolor": "#2a3f5f"
            },
            "type": "carpet"
           }
          ],
          "choropleth": [
           {
            "colorbar": {
             "outlinewidth": 0,
             "ticks": ""
            },
            "type": "choropleth"
           }
          ],
          "contour": [
           {
            "colorbar": {
             "outlinewidth": 0,
             "ticks": ""
            },
            "colorscale": [
             [
              0,
              "#0d0887"
             ],
             [
              0.1111111111111111,
              "#46039f"
             ],
             [
              0.2222222222222222,
              "#7201a8"
             ],
             [
              0.3333333333333333,
              "#9c179e"
             ],
             [
              0.4444444444444444,
              "#bd3786"
             ],
             [
              0.5555555555555556,
              "#d8576b"
             ],
             [
              0.6666666666666666,
              "#ed7953"
             ],
             [
              0.7777777777777778,
              "#fb9f3a"
             ],
             [
              0.8888888888888888,
              "#fdca26"
             ],
             [
              1,
              "#f0f921"
             ]
            ],
            "type": "contour"
           }
          ],
          "contourcarpet": [
           {
            "colorbar": {
             "outlinewidth": 0,
             "ticks": ""
            },
            "type": "contourcarpet"
           }
          ],
          "heatmap": [
           {
            "colorbar": {
             "outlinewidth": 0,
             "ticks": ""
            },
            "colorscale": [
             [
              0,
              "#0d0887"
             ],
             [
              0.1111111111111111,
              "#46039f"
             ],
             [
              0.2222222222222222,
              "#7201a8"
             ],
             [
              0.3333333333333333,
              "#9c179e"
             ],
             [
              0.4444444444444444,
              "#bd3786"
             ],
             [
              0.5555555555555556,
              "#d8576b"
             ],
             [
              0.6666666666666666,
              "#ed7953"
             ],
             [
              0.7777777777777778,
              "#fb9f3a"
             ],
             [
              0.8888888888888888,
              "#fdca26"
             ],
             [
              1,
              "#f0f921"
             ]
            ],
            "type": "heatmap"
           }
          ],
          "histogram": [
           {
            "marker": {
             "pattern": {
              "fillmode": "overlay",
              "size": 10,
              "solidity": 0.2
             }
            },
            "type": "histogram"
           }
          ],
          "histogram2d": [
           {
            "colorbar": {
             "outlinewidth": 0,
             "ticks": ""
            },
            "colorscale": [
             [
              0,
              "#0d0887"
             ],
             [
              0.1111111111111111,
              "#46039f"
             ],
             [
              0.2222222222222222,
              "#7201a8"
             ],
             [
              0.3333333333333333,
              "#9c179e"
             ],
             [
              0.4444444444444444,
              "#bd3786"
             ],
             [
              0.5555555555555556,
              "#d8576b"
             ],
             [
              0.6666666666666666,
              "#ed7953"
             ],
             [
              0.7777777777777778,
              "#fb9f3a"
             ],
             [
              0.8888888888888888,
              "#fdca26"
             ],
             [
              1,
              "#f0f921"
             ]
            ],
            "type": "histogram2d"
           }
          ],
          "histogram2dcontour": [
           {
            "colorbar": {
             "outlinewidth": 0,
             "ticks": ""
            },
            "colorscale": [
             [
              0,
              "#0d0887"
             ],
             [
              0.1111111111111111,
              "#46039f"
             ],
             [
              0.2222222222222222,
              "#7201a8"
             ],
             [
              0.3333333333333333,
              "#9c179e"
             ],
             [
              0.4444444444444444,
              "#bd3786"
             ],
             [
              0.5555555555555556,
              "#d8576b"
             ],
             [
              0.6666666666666666,
              "#ed7953"
             ],
             [
              0.7777777777777778,
              "#fb9f3a"
             ],
             [
              0.8888888888888888,
              "#fdca26"
             ],
             [
              1,
              "#f0f921"
             ]
            ],
            "type": "histogram2dcontour"
           }
          ],
          "mesh3d": [
           {
            "colorbar": {
             "outlinewidth": 0,
             "ticks": ""
            },
            "type": "mesh3d"
           }
          ],
          "parcoords": [
           {
            "line": {
             "colorbar": {
              "outlinewidth": 0,
              "ticks": ""
             }
            },
            "type": "parcoords"
           }
          ],
          "pie": [
           {
            "automargin": true,
            "type": "pie"
           }
          ],
          "scatter": [
           {
            "fillpattern": {
             "fillmode": "overlay",
             "size": 10,
             "solidity": 0.2
            },
            "type": "scatter"
           }
          ],
          "scatter3d": [
           {
            "line": {
             "colorbar": {
              "outlinewidth": 0,
              "ticks": ""
             }
            },
            "marker": {
             "colorbar": {
              "outlinewidth": 0,
              "ticks": ""
             }
            },
            "type": "scatter3d"
           }
          ],
          "scattercarpet": [
           {
            "marker": {
             "colorbar": {
              "outlinewidth": 0,
              "ticks": ""
             }
            },
            "type": "scattercarpet"
           }
          ],
          "scattergeo": [
           {
            "marker": {
             "colorbar": {
              "outlinewidth": 0,
              "ticks": ""
             }
            },
            "type": "scattergeo"
           }
          ],
          "scattergl": [
           {
            "marker": {
             "colorbar": {
              "outlinewidth": 0,
              "ticks": ""
             }
            },
            "type": "scattergl"
           }
          ],
          "scattermap": [
           {
            "marker": {
             "colorbar": {
              "outlinewidth": 0,
              "ticks": ""
             }
            },
            "type": "scattermap"
           }
          ],
          "scattermapbox": [
           {
            "marker": {
             "colorbar": {
              "outlinewidth": 0,
              "ticks": ""
             }
            },
            "type": "scattermapbox"
           }
          ],
          "scatterpolar": [
           {
            "marker": {
             "colorbar": {
              "outlinewidth": 0,
              "ticks": ""
             }
            },
            "type": "scatterpolar"
           }
          ],
          "scatterpolargl": [
           {
            "marker": {
             "colorbar": {
              "outlinewidth": 0,
              "ticks": ""
             }
            },
            "type": "scatterpolargl"
           }
          ],
          "scatterternary": [
           {
            "marker": {
             "colorbar": {
              "outlinewidth": 0,
              "ticks": ""
             }
            },
            "type": "scatterternary"
           }
          ],
          "surface": [
           {
            "colorbar": {
             "outlinewidth": 0,
             "ticks": ""
            },
            "colorscale": [
             [
              0,
              "#0d0887"
             ],
             [
              0.1111111111111111,
              "#46039f"
             ],
             [
              0.2222222222222222,
              "#7201a8"
             ],
             [
              0.3333333333333333,
              "#9c179e"
             ],
             [
              0.4444444444444444,
              "#bd3786"
             ],
             [
              0.5555555555555556,
              "#d8576b"
             ],
             [
              0.6666666666666666,
              "#ed7953"
             ],
             [
              0.7777777777777778,
              "#fb9f3a"
             ],
             [
              0.8888888888888888,
              "#fdca26"
             ],
             [
              1,
              "#f0f921"
             ]
            ],
            "type": "surface"
           }
          ],
          "table": [
           {
            "cells": {
             "fill": {
              "color": "#EBF0F8"
             },
             "line": {
              "color": "white"
             }
            },
            "header": {
             "fill": {
              "color": "#C8D4E3"
             },
             "line": {
              "color": "white"
             }
            },
            "type": "table"
           }
          ]
         },
         "layout": {
          "annotationdefaults": {
           "arrowcolor": "#2a3f5f",
           "arrowhead": 0,
           "arrowwidth": 1
          },
          "autotypenumbers": "strict",
          "coloraxis": {
           "colorbar": {
            "outlinewidth": 0,
            "ticks": ""
           }
          },
          "colorscale": {
           "diverging": [
            [
             0,
             "#8e0152"
            ],
            [
             0.1,
             "#c51b7d"
            ],
            [
             0.2,
             "#de77ae"
            ],
            [
             0.3,
             "#f1b6da"
            ],
            [
             0.4,
             "#fde0ef"
            ],
            [
             0.5,
             "#f7f7f7"
            ],
            [
             0.6,
             "#e6f5d0"
            ],
            [
             0.7,
             "#b8e186"
            ],
            [
             0.8,
             "#7fbc41"
            ],
            [
             0.9,
             "#4d9221"
            ],
            [
             1,
             "#276419"
            ]
           ],
           "sequential": [
            [
             0,
             "#0d0887"
            ],
            [
             0.1111111111111111,
             "#46039f"
            ],
            [
             0.2222222222222222,
             "#7201a8"
            ],
            [
             0.3333333333333333,
             "#9c179e"
            ],
            [
             0.4444444444444444,
             "#bd3786"
            ],
            [
             0.5555555555555556,
             "#d8576b"
            ],
            [
             0.6666666666666666,
             "#ed7953"
            ],
            [
             0.7777777777777778,
             "#fb9f3a"
            ],
            [
             0.8888888888888888,
             "#fdca26"
            ],
            [
             1,
             "#f0f921"
            ]
           ],
           "sequentialminus": [
            [
             0,
             "#0d0887"
            ],
            [
             0.1111111111111111,
             "#46039f"
            ],
            [
             0.2222222222222222,
             "#7201a8"
            ],
            [
             0.3333333333333333,
             "#9c179e"
            ],
            [
             0.4444444444444444,
             "#bd3786"
            ],
            [
             0.5555555555555556,
             "#d8576b"
            ],
            [
             0.6666666666666666,
             "#ed7953"
            ],
            [
             0.7777777777777778,
             "#fb9f3a"
            ],
            [
             0.8888888888888888,
             "#fdca26"
            ],
            [
             1,
             "#f0f921"
            ]
           ]
          },
          "colorway": [
           "#636efa",
           "#EF553B",
           "#00cc96",
           "#ab63fa",
           "#FFA15A",
           "#19d3f3",
           "#FF6692",
           "#B6E880",
           "#FF97FF",
           "#FECB52"
          ],
          "font": {
           "color": "#2a3f5f"
          },
          "geo": {
           "bgcolor": "white",
           "lakecolor": "white",
           "landcolor": "#E5ECF6",
           "showlakes": true,
           "showland": true,
           "subunitcolor": "white"
          },
          "hoverlabel": {
           "align": "left"
          },
          "hovermode": "closest",
          "mapbox": {
           "style": "light"
          },
          "paper_bgcolor": "white",
          "plot_bgcolor": "#E5ECF6",
          "polar": {
           "angularaxis": {
            "gridcolor": "white",
            "linecolor": "white",
            "ticks": ""
           },
           "bgcolor": "#E5ECF6",
           "radialaxis": {
            "gridcolor": "white",
            "linecolor": "white",
            "ticks": ""
           }
          },
          "scene": {
           "xaxis": {
            "backgroundcolor": "#E5ECF6",
            "gridcolor": "white",
            "gridwidth": 2,
            "linecolor": "white",
            "showbackground": true,
            "ticks": "",
            "zerolinecolor": "white"
           },
           "yaxis": {
            "backgroundcolor": "#E5ECF6",
            "gridcolor": "white",
            "gridwidth": 2,
            "linecolor": "white",
            "showbackground": true,
            "ticks": "",
            "zerolinecolor": "white"
           },
           "zaxis": {
            "backgroundcolor": "#E5ECF6",
            "gridcolor": "white",
            "gridwidth": 2,
            "linecolor": "white",
            "showbackground": true,
            "ticks": "",
            "zerolinecolor": "white"
           }
          },
          "shapedefaults": {
           "line": {
            "color": "#2a3f5f"
           }
          },
          "ternary": {
           "aaxis": {
            "gridcolor": "white",
            "linecolor": "white",
            "ticks": ""
           },
           "baxis": {
            "gridcolor": "white",
            "linecolor": "white",
            "ticks": ""
           },
           "bgcolor": "#E5ECF6",
           "caxis": {
            "gridcolor": "white",
            "linecolor": "white",
            "ticks": ""
           }
          },
          "title": {
           "x": 0.05
          },
          "xaxis": {
           "automargin": true,
           "gridcolor": "white",
           "linecolor": "white",
           "ticks": "",
           "title": {
            "standoff": 15
           },
           "zerolinecolor": "white",
           "zerolinewidth": 2
          },
          "yaxis": {
           "automargin": true,
           "gridcolor": "white",
           "linecolor": "white",
           "ticks": "",
           "title": {
            "standoff": 15
           },
           "zerolinecolor": "white",
           "zerolinewidth": 2
          }
         }
        },
        "xaxis": {
         "anchor": "y",
         "categoryarray": [
          1,
          2,
          3,
          4,
          5
         ],
         "categoryorder": "array",
         "domain": [
          0,
          1
         ],
         "title": {
          "text": "best_batter"
         }
        },
        "yaxis": {
         "anchor": "x",
         "domain": [
          0,
          1
         ],
         "title": {
          "text": "count"
         }
        }
       }
      }
     },
     "metadata": {},
     "output_type": "display_data"
    }
   ],
   "source": [
    "px.histogram(data, x='best_batter', color='best_batter')"
   ]
  },
  {
   "cell_type": "code",
   "execution_count": 178,
   "id": "ff4ae959",
   "metadata": {},
   "outputs": [
    {
     "data": {
      "text/plain": [
       "best_batter\n",
       "1    1000\n",
       "2    1000\n",
       "3    1000\n",
       "4    1000\n",
       "5    1000\n",
       "Name: count, dtype: int64"
      ]
     },
     "execution_count": 178,
     "metadata": {},
     "output_type": "execute_result"
    }
   ],
   "source": [
    "data['best_batter'].value_counts()"
   ]
  },
  {
   "cell_type": "code",
   "execution_count": 179,
   "id": "ca00bc59",
   "metadata": {},
   "outputs": [],
   "source": [
    "# data = data.drop('opposition_strength', inplace=True)"
   ]
  },
  {
   "cell_type": "code",
   "execution_count": 180,
   "id": "12b0ddbc",
   "metadata": {},
   "outputs": [
    {
     "data": {
      "application/vnd.plotly.v1+json": {
       "config": {
        "plotlyServerURL": "https://plot.ly"
       },
       "data": [
        {
         "customdata": {
          "bdata": "AQEBAQEBAQEBAQEBAQEBAQEBAQEBAQEBAQEBAQEBAQEBAQEBAQEBAQEBAQEBAQEBAQEBAQEBAQEBAQEBAQEBAQEBAQEBAQEBAQEBAQEBAQEBAQEBAQEBAQEBAQEBAQEBAQEBAQEBAQEBAQEBAQEBAQEBAQEBAQEBAQEBAQEBAQEBAQEBAQEBAQEBAQEBAQEBAQEBAQEBAQEBAQEBAQEBAQEBAQEBAQEBAQEBAQEBAQEBAQEBAQEBAQEBAQEBAQEBAQEBAQEBAQEBAQEBAQEBAQEBAQEBAQEBAQEBAQEBAQEBAQEBAQEBAQEBAQEBAQEBAQEBAQEBAQEBAQEBAQEBAQEBAQEBAQEBAQEBAQEBAQEBAQEBAQEBAQEBAQEBAQEBAQEBAQEBAQEBAQEBAQEBAQEBAQEBAQEBAQEBAQEBAQEBAQEBAQEBAQEBAQEBAQEBAQEBAQEBAQEBAQEBAQEBAQEBAQEBAQEBAQEBAQEBAQEBAQEBAQEBAQEBAQEBAQEBAQEBAQEBAQEBAQEBAQEBAQEBAQEBAQEBAQEBAQEBAQEBAQEBAQEBAQEBAQEBAQEBAQEBAQEBAQEBAQEBAQEBAQEBAQEBAQEBAQEBAQEBAQEBAQEBAQEBAQEBAQEBAQEBAQEBAQEBAQEBAQEBAQEBAQEBAQEBAQEBAQEBAQEBAQEBAQEBAQEBAQEBAQEBAQEBAQEBAQEBAQEBAQEBAQEBAQEBAQEBAQEBAQEBAQEBAQEBAQEBAQEBAQEBAQEBAQEBAQEBAQEBAQEBAQEBAQEBAQEBAQEBAQEBAQEBAQEBAQEBAQEBAQEBAQEBAQEBAQEBAQEBAQEBAQEBAQEBAQEBAQEBAQEBAQEBAQEBAQEBAQEBAQEBAQEBAQEBAQEBAQEBAQEBAQEBAQEBAQEBAQEBAQEBAQEBAQEBAQEBAQEBAQEBAQEBAQEBAQEBAQEBAQEBAQEBAQEBAQEBAQEBAQEBAQEBAQEBAQEBAQEBAQEBAQEBAQEBAQEBAQEBAQEBAQEBAQEBAQEBAQEBAQEBAQEBAQEBAQEBAQEBAQEBAQEBAQEBAQEBAQEBAQEBAQEBAQEBAQEBAQEBAQEBAQEBAQEBAQEBAQEBAQEBAQEBAQEBAQEBAQEBAQEBAQEBAQEBAQEBAQEBAQEBAQEBAQEBAQEBAQEBAQEBAQEBAQEBAQEBAQEBAQEBAQEBAQEBAQEBAQEBAQEBAQEBAQEBAQEBAQEBAQEBAQEBAQEBAQEBAQEBAQEBAQEBAQEBAQEBAQEBAQEBAQEBAQEBAQEBAQEBAQEBAQEBAQEBAQEBAQEBAQEBAQEBAQEBAQEBAQICAgICAgICAgICAgICAgICAgICAgICAgICAgICAgICAgICAgICAgICAgICAgICAgICAgICAgICAgICAgICAgICAgICAgICAgICAgICAgICAgICAgICAgICAgICAgICAgICAgICAgICAgICAgICAgICAgICAgICAgICAgICAgICAgICAgICAgICAgICAgICAgICAgICAgICAgICAgICAgICAgICAgICAgICAgICAgICAgICAgICAgICAgICAgICAgICAgICAgICAgICAgICAgICAgICAgICAgICAgICAgICAgICAgICAgICAgICAgICAgICAgICAgICAgICAgICAgICAgICAgICAgICAgICAgICAgICAgICAgICAgICAgICAgICAgICAgICAgICAgICAgICAgICAgICAgICAgICAgICAgICAgICAgICAgICAgICAgICAgICAgICAgICAgICAgICAgICAgICAgICAgICAgICAgICAgICAgICAgICAgICAgICAgICAgICAgICAgICAgICAgICAgICAgICAgICAgICAgICAgICAgICAgICAgICAgICAgICAgICAgICAgICAgICAgICAgICAgICAgICAgICAgICAgICAgICAgICAgICAgICAgICAgICAgICAgICAgICAgICAgICAgICAgICAgICAgICAgICAgICAgICAgICAgICAgICAgICAgICAgICAgICAgICAgICAgICAgICAgICAgICAgICAgICAgICAgICAgICAgICAgICAgICAgICAgICAgICAgICAgICAgICAgICAgICAgICAgICAgICAgICAgICAgICAgICAgICAgICAgICAgICAgICAgICAgICAgICAgICAgICAgICAgICAgICAgICAgICAgICAgICAgICAgICAgICAgICAgICAgICAgICAgICAgICAgICAgICAgICAgICAgICAgICAgICAgICAgICAgICAgICAgICAgICAgICAgICAgICAgICAgICAgICAgICAgICAgICAgICAgICAgICAgICAgICAgICAgICAgICAgICAgICAgICAgICAgICAgICAgICAgICAgICAgICAgICAgICAgICAgICAgICAgICAgICAgICAgICAgICAgICAgICAgICAgICAgICAgICAgICAgICAgICAgICAgICAgICAgICAgICAgICAgICAgICAgICAgICAgICAgICAgICAgICAgICAgICAgICAgICAgICAgICAgICAgICAgICAgICAgICAgICAgICAgICAgICAgICAgICAgICAgICAgICAgICAgICAgICAgIDAwMDAwMDAwMDAwMDAwMDAwMDAwMDAwMDAwMDAwMDAwMDAwMDAwMDAwMDAwMDAwMDAwMDAwMDAwMDAwMDAwMDAwMDAwMDAwMDAwMDAwMDAwMDAwMDAwMDAwMDAwMDAwMDAwMDAwMDAwMDAwMDAwMDAwMDAwMDAwMDAwMDAwMDAwMDAwMDAwMDAwMDAwMDAwMDAwMDAwMDAwMDAwMDAwMDAwMDAwMDAwMDAwMDAwMDAwMDAwMDAwMDAwMDAwMDAwMDAwMDAwMDAwMDAwMDAwMDAwMDAwMDAwMDAwMDAwMDAwMDAwMDAwMDAwMDAwMDAwMDAwMDAwMDAwMDAwMDAwMDAwMDAwMDAwMDAwMDAwMDAwMDAwMDAwMDAwMDAwMDAwMDAwMDAwMDAwMDAwMDAwMDAwMDAwMDAwMDAwMDAwMDAwMDAwMDAwMDAwMDAwMDAwMDAwMDAwMDAwMDAwMDAwMDAwMDAwMDAwMDAwMDAwMDAwMDAwMDAwMDAwMDAwMDAwMDAwMDAwMDAwMDAwMDAwMDAwMDAwMDAwMDAwMDAwMDAwMDAwMDAwMDAwMDAwMDAwMDAwMDAwMDAwMDAwMDAwMDAwMDAwMDAwMDAwMDAwMDAwMDAwMDAwMDAwMDAwMDAwMDAwMDAwMDAwMDAwMDAwMDAwMDAwMDAwMDAwMDAwMDAwMDAwMDAwMDAwMDAwMDAwMDAwMDAwMDAwMDAwMDAwMDAwMDAwMDAwMDAwMDAwMDAwMDAwMDAwMDAwMDAwMDAwMDAwMDAwMDAwMDAwMDAwMDAwMDAwMDAwMDAwMDAwMDAwMDAwMDAwMDAwMDAwMDAwMDAwMDAwMDAwMDAwMDAwMDAwMDAwMDAwMDAwMDAwMDAwMDAwMDAwMDAwMDAwMDAwMDAwMDAwMDAwMDAwMDAwMDAwMDAwMDAwMDAwMDAwMDAwMDAwMDAwMDAwMDAwMDAwMDAwMDAwMDAwMDAwMDAwMDAwMDAwMDAwMDAwMDAwMDAwMDAwMDAwMDAwMDAwMDAwMDAwMDAwMDAwMDAwMDAwMDAwMDAwMDAwMDAwMDAwMDAwMDAwMDAwMDAwMDAwMDAwMDAwMDAwMDAwMDAwMDAwMDAwMDAwMDAwMDAwMDAwMDAwMDAwMDAwMDAwMDAwMDAwMDAwMDAwMDAwMDAwMDAwMDAwMDAwMDAwMDAwMDAwMDAwMDAwMDAwMDAwMDAwMDAwMDAwMDAwMDAwMDAwMDAwMDAwMDAwMDAwMDAwMDAwMDAwMDAwMDAwMDAwMDAwMDAwMDAwMDAwMDAwMDAwMDAwMDAwMDAwMDAwMDAwMDAwMDAwMDAwMDAwMDBAQEBAQEBAQEBAQEBAQEBAQEBAQEBAQEBAQEBAQEBAQEBAQEBAQEBAQEBAQEBAQEBAQEBAQEBAQEBAQEBAQEBAQEBAQEBAQEBAQEBAQEBAQEBAQEBAQEBAQEBAQEBAQEBAQEBAQEBAQEBAQEBAQEBAQEBAQEBAQEBAQEBAQEBAQEBAQEBAQEBAQEBAQEBAQEBAQEBAQEBAQEBAQEBAQEBAQEBAQEBAQEBAQEBAQEBAQEBAQEBAQEBAQEBAQEBAQEBAQEBAQEBAQEBAQEBAQEBAQEBAQEBAQEBAQEBAQEBAQEBAQEBAQEBAQEBAQEBAQEBAQEBAQEBAQEBAQEBAQEBAQEBAQEBAQEBAQEBAQEBAQEBAQEBAQEBAQEBAQEBAQEBAQEBAQEBAQEBAQEBAQEBAQEBAQEBAQEBAQEBAQEBAQEBAQEBAQEBAQEBAQEBAQEBAQEBAQEBAQEBAQEBAQEBAQEBAQEBAQEBAQEBAQEBAQEBAQEBAQEBAQEBAQEBAQEBAQEBAQEBAQEBAQEBAQEBAQEBAQEBAQEBAQEBAQEBAQEBAQEBAQEBAQEBAQEBAQEBAQEBAQEBAQEBAQEBAQEBAQEBAQEBAQEBAQEBAQEBAQEBAQEBAQEBAQEBAQEBAQEBAQEBAQEBAQEBAQEBAQEBAQEBAQEBAQEBAQEBAQEBAQEBAQEBAQEBAQEBAQEBAQEBAQEBAQEBAQEBAQEBAQEBAQEBAQEBAQEBAQEBAQEBAQEBAQEBAQEBAQEBAQEBAQEBAQEBAQEBAQEBAQEBAQEBAQEBAQEBAQEBAQEBAQEBAQEBAQEBAQEBAQEBAQEBAQEBAQEBAQEBAQEBAQEBAQEBAQEBAQEBAQEBAQEBAQEBAQEBAQEBAQEBAQEBAQEBAQEBAQEBAQEBAQEBAQEBAQEBAQEBAQEBAQEBAQEBAQEBAQEBAQEBAQEBAQEBAQEBAQEBAQEBAQEBAQEBAQEBAQEBAQEBAQEBAQEBAQEBAQEBAQEBAQEBAQEBAQEBAQEBAQEBAQEBAQEBAQEBAQEBAQEBAQEBAQEBAQEBAQEBAQEBAQEBAQEBAQEBAQEBAQEBAQEBAQEBAQEBAQEBAQEBAQEBAQEBAQEBAQEBAQEBAQEBAQEBAQEBAQEBAQEBAQEBAQEBAQEBAQEBAQEBAQEBAQEBAQEBAQEBAQEBAQEBAQEBAQEBAQEBAQEBAQEBAQEBAQEBAQEBAQEBAQEBAQEBAQEBAQEBAQEBAQEBAQEBAQEBAQEBAQEBAQEBAQEBAQEBAQEBAQEBAQEBAQEBAQEBAQEBAQEBAQEBAQEBAQEBAQEBAQEBAQEBAQEBAUFBQUFBQUFBQUFBQUFBQUFBQUFBQUFBQUFBQUFBQUFBQUFBQUFBQUFBQUFBQUFBQUFBQUFBQUFBQUFBQUFBQUFBQUFBQUFBQUFBQUFBQUFBQUFBQUFBQUFBQUFBQUFBQUFBQUFBQUFBQUFBQUFBQUFBQUFBQUFBQUFBQUFBQUFBQUFBQUFBQUFBQUFBQUFBQUFBQUFBQUFBQUFBQUFBQUFBQUFBQUFBQUFBQUFBQUFBQUFBQUFBQUFBQUFBQUFBQUFBQUFBQUFBQUFBQUFBQUFBQUFBQUFBQUFBQUFBQUFBQUFBQUFBQUFBQUFBQUFBQUFBQUFBQUFBQUFBQUFBQUFBQUFBQUFBQUFBQUFBQUFBQUFBQUFBQUFBQUFBQUFBQUFBQUFBQUFBQUFBQUFBQUFBQUFBQUFBQUFBQUFBQUFBQUFBQUFBQUFBQUFBQUFBQUFBQUFBQUFBQUFBQUFBQUFBQUFBQUFBQUFBQUFBQUFBQUFBQUFBQUFBQUFBQUFBQUFBQUFBQUFBQUFBQUFBQUFBQUFBQUFBQUFBQUFBQUFBQUFBQUFBQUFBQUFBQUFBQUFBQUFBQUFBQUFBQUFBQUFBQUFBQUFBQUFBQUFBQUFBQUFBQUFBQUFBQUFBQUFBQUFBQUFBQUFBQUFBQUFBQUFBQUFBQUFBQUFBQUFBQUFBQUFBQUFBQUFBQUFBQUFBQUFBQUFBQUFBQUFBQUFBQUFBQUFBQUFBQUFBQUFBQUFBQUFBQUFBQUFBQUFBQUFBQUFBQUFBQUFBQUFBQUFBQUFBQUFBQUFBQUFBQUFBQUFBQUFBQUFBQUFBQUFBQUFBQUFBQUFBQUFBQUFBQUFBQUFBQUFBQUFBQUFBQUFBQUFBQUFBQUFBQUFBQUFBQUFBQUFBQUFBQUFBQUFBQUFBQUFBQUFBQUFBQUFBQUFBQUFBQUFBQUFBQUFBQUFBQUFBQUFBQUFBQUFBQUFBQUFBQUFBQUFBQUFBQUFBQUFBQUFBQUFBQUFBQUFBQUFBQUFBQUFBQUFBQUFBQUFBQUFBQUFBQUFBQUFBQUFBQUFBQUFBQUFBQUFBQUFBQUFBQUFBQUFBQUFBQUFBQUFBQUFBQUFBQUFBQUFBQUFBQUFBQUFBQUFBQUFBQUFBQUFBQUFBQUFBQUFBQUFBQUFBQUFBQUFBQUFBQUFBQUFBQUFBQUFBQUFBQUFBQUFBQUFBQUFBQUFBQUFBQUFBQUFBQUFBQUFBQUFBQUFBQUFBQUFBQUFBQUFBQUFBQUFBQUFBQUFBQUFBQUFBQUFBQUFBQUFBQUFBQUFBQUFBQUFBQUFBQUFBQUFBQUFBQU=",
          "dtype": "i1",
          "shape": "5000, 1"
         },
         "hovertemplate": "wind_speed=%{x}<br>temperature=%{y}<br>best_batter=%{marker.color}<extra></extra>",
         "legendgroup": "",
         "marker": {
          "color": {
           "bdata": "AQEBAQEBAQEBAQEBAQEBAQEBAQEBAQEBAQEBAQEBAQEBAQEBAQEBAQEBAQEBAQEBAQEBAQEBAQEBAQEBAQEBAQEBAQEBAQEBAQEBAQEBAQEBAQEBAQEBAQEBAQEBAQEBAQEBAQEBAQEBAQEBAQEBAQEBAQEBAQEBAQEBAQEBAQEBAQEBAQEBAQEBAQEBAQEBAQEBAQEBAQEBAQEBAQEBAQEBAQEBAQEBAQEBAQEBAQEBAQEBAQEBAQEBAQEBAQEBAQEBAQEBAQEBAQEBAQEBAQEBAQEBAQEBAQEBAQEBAQEBAQEBAQEBAQEBAQEBAQEBAQEBAQEBAQEBAQEBAQEBAQEBAQEBAQEBAQEBAQEBAQEBAQEBAQEBAQEBAQEBAQEBAQEBAQEBAQEBAQEBAQEBAQEBAQEBAQEBAQEBAQEBAQEBAQEBAQEBAQEBAQEBAQEBAQEBAQEBAQEBAQEBAQEBAQEBAQEBAQEBAQEBAQEBAQEBAQEBAQEBAQEBAQEBAQEBAQEBAQEBAQEBAQEBAQEBAQEBAQEBAQEBAQEBAQEBAQEBAQEBAQEBAQEBAQEBAQEBAQEBAQEBAQEBAQEBAQEBAQEBAQEBAQEBAQEBAQEBAQEBAQEBAQEBAQEBAQEBAQEBAQEBAQEBAQEBAQEBAQEBAQEBAQEBAQEBAQEBAQEBAQEBAQEBAQEBAQEBAQEBAQEBAQEBAQEBAQEBAQEBAQEBAQEBAQEBAQEBAQEBAQEBAQEBAQEBAQEBAQEBAQEBAQEBAQEBAQEBAQEBAQEBAQEBAQEBAQEBAQEBAQEBAQEBAQEBAQEBAQEBAQEBAQEBAQEBAQEBAQEBAQEBAQEBAQEBAQEBAQEBAQEBAQEBAQEBAQEBAQEBAQEBAQEBAQEBAQEBAQEBAQEBAQEBAQEBAQEBAQEBAQEBAQEBAQEBAQEBAQEBAQEBAQEBAQEBAQEBAQEBAQEBAQEBAQEBAQEBAQEBAQEBAQEBAQEBAQEBAQEBAQEBAQEBAQEBAQEBAQEBAQEBAQEBAQEBAQEBAQEBAQEBAQEBAQEBAQEBAQEBAQEBAQEBAQEBAQEBAQEBAQEBAQEBAQEBAQEBAQEBAQEBAQEBAQEBAQEBAQEBAQEBAQEBAQEBAQEBAQEBAQEBAQEBAQEBAQEBAQEBAQEBAQEBAQEBAQEBAQEBAQEBAQEBAQEBAQEBAQEBAQEBAQEBAQEBAQEBAQEBAQEBAQEBAQEBAQEBAQEBAQEBAQEBAQEBAQEBAQEBAQEBAQEBAQEBAQEBAQEBAQEBAQEBAQEBAQEBAQEBAQEBAQEBAQEBAQEBAQEBAQEBAQEBAQEBAQICAgICAgICAgICAgICAgICAgICAgICAgICAgICAgICAgICAgICAgICAgICAgICAgICAgICAgICAgICAgICAgICAgICAgICAgICAgICAgICAgICAgICAgICAgICAgICAgICAgICAgICAgICAgICAgICAgICAgICAgICAgICAgICAgICAgICAgICAgICAgICAgICAgICAgICAgICAgICAgICAgICAgICAgICAgICAgICAgICAgICAgICAgICAgICAgICAgICAgICAgICAgICAgICAgICAgICAgICAgICAgICAgICAgICAgICAgICAgICAgICAgICAgICAgICAgICAgICAgICAgICAgICAgICAgICAgICAgICAgICAgICAgICAgICAgICAgICAgICAgICAgICAgICAgICAgICAgICAgICAgICAgICAgICAgICAgICAgICAgICAgICAgICAgICAgICAgICAgICAgICAgICAgICAgICAgICAgICAgICAgICAgICAgICAgICAgICAgICAgICAgICAgICAgICAgICAgICAgICAgICAgICAgICAgICAgICAgICAgICAgICAgICAgICAgICAgICAgICAgICAgICAgICAgICAgICAgICAgICAgICAgICAgICAgICAgICAgICAgICAgICAgICAgICAgICAgICAgICAgICAgICAgICAgICAgICAgICAgICAgICAgICAgICAgICAgICAgICAgICAgICAgICAgICAgICAgICAgICAgICAgICAgICAgICAgICAgICAgICAgICAgICAgICAgICAgICAgICAgICAgICAgICAgICAgICAgICAgICAgICAgICAgICAgICAgICAgICAgICAgICAgICAgICAgICAgICAgICAgICAgICAgICAgICAgICAgICAgICAgICAgICAgICAgICAgICAgICAgICAgICAgICAgICAgICAgICAgICAgICAgICAgICAgICAgICAgICAgICAgICAgICAgICAgICAgICAgICAgICAgICAgICAgICAgICAgICAgICAgICAgICAgICAgICAgICAgICAgICAgICAgICAgICAgICAgICAgICAgICAgICAgICAgICAgICAgICAgICAgICAgICAgICAgICAgICAgICAgICAgICAgICAgICAgICAgICAgICAgICAgICAgICAgICAgICAgICAgICAgICAgICAgICAgICAgICAgICAgICAgICAgICAgICAgICAgICAgICAgICAgICAgICAgICAgICAgICAgICAgICAgICAgICAgICAgICAgICAgICAgIDAwMDAwMDAwMDAwMDAwMDAwMDAwMDAwMDAwMDAwMDAwMDAwMDAwMDAwMDAwMDAwMDAwMDAwMDAwMDAwMDAwMDAwMDAwMDAwMDAwMDAwMDAwMDAwMDAwMDAwMDAwMDAwMDAwMDAwMDAwMDAwMDAwMDAwMDAwMDAwMDAwMDAwMDAwMDAwMDAwMDAwMDAwMDAwMDAwMDAwMDAwMDAwMDAwMDAwMDAwMDAwMDAwMDAwMDAwMDAwMDAwMDAwMDAwMDAwMDAwMDAwMDAwMDAwMDAwMDAwMDAwMDAwMDAwMDAwMDAwMDAwMDAwMDAwMDAwMDAwMDAwMDAwMDAwMDAwMDAwMDAwMDAwMDAwMDAwMDAwMDAwMDAwMDAwMDAwMDAwMDAwMDAwMDAwMDAwMDAwMDAwMDAwMDAwMDAwMDAwMDAwMDAwMDAwMDAwMDAwMDAwMDAwMDAwMDAwMDAwMDAwMDAwMDAwMDAwMDAwMDAwMDAwMDAwMDAwMDAwMDAwMDAwMDAwMDAwMDAwMDAwMDAwMDAwMDAwMDAwMDAwMDAwMDAwMDAwMDAwMDAwMDAwMDAwMDAwMDAwMDAwMDAwMDAwMDAwMDAwMDAwMDAwMDAwMDAwMDAwMDAwMDAwMDAwMDAwMDAwMDAwMDAwMDAwMDAwMDAwMDAwMDAwMDAwMDAwMDAwMDAwMDAwMDAwMDAwMDAwMDAwMDAwMDAwMDAwMDAwMDAwMDAwMDAwMDAwMDAwMDAwMDAwMDAwMDAwMDAwMDAwMDAwMDAwMDAwMDAwMDAwMDAwMDAwMDAwMDAwMDAwMDAwMDAwMDAwMDAwMDAwMDAwMDAwMDAwMDAwMDAwMDAwMDAwMDAwMDAwMDAwMDAwMDAwMDAwMDAwMDAwMDAwMDAwMDAwMDAwMDAwMDAwMDAwMDAwMDAwMDAwMDAwMDAwMDAwMDAwMDAwMDAwMDAwMDAwMDAwMDAwMDAwMDAwMDAwMDAwMDAwMDAwMDAwMDAwMDAwMDAwMDAwMDAwMDAwMDAwMDAwMDAwMDAwMDAwMDAwMDAwMDAwMDAwMDAwMDAwMDAwMDAwMDAwMDAwMDAwMDAwMDAwMDAwMDAwMDAwMDAwMDAwMDAwMDAwMDAwMDAwMDAwMDAwMDAwMDAwMDAwMDAwMDAwMDAwMDAwMDAwMDAwMDAwMDAwMDAwMDAwMDAwMDAwMDAwMDAwMDAwMDAwMDAwMDAwMDAwMDAwMDAwMDAwMDAwMDAwMDAwMDAwMDAwMDAwMDAwMDAwMDAwMDAwMDAwMDAwMDAwMDAwMDAwMDAwMDAwMDAwMDAwMDAwMDAwMDAwMDAwMDAwMDAwMDBAQEBAQEBAQEBAQEBAQEBAQEBAQEBAQEBAQEBAQEBAQEBAQEBAQEBAQEBAQEBAQEBAQEBAQEBAQEBAQEBAQEBAQEBAQEBAQEBAQEBAQEBAQEBAQEBAQEBAQEBAQEBAQEBAQEBAQEBAQEBAQEBAQEBAQEBAQEBAQEBAQEBAQEBAQEBAQEBAQEBAQEBAQEBAQEBAQEBAQEBAQEBAQEBAQEBAQEBAQEBAQEBAQEBAQEBAQEBAQEBAQEBAQEBAQEBAQEBAQEBAQEBAQEBAQEBAQEBAQEBAQEBAQEBAQEBAQEBAQEBAQEBAQEBAQEBAQEBAQEBAQEBAQEBAQEBAQEBAQEBAQEBAQEBAQEBAQEBAQEBAQEBAQEBAQEBAQEBAQEBAQEBAQEBAQEBAQEBAQEBAQEBAQEBAQEBAQEBAQEBAQEBAQEBAQEBAQEBAQEBAQEBAQEBAQEBAQEBAQEBAQEBAQEBAQEBAQEBAQEBAQEBAQEBAQEBAQEBAQEBAQEBAQEBAQEBAQEBAQEBAQEBAQEBAQEBAQEBAQEBAQEBAQEBAQEBAQEBAQEBAQEBAQEBAQEBAQEBAQEBAQEBAQEBAQEBAQEBAQEBAQEBAQEBAQEBAQEBAQEBAQEBAQEBAQEBAQEBAQEBAQEBAQEBAQEBAQEBAQEBAQEBAQEBAQEBAQEBAQEBAQEBAQEBAQEBAQEBAQEBAQEBAQEBAQEBAQEBAQEBAQEBAQEBAQEBAQEBAQEBAQEBAQEBAQEBAQEBAQEBAQEBAQEBAQEBAQEBAQEBAQEBAQEBAQEBAQEBAQEBAQEBAQEBAQEBAQEBAQEBAQEBAQEBAQEBAQEBAQEBAQEBAQEBAQEBAQEBAQEBAQEBAQEBAQEBAQEBAQEBAQEBAQEBAQEBAQEBAQEBAQEBAQEBAQEBAQEBAQEBAQEBAQEBAQEBAQEBAQEBAQEBAQEBAQEBAQEBAQEBAQEBAQEBAQEBAQEBAQEBAQEBAQEBAQEBAQEBAQEBAQEBAQEBAQEBAQEBAQEBAQEBAQEBAQEBAQEBAQEBAQEBAQEBAQEBAQEBAQEBAQEBAQEBAQEBAQEBAQEBAQEBAQEBAQEBAQEBAQEBAQEBAQEBAQEBAQEBAQEBAQEBAQEBAQEBAQEBAQEBAQEBAQEBAQEBAQEBAQEBAQEBAQEBAQEBAQEBAQEBAQEBAQEBAQEBAQEBAQEBAQEBAQEBAQEBAQEBAQEBAQEBAQEBAQEBAQEBAQEBAQEBAQEBAQEBAQEBAQEBAQEBAQEBAQEBAQEBAQEBAQEBAQEBAQEBAQEBAQEBAQEBAQEBAQEBAQEBAQEBAQEBAQEBAQEBAUFBQUFBQUFBQUFBQUFBQUFBQUFBQUFBQUFBQUFBQUFBQUFBQUFBQUFBQUFBQUFBQUFBQUFBQUFBQUFBQUFBQUFBQUFBQUFBQUFBQUFBQUFBQUFBQUFBQUFBQUFBQUFBQUFBQUFBQUFBQUFBQUFBQUFBQUFBQUFBQUFBQUFBQUFBQUFBQUFBQUFBQUFBQUFBQUFBQUFBQUFBQUFBQUFBQUFBQUFBQUFBQUFBQUFBQUFBQUFBQUFBQUFBQUFBQUFBQUFBQUFBQUFBQUFBQUFBQUFBQUFBQUFBQUFBQUFBQUFBQUFBQUFBQUFBQUFBQUFBQUFBQUFBQUFBQUFBQUFBQUFBQUFBQUFBQUFBQUFBQUFBQUFBQUFBQUFBQUFBQUFBQUFBQUFBQUFBQUFBQUFBQUFBQUFBQUFBQUFBQUFBQUFBQUFBQUFBQUFBQUFBQUFBQUFBQUFBQUFBQUFBQUFBQUFBQUFBQUFBQUFBQUFBQUFBQUFBQUFBQUFBQUFBQUFBQUFBQUFBQUFBQUFBQUFBQUFBQUFBQUFBQUFBQUFBQUFBQUFBQUFBQUFBQUFBQUFBQUFBQUFBQUFBQUFBQUFBQUFBQUFBQUFBQUFBQUFBQUFBQUFBQUFBQUFBQUFBQUFBQUFBQUFBQUFBQUFBQUFBQUFBQUFBQUFBQUFBQUFBQUFBQUFBQUFBQUFBQUFBQUFBQUFBQUFBQUFBQUFBQUFBQUFBQUFBQUFBQUFBQUFBQUFBQUFBQUFBQUFBQUFBQUFBQUFBQUFBQUFBQUFBQUFBQUFBQUFBQUFBQUFBQUFBQUFBQUFBQUFBQUFBQUFBQUFBQUFBQUFBQUFBQUFBQUFBQUFBQUFBQUFBQUFBQUFBQUFBQUFBQUFBQUFBQUFBQUFBQUFBQUFBQUFBQUFBQUFBQUFBQUFBQUFBQUFBQUFBQUFBQUFBQUFBQUFBQUFBQUFBQUFBQUFBQUFBQUFBQUFBQUFBQUFBQUFBQUFBQUFBQUFBQUFBQUFBQUFBQUFBQUFBQUFBQUFBQUFBQUFBQUFBQUFBQUFBQUFBQUFBQUFBQUFBQUFBQUFBQUFBQUFBQUFBQUFBQUFBQUFBQUFBQUFBQUFBQUFBQUFBQUFBQUFBQUFBQUFBQUFBQUFBQUFBQUFBQUFBQUFBQUFBQUFBQUFBQUFBQUFBQUFBQUFBQUFBQUFBQUFBQUFBQUFBQUFBQUFBQUFBQUFBQUFBQUFBQUFBQUFBQUFBQUFBQUFBQUFBQUFBQUFBQUFBQUFBQUFBQUFBQUFBQUFBQUFBQUFBQUFBQUFBQUFBQUFBQUFBQUFBQUFBQUFBQUFBQU=",
           "dtype": "i1"
          },
          "coloraxis": "coloraxis",
          "symbol": "circle"
         },
         "mode": "markers",
         "name": "",
         "showlegend": false,
         "type": "scattergl",
         "x": {
          "bdata": "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",
          "dtype": "f8"
         },
         "xaxis": "x",
         "y": {
          "bdata": "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",
          "dtype": "f8"
         },
         "yaxis": "y"
        }
       ],
       "layout": {
        "coloraxis": {
         "colorbar": {
          "title": {
           "text": "best_batter"
          }
         },
         "colorscale": [
          [
           0,
           "#0d0887"
          ],
          [
           0.1111111111111111,
           "#46039f"
          ],
          [
           0.2222222222222222,
           "#7201a8"
          ],
          [
           0.3333333333333333,
           "#9c179e"
          ],
          [
           0.4444444444444444,
           "#bd3786"
          ],
          [
           0.5555555555555556,
           "#d8576b"
          ],
          [
           0.6666666666666666,
           "#ed7953"
          ],
          [
           0.7777777777777778,
           "#fb9f3a"
          ],
          [
           0.8888888888888888,
           "#fdca26"
          ],
          [
           1,
           "#f0f921"
          ]
         ]
        },
        "legend": {
         "tracegroupgap": 0
        },
        "margin": {
         "t": 60
        },
        "template": {
         "data": {
          "bar": [
           {
            "error_x": {
             "color": "#2a3f5f"
            },
            "error_y": {
             "color": "#2a3f5f"
            },
            "marker": {
             "line": {
              "color": "#E5ECF6",
              "width": 0.5
             },
             "pattern": {
              "fillmode": "overlay",
              "size": 10,
              "solidity": 0.2
             }
            },
            "type": "bar"
           }
          ],
          "barpolar": [
           {
            "marker": {
             "line": {
              "color": "#E5ECF6",
              "width": 0.5
             },
             "pattern": {
              "fillmode": "overlay",
              "size": 10,
              "solidity": 0.2
             }
            },
            "type": "barpolar"
           }
          ],
          "carpet": [
           {
            "aaxis": {
             "endlinecolor": "#2a3f5f",
             "gridcolor": "white",
             "linecolor": "white",
             "minorgridcolor": "white",
             "startlinecolor": "#2a3f5f"
            },
            "baxis": {
             "endlinecolor": "#2a3f5f",
             "gridcolor": "white",
             "linecolor": "white",
             "minorgridcolor": "white",
             "startlinecolor": "#2a3f5f"
            },
            "type": "carpet"
           }
          ],
          "choropleth": [
           {
            "colorbar": {
             "outlinewidth": 0,
             "ticks": ""
            },
            "type": "choropleth"
           }
          ],
          "contour": [
           {
            "colorbar": {
             "outlinewidth": 0,
             "ticks": ""
            },
            "colorscale": [
             [
              0,
              "#0d0887"
             ],
             [
              0.1111111111111111,
              "#46039f"
             ],
             [
              0.2222222222222222,
              "#7201a8"
             ],
             [
              0.3333333333333333,
              "#9c179e"
             ],
             [
              0.4444444444444444,
              "#bd3786"
             ],
             [
              0.5555555555555556,
              "#d8576b"
             ],
             [
              0.6666666666666666,
              "#ed7953"
             ],
             [
              0.7777777777777778,
              "#fb9f3a"
             ],
             [
              0.8888888888888888,
              "#fdca26"
             ],
             [
              1,
              "#f0f921"
             ]
            ],
            "type": "contour"
           }
          ],
          "contourcarpet": [
           {
            "colorbar": {
             "outlinewidth": 0,
             "ticks": ""
            },
            "type": "contourcarpet"
           }
          ],
          "heatmap": [
           {
            "colorbar": {
             "outlinewidth": 0,
             "ticks": ""
            },
            "colorscale": [
             [
              0,
              "#0d0887"
             ],
             [
              0.1111111111111111,
              "#46039f"
             ],
             [
              0.2222222222222222,
              "#7201a8"
             ],
             [
              0.3333333333333333,
              "#9c179e"
             ],
             [
              0.4444444444444444,
              "#bd3786"
             ],
             [
              0.5555555555555556,
              "#d8576b"
             ],
             [
              0.6666666666666666,
              "#ed7953"
             ],
             [
              0.7777777777777778,
              "#fb9f3a"
             ],
             [
              0.8888888888888888,
              "#fdca26"
             ],
             [
              1,
              "#f0f921"
             ]
            ],
            "type": "heatmap"
           }
          ],
          "histogram": [
           {
            "marker": {
             "pattern": {
              "fillmode": "overlay",
              "size": 10,
              "solidity": 0.2
             }
            },
            "type": "histogram"
           }
          ],
          "histogram2d": [
           {
            "colorbar": {
             "outlinewidth": 0,
             "ticks": ""
            },
            "colorscale": [
             [
              0,
              "#0d0887"
             ],
             [
              0.1111111111111111,
              "#46039f"
             ],
             [
              0.2222222222222222,
              "#7201a8"
             ],
             [
              0.3333333333333333,
              "#9c179e"
             ],
             [
              0.4444444444444444,
              "#bd3786"
             ],
             [
              0.5555555555555556,
              "#d8576b"
             ],
             [
              0.6666666666666666,
              "#ed7953"
             ],
             [
              0.7777777777777778,
              "#fb9f3a"
             ],
             [
              0.8888888888888888,
              "#fdca26"
             ],
             [
              1,
              "#f0f921"
             ]
            ],
            "type": "histogram2d"
           }
          ],
          "histogram2dcontour": [
           {
            "colorbar": {
             "outlinewidth": 0,
             "ticks": ""
            },
            "colorscale": [
             [
              0,
              "#0d0887"
             ],
             [
              0.1111111111111111,
              "#46039f"
             ],
             [
              0.2222222222222222,
              "#7201a8"
             ],
             [
              0.3333333333333333,
              "#9c179e"
             ],
             [
              0.4444444444444444,
              "#bd3786"
             ],
             [
              0.5555555555555556,
              "#d8576b"
             ],
             [
              0.6666666666666666,
              "#ed7953"
             ],
             [
              0.7777777777777778,
              "#fb9f3a"
             ],
             [
              0.8888888888888888,
              "#fdca26"
             ],
             [
              1,
              "#f0f921"
             ]
            ],
            "type": "histogram2dcontour"
           }
          ],
          "mesh3d": [
           {
            "colorbar": {
             "outlinewidth": 0,
             "ticks": ""
            },
            "type": "mesh3d"
           }
          ],
          "parcoords": [
           {
            "line": {
             "colorbar": {
              "outlinewidth": 0,
              "ticks": ""
             }
            },
            "type": "parcoords"
           }
          ],
          "pie": [
           {
            "automargin": true,
            "type": "pie"
           }
          ],
          "scatter": [
           {
            "fillpattern": {
             "fillmode": "overlay",
             "size": 10,
             "solidity": 0.2
            },
            "type": "scatter"
           }
          ],
          "scatter3d": [
           {
            "line": {
             "colorbar": {
              "outlinewidth": 0,
              "ticks": ""
             }
            },
            "marker": {
             "colorbar": {
              "outlinewidth": 0,
              "ticks": ""
             }
            },
            "type": "scatter3d"
           }
          ],
          "scattercarpet": [
           {
            "marker": {
             "colorbar": {
              "outlinewidth": 0,
              "ticks": ""
             }
            },
            "type": "scattercarpet"
           }
          ],
          "scattergeo": [
           {
            "marker": {
             "colorbar": {
              "outlinewidth": 0,
              "ticks": ""
             }
            },
            "type": "scattergeo"
           }
          ],
          "scattergl": [
           {
            "marker": {
             "colorbar": {
              "outlinewidth": 0,
              "ticks": ""
             }
            },
            "type": "scattergl"
           }
          ],
          "scattermap": [
           {
            "marker": {
             "colorbar": {
              "outlinewidth": 0,
              "ticks": ""
             }
            },
            "type": "scattermap"
           }
          ],
          "scattermapbox": [
           {
            "marker": {
             "colorbar": {
              "outlinewidth": 0,
              "ticks": ""
             }
            },
            "type": "scattermapbox"
           }
          ],
          "scatterpolar": [
           {
            "marker": {
             "colorbar": {
              "outlinewidth": 0,
              "ticks": ""
             }
            },
            "type": "scatterpolar"
           }
          ],
          "scatterpolargl": [
           {
            "marker": {
             "colorbar": {
              "outlinewidth": 0,
              "ticks": ""
             }
            },
            "type": "scatterpolargl"
           }
          ],
          "scatterternary": [
           {
            "marker": {
             "colorbar": {
              "outlinewidth": 0,
              "ticks": ""
             }
            },
            "type": "scatterternary"
           }
          ],
          "surface": [
           {
            "colorbar": {
             "outlinewidth": 0,
             "ticks": ""
            },
            "colorscale": [
             [
              0,
              "#0d0887"
             ],
             [
              0.1111111111111111,
              "#46039f"
             ],
             [
              0.2222222222222222,
              "#7201a8"
             ],
             [
              0.3333333333333333,
              "#9c179e"
             ],
             [
              0.4444444444444444,
              "#bd3786"
             ],
             [
              0.5555555555555556,
              "#d8576b"
             ],
             [
              0.6666666666666666,
              "#ed7953"
             ],
             [
              0.7777777777777778,
              "#fb9f3a"
             ],
             [
              0.8888888888888888,
              "#fdca26"
             ],
             [
              1,
              "#f0f921"
             ]
            ],
            "type": "surface"
           }
          ],
          "table": [
           {
            "cells": {
             "fill": {
              "color": "#EBF0F8"
             },
             "line": {
              "color": "white"
             }
            },
            "header": {
             "fill": {
              "color": "#C8D4E3"
             },
             "line": {
              "color": "white"
             }
            },
            "type": "table"
           }
          ]
         },
         "layout": {
          "annotationdefaults": {
           "arrowcolor": "#2a3f5f",
           "arrowhead": 0,
           "arrowwidth": 1
          },
          "autotypenumbers": "strict",
          "coloraxis": {
           "colorbar": {
            "outlinewidth": 0,
            "ticks": ""
           }
          },
          "colorscale": {
           "diverging": [
            [
             0,
             "#8e0152"
            ],
            [
             0.1,
             "#c51b7d"
            ],
            [
             0.2,
             "#de77ae"
            ],
            [
             0.3,
             "#f1b6da"
            ],
            [
             0.4,
             "#fde0ef"
            ],
            [
             0.5,
             "#f7f7f7"
            ],
            [
             0.6,
             "#e6f5d0"
            ],
            [
             0.7,
             "#b8e186"
            ],
            [
             0.8,
             "#7fbc41"
            ],
            [
             0.9,
             "#4d9221"
            ],
            [
             1,
             "#276419"
            ]
           ],
           "sequential": [
            [
             0,
             "#0d0887"
            ],
            [
             0.1111111111111111,
             "#46039f"
            ],
            [
             0.2222222222222222,
             "#7201a8"
            ],
            [
             0.3333333333333333,
             "#9c179e"
            ],
            [
             0.4444444444444444,
             "#bd3786"
            ],
            [
             0.5555555555555556,
             "#d8576b"
            ],
            [
             0.6666666666666666,
             "#ed7953"
            ],
            [
             0.7777777777777778,
             "#fb9f3a"
            ],
            [
             0.8888888888888888,
             "#fdca26"
            ],
            [
             1,
             "#f0f921"
            ]
           ],
           "sequentialminus": [
            [
             0,
             "#0d0887"
            ],
            [
             0.1111111111111111,
             "#46039f"
            ],
            [
             0.2222222222222222,
             "#7201a8"
            ],
            [
             0.3333333333333333,
             "#9c179e"
            ],
            [
             0.4444444444444444,
             "#bd3786"
            ],
            [
             0.5555555555555556,
             "#d8576b"
            ],
            [
             0.6666666666666666,
             "#ed7953"
            ],
            [
             0.7777777777777778,
             "#fb9f3a"
            ],
            [
             0.8888888888888888,
             "#fdca26"
            ],
            [
             1,
             "#f0f921"
            ]
           ]
          },
          "colorway": [
           "#636efa",
           "#EF553B",
           "#00cc96",
           "#ab63fa",
           "#FFA15A",
           "#19d3f3",
           "#FF6692",
           "#B6E880",
           "#FF97FF",
           "#FECB52"
          ],
          "font": {
           "color": "#2a3f5f"
          },
          "geo": {
           "bgcolor": "white",
           "lakecolor": "white",
           "landcolor": "#E5ECF6",
           "showlakes": true,
           "showland": true,
           "subunitcolor": "white"
          },
          "hoverlabel": {
           "align": "left"
          },
          "hovermode": "closest",
          "mapbox": {
           "style": "light"
          },
          "paper_bgcolor": "white",
          "plot_bgcolor": "#E5ECF6",
          "polar": {
           "angularaxis": {
            "gridcolor": "white",
            "linecolor": "white",
            "ticks": ""
           },
           "bgcolor": "#E5ECF6",
           "radialaxis": {
            "gridcolor": "white",
            "linecolor": "white",
            "ticks": ""
           }
          },
          "scene": {
           "xaxis": {
            "backgroundcolor": "#E5ECF6",
            "gridcolor": "white",
            "gridwidth": 2,
            "linecolor": "white",
            "showbackground": true,
            "ticks": "",
            "zerolinecolor": "white"
           },
           "yaxis": {
            "backgroundcolor": "#E5ECF6",
            "gridcolor": "white",
            "gridwidth": 2,
            "linecolor": "white",
            "showbackground": true,
            "ticks": "",
            "zerolinecolor": "white"
           },
           "zaxis": {
            "backgroundcolor": "#E5ECF6",
            "gridcolor": "white",
            "gridwidth": 2,
            "linecolor": "white",
            "showbackground": true,
            "ticks": "",
            "zerolinecolor": "white"
           }
          },
          "shapedefaults": {
           "line": {
            "color": "#2a3f5f"
           }
          },
          "ternary": {
           "aaxis": {
            "gridcolor": "white",
            "linecolor": "white",
            "ticks": ""
           },
           "baxis": {
            "gridcolor": "white",
            "linecolor": "white",
            "ticks": ""
           },
           "bgcolor": "#E5ECF6",
           "caxis": {
            "gridcolor": "white",
            "linecolor": "white",
            "ticks": ""
           }
          },
          "title": {
           "x": 0.05
          },
          "xaxis": {
           "automargin": true,
           "gridcolor": "white",
           "linecolor": "white",
           "ticks": "",
           "title": {
            "standoff": 15
           },
           "zerolinecolor": "white",
           "zerolinewidth": 2
          },
          "yaxis": {
           "automargin": true,
           "gridcolor": "white",
           "linecolor": "white",
           "ticks": "",
           "title": {
            "standoff": 15
           },
           "zerolinecolor": "white",
           "zerolinewidth": 2
          }
         }
        },
        "xaxis": {
         "anchor": "y",
         "domain": [
          0,
          1
         ],
         "title": {
          "text": "wind_speed"
         }
        },
        "yaxis": {
         "anchor": "x",
         "domain": [
          0,
          1
         ],
         "title": {
          "text": "temperature"
         }
        }
       }
      }
     },
     "metadata": {},
     "output_type": "display_data"
    }
   ],
   "source": [
    "px.scatter(data, x='wind_speed', y='temperature', hover_data=['best_batter', 'temperature', 'wind_speed'], color='best_batter')"
   ]
  },
  {
   "cell_type": "code",
   "execution_count": 181,
   "id": "55e1f5f4",
   "metadata": {},
   "outputs": [
    {
     "data": {
      "text/plain": [
       "opposition_strength\n",
       "1     393\n",
       "2     390\n",
       "3     393\n",
       "4     395\n",
       "5     385\n",
       "6     403\n",
       "7     414\n",
       "8     774\n",
       "9     728\n",
       "10    725\n",
       "Name: best_batter, dtype: int64"
      ]
     },
     "execution_count": 181,
     "metadata": {},
     "output_type": "execute_result"
    }
   ],
   "source": [
    "data.groupby('opposition_strength').count()['best_batter']"
   ]
  },
  {
   "cell_type": "code",
   "execution_count": 182,
   "id": "226d047b",
   "metadata": {},
   "outputs": [
    {
     "data": {
      "application/vnd.plotly.v1+json": {
       "config": {
        "plotlyServerURL": "https://plot.ly"
       },
       "data": [
        {
         "coloraxis": "coloraxis",
         "hovertemplate": "opposition_strength=%{x}<br>best_batter=%{y}<br>count=%{z}<extra></extra>",
         "name": "",
         "type": "histogram2d",
         "x": {
          "bdata": "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",
          "dtype": "i1"
         },
         "xaxis": "x",
         "xbingroup": "x",
         "y": {
          "bdata": "AQEBAQEBAQEBAQEBAQEBAQEBAQEBAQEBAQEBAQEBAQEBAQEBAQEBAQEBAQEBAQEBAQEBAQEBAQEBAQEBAQEBAQEBAQEBAQEBAQEBAQEBAQEBAQEBAQEBAQEBAQEBAQEBAQEBAQEBAQEBAQEBAQEBAQEBAQEBAQEBAQEBAQEBAQEBAQEBAQEBAQEBAQEBAQEBAQEBAQEBAQEBAQEBAQEBAQEBAQEBAQEBAQEBAQEBAQEBAQEBAQEBAQEBAQEBAQEBAQEBAQEBAQEBAQEBAQEBAQEBAQEBAQEBAQEBAQEBAQEBAQEBAQEBAQEBAQEBAQEBAQEBAQEBAQEBAQEBAQEBAQEBAQEBAQEBAQEBAQEBAQEBAQEBAQEBAQEBAQEBAQEBAQEBAQEBAQEBAQEBAQEBAQEBAQEBAQEBAQEBAQEBAQEBAQEBAQEBAQEBAQEBAQEBAQEBAQEBAQEBAQEBAQEBAQEBAQEBAQEBAQEBAQEBAQEBAQEBAQEBAQEBAQEBAQEBAQEBAQEBAQEBAQEBAQEBAQEBAQEBAQEBAQEBAQEBAQEBAQEBAQEBAQEBAQEBAQEBAQEBAQEBAQEBAQEBAQEBAQEBAQEBAQEBAQEBAQEBAQEBAQEBAQEBAQEBAQEBAQEBAQEBAQEBAQEBAQEBAQEBAQEBAQEBAQEBAQEBAQEBAQEBAQEBAQEBAQEBAQEBAQEBAQEBAQEBAQEBAQEBAQEBAQEBAQEBAQEBAQEBAQEBAQEBAQEBAQEBAQEBAQEBAQEBAQEBAQEBAQEBAQEBAQEBAQEBAQEBAQEBAQEBAQEBAQEBAQEBAQEBAQEBAQEBAQEBAQEBAQEBAQEBAQEBAQEBAQEBAQEBAQEBAQEBAQEBAQEBAQEBAQEBAQEBAQEBAQEBAQEBAQEBAQEBAQEBAQEBAQEBAQEBAQEBAQEBAQEBAQEBAQEBAQEBAQEBAQEBAQEBAQEBAQEBAQEBAQEBAQEBAQEBAQEBAQEBAQEBAQEBAQEBAQEBAQEBAQEBAQEBAQEBAQEBAQEBAQEBAQEBAQEBAQEBAQEBAQEBAQEBAQEBAQEBAQEBAQEBAQEBAQEBAQEBAQEBAQEBAQEBAQEBAQEBAQEBAQEBAQEBAQEBAQEBAQEBAQEBAQEBAQEBAQEBAQEBAQEBAQEBAQEBAQEBAQEBAQEBAQEBAQEBAQEBAQEBAQEBAQEBAQEBAQEBAQEBAQEBAQEBAQEBAQEBAQEBAQEBAQEBAQEBAQEBAQEBAQEBAQEBAQEBAQEBAQEBAQEBAQEBAQEBAQEBAQEBAQEBAQEBAQEBAQEBAQEBAQEBAQEBAQEBAQEBAQEBAQICAgICAgICAgICAgICAgICAgICAgICAgICAgICAgICAgICAgICAgICAgICAgICAgICAgICAgICAgICAgICAgICAgICAgICAgICAgICAgICAgICAgICAgICAgICAgICAgICAgICAgICAgICAgICAgICAgICAgICAgICAgICAgICAgICAgICAgICAgICAgICAgICAgICAgICAgICAgICAgICAgICAgICAgICAgICAgICAgICAgICAgICAgICAgICAgICAgICAgICAgICAgICAgICAgICAgICAgICAgICAgICAgICAgICAgICAgICAgICAgICAgICAgICAgICAgICAgICAgICAgICAgICAgICAgICAgICAgICAgICAgICAgICAgICAgICAgICAgICAgICAgICAgICAgICAgICAgICAgICAgICAgICAgICAgICAgICAgICAgICAgICAgICAgICAgICAgICAgICAgICAgICAgICAgICAgICAgICAgICAgICAgICAgICAgICAgICAgICAgICAgICAgICAgICAgICAgICAgICAgICAgICAgICAgICAgICAgICAgICAgICAgICAgICAgICAgICAgICAgICAgICAgICAgICAgICAgICAgICAgICAgICAgICAgICAgICAgICAgICAgICAgICAgICAgICAgICAgICAgICAgICAgICAgICAgICAgICAgICAgICAgICAgICAgICAgICAgICAgICAgICAgICAgICAgICAgICAgICAgICAgICAgICAgICAgICAgICAgICAgICAgICAgICAgICAgICAgICAgICAgICAgICAgICAgICAgICAgICAgICAgICAgICAgICAgICAgICAgICAgICAgICAgICAgICAgICAgICAgICAgICAgICAgICAgICAgICAgICAgICAgICAgICAgICAgICAgICAgICAgICAgICAgICAgICAgICAgICAgICAgICAgICAgICAgICAgICAgICAgICAgICAgICAgICAgICAgICAgICAgICAgICAgICAgICAgICAgICAgICAgICAgICAgICAgICAgICAgICAgICAgICAgICAgICAgICAgICAgICAgICAgICAgICAgICAgICAgICAgICAgICAgICAgICAgICAgICAgICAgICAgICAgICAgICAgICAgICAgICAgICAgICAgICAgICAgICAgICAgICAgICAgICAgICAgICAgICAgICAgICAgICAgICAgICAgICAgICAgICAgICAgICAgICAgICAgICAgICAgICAgICAgICAgICAgICAgICAgICAgIDAwMDAwMDAwMDAwMDAwMDAwMDAwMDAwMDAwMDAwMDAwMDAwMDAwMDAwMDAwMDAwMDAwMDAwMDAwMDAwMDAwMDAwMDAwMDAwMDAwMDAwMDAwMDAwMDAwMDAwMDAwMDAwMDAwMDAwMDAwMDAwMDAwMDAwMDAwMDAwMDAwMDAwMDAwMDAwMDAwMDAwMDAwMDAwMDAwMDAwMDAwMDAwMDAwMDAwMDAwMDAwMDAwMDAwMDAwMDAwMDAwMDAwMDAwMDAwMDAwMDAwMDAwMDAwMDAwMDAwMDAwMDAwMDAwMDAwMDAwMDAwMDAwMDAwMDAwMDAwMDAwMDAwMDAwMDAwMDAwMDAwMDAwMDAwMDAwMDAwMDAwMDAwMDAwMDAwMDAwMDAwMDAwMDAwMDAwMDAwMDAwMDAwMDAwMDAwMDAwMDAwMDAwMDAwMDAwMDAwMDAwMDAwMDAwMDAwMDAwMDAwMDAwMDAwMDAwMDAwMDAwMDAwMDAwMDAwMDAwMDAwMDAwMDAwMDAwMDAwMDAwMDAwMDAwMDAwMDAwMDAwMDAwMDAwMDAwMDAwMDAwMDAwMDAwMDAwMDAwMDAwMDAwMDAwMDAwMDAwMDAwMDAwMDAwMDAwMDAwMDAwMDAwMDAwMDAwMDAwMDAwMDAwMDAwMDAwMDAwMDAwMDAwMDAwMDAwMDAwMDAwMDAwMDAwMDAwMDAwMDAwMDAwMDAwMDAwMDAwMDAwMDAwMDAwMDAwMDAwMDAwMDAwMDAwMDAwMDAwMDAwMDAwMDAwMDAwMDAwMDAwMDAwMDAwMDAwMDAwMDAwMDAwMDAwMDAwMDAwMDAwMDAwMDAwMDAwMDAwMDAwMDAwMDAwMDAwMDAwMDAwMDAwMDAwMDAwMDAwMDAwMDAwMDAwMDAwMDAwMDAwMDAwMDAwMDAwMDAwMDAwMDAwMDAwMDAwMDAwMDAwMDAwMDAwMDAwMDAwMDAwMDAwMDAwMDAwMDAwMDAwMDAwMDAwMDAwMDAwMDAwMDAwMDAwMDAwMDAwMDAwMDAwMDAwMDAwMDAwMDAwMDAwMDAwMDAwMDAwMDAwMDAwMDAwMDAwMDAwMDAwMDAwMDAwMDAwMDAwMDAwMDAwMDAwMDAwMDAwMDAwMDAwMDAwMDAwMDAwMDAwMDAwMDAwMDAwMDAwMDAwMDAwMDAwMDAwMDAwMDAwMDAwMDAwMDAwMDAwMDAwMDAwMDAwMDAwMDAwMDAwMDAwMDAwMDAwMDAwMDAwMDAwMDAwMDAwMDAwMDAwMDAwMDAwMDAwMDAwMDAwMDAwMDAwMDAwMDAwMDAwMDAwMDAwMDAwMDAwMDAwMDAwMDAwMDBAQEBAQEBAQEBAQEBAQEBAQEBAQEBAQEBAQEBAQEBAQEBAQEBAQEBAQEBAQEBAQEBAQEBAQEBAQEBAQEBAQEBAQEBAQEBAQEBAQEBAQEBAQEBAQEBAQEBAQEBAQEBAQEBAQEBAQEBAQEBAQEBAQEBAQEBAQEBAQEBAQEBAQEBAQEBAQEBAQEBAQEBAQEBAQEBAQEBAQEBAQEBAQEBAQEBAQEBAQEBAQEBAQEBAQEBAQEBAQEBAQEBAQEBAQEBAQEBAQEBAQEBAQEBAQEBAQEBAQEBAQEBAQEBAQEBAQEBAQEBAQEBAQEBAQEBAQEBAQEBAQEBAQEBAQEBAQEBAQEBAQEBAQEBAQEBAQEBAQEBAQEBAQEBAQEBAQEBAQEBAQEBAQEBAQEBAQEBAQEBAQEBAQEBAQEBAQEBAQEBAQEBAQEBAQEBAQEBAQEBAQEBAQEBAQEBAQEBAQEBAQEBAQEBAQEBAQEBAQEBAQEBAQEBAQEBAQEBAQEBAQEBAQEBAQEBAQEBAQEBAQEBAQEBAQEBAQEBAQEBAQEBAQEBAQEBAQEBAQEBAQEBAQEBAQEBAQEBAQEBAQEBAQEBAQEBAQEBAQEBAQEBAQEBAQEBAQEBAQEBAQEBAQEBAQEBAQEBAQEBAQEBAQEBAQEBAQEBAQEBAQEBAQEBAQEBAQEBAQEBAQEBAQEBAQEBAQEBAQEBAQEBAQEBAQEBAQEBAQEBAQEBAQEBAQEBAQEBAQEBAQEBAQEBAQEBAQEBAQEBAQEBAQEBAQEBAQEBAQEBAQEBAQEBAQEBAQEBAQEBAQEBAQEBAQEBAQEBAQEBAQEBAQEBAQEBAQEBAQEBAQEBAQEBAQEBAQEBAQEBAQEBAQEBAQEBAQEBAQEBAQEBAQEBAQEBAQEBAQEBAQEBAQEBAQEBAQEBAQEBAQEBAQEBAQEBAQEBAQEBAQEBAQEBAQEBAQEBAQEBAQEBAQEBAQEBAQEBAQEBAQEBAQEBAQEBAQEBAQEBAQEBAQEBAQEBAQEBAQEBAQEBAQEBAQEBAQEBAQEBAQEBAQEBAQEBAQEBAQEBAQEBAQEBAQEBAQEBAQEBAQEBAQEBAQEBAQEBAQEBAQEBAQEBAQEBAQEBAQEBAQEBAQEBAQEBAQEBAQEBAQEBAQEBAQEBAQEBAQEBAQEBAQEBAQEBAQEBAQEBAQEBAQEBAQEBAQEBAQEBAQEBAQEBAQEBAQEBAQEBAQEBAQEBAQEBAQEBAQEBAQEBAQEBAQEBAQEBAQEBAQEBAQEBAQEBAQEBAQEBAQEBAQEBAQEBAQEBAQEBAQEBAQEBAQEBAQEBAQEBAQEBAQEBAQEBAUFBQUFBQUFBQUFBQUFBQUFBQUFBQUFBQUFBQUFBQUFBQUFBQUFBQUFBQUFBQUFBQUFBQUFBQUFBQUFBQUFBQUFBQUFBQUFBQUFBQUFBQUFBQUFBQUFBQUFBQUFBQUFBQUFBQUFBQUFBQUFBQUFBQUFBQUFBQUFBQUFBQUFBQUFBQUFBQUFBQUFBQUFBQUFBQUFBQUFBQUFBQUFBQUFBQUFBQUFBQUFBQUFBQUFBQUFBQUFBQUFBQUFBQUFBQUFBQUFBQUFBQUFBQUFBQUFBQUFBQUFBQUFBQUFBQUFBQUFBQUFBQUFBQUFBQUFBQUFBQUFBQUFBQUFBQUFBQUFBQUFBQUFBQUFBQUFBQUFBQUFBQUFBQUFBQUFBQUFBQUFBQUFBQUFBQUFBQUFBQUFBQUFBQUFBQUFBQUFBQUFBQUFBQUFBQUFBQUFBQUFBQUFBQUFBQUFBQUFBQUFBQUFBQUFBQUFBQUFBQUFBQUFBQUFBQUFBQUFBQUFBQUFBQUFBQUFBQUFBQUFBQUFBQUFBQUFBQUFBQUFBQUFBQUFBQUFBQUFBQUFBQUFBQUFBQUFBQUFBQUFBQUFBQUFBQUFBQUFBQUFBQUFBQUFBQUFBQUFBQUFBQUFBQUFBQUFBQUFBQUFBQUFBQUFBQUFBQUFBQUFBQUFBQUFBQUFBQUFBQUFBQUFBQUFBQUFBQUFBQUFBQUFBQUFBQUFBQUFBQUFBQUFBQUFBQUFBQUFBQUFBQUFBQUFBQUFBQUFBQUFBQUFBQUFBQUFBQUFBQUFBQUFBQUFBQUFBQUFBQUFBQUFBQUFBQUFBQUFBQUFBQUFBQUFBQUFBQUFBQUFBQUFBQUFBQUFBQUFBQUFBQUFBQUFBQUFBQUFBQUFBQUFBQUFBQUFBQUFBQUFBQUFBQUFBQUFBQUFBQUFBQUFBQUFBQUFBQUFBQUFBQUFBQUFBQUFBQUFBQUFBQUFBQUFBQUFBQUFBQUFBQUFBQUFBQUFBQUFBQUFBQUFBQUFBQUFBQUFBQUFBQUFBQUFBQUFBQUFBQUFBQUFBQUFBQUFBQUFBQUFBQUFBQUFBQUFBQUFBQUFBQUFBQUFBQUFBQUFBQUFBQUFBQUFBQUFBQUFBQUFBQUFBQUFBQUFBQUFBQUFBQUFBQUFBQUFBQUFBQUFBQUFBQUFBQUFBQUFBQUFBQUFBQUFBQUFBQUFBQUFBQUFBQUFBQUFBQUFBQUFBQUFBQUFBQUFBQUFBQUFBQUFBQUFBQUFBQUFBQUFBQUFBQUFBQUFBQUFBQUFBQUFBQUFBQUFBQUFBQUFBQUFBQUFBQUFBQUFBQUFBQUFBQUFBQU=",
          "dtype": "i1"
         },
         "yaxis": "y",
         "ybingroup": "y"
        }
       ],
       "layout": {
        "coloraxis": {
         "colorbar": {
          "title": {
           "text": "count"
          }
         },
         "colorscale": [
          [
           0,
           "#0d0887"
          ],
          [
           0.1111111111111111,
           "#46039f"
          ],
          [
           0.2222222222222222,
           "#7201a8"
          ],
          [
           0.3333333333333333,
           "#9c179e"
          ],
          [
           0.4444444444444444,
           "#bd3786"
          ],
          [
           0.5555555555555556,
           "#d8576b"
          ],
          [
           0.6666666666666666,
           "#ed7953"
          ],
          [
           0.7777777777777778,
           "#fb9f3a"
          ],
          [
           0.8888888888888888,
           "#fdca26"
          ],
          [
           1,
           "#f0f921"
          ]
         ]
        },
        "legend": {
         "tracegroupgap": 0
        },
        "template": {
         "data": {
          "bar": [
           {
            "error_x": {
             "color": "#2a3f5f"
            },
            "error_y": {
             "color": "#2a3f5f"
            },
            "marker": {
             "line": {
              "color": "#E5ECF6",
              "width": 0.5
             },
             "pattern": {
              "fillmode": "overlay",
              "size": 10,
              "solidity": 0.2
             }
            },
            "type": "bar"
           }
          ],
          "barpolar": [
           {
            "marker": {
             "line": {
              "color": "#E5ECF6",
              "width": 0.5
             },
             "pattern": {
              "fillmode": "overlay",
              "size": 10,
              "solidity": 0.2
             }
            },
            "type": "barpolar"
           }
          ],
          "carpet": [
           {
            "aaxis": {
             "endlinecolor": "#2a3f5f",
             "gridcolor": "white",
             "linecolor": "white",
             "minorgridcolor": "white",
             "startlinecolor": "#2a3f5f"
            },
            "baxis": {
             "endlinecolor": "#2a3f5f",
             "gridcolor": "white",
             "linecolor": "white",
             "minorgridcolor": "white",
             "startlinecolor": "#2a3f5f"
            },
            "type": "carpet"
           }
          ],
          "choropleth": [
           {
            "colorbar": {
             "outlinewidth": 0,
             "ticks": ""
            },
            "type": "choropleth"
           }
          ],
          "contour": [
           {
            "colorbar": {
             "outlinewidth": 0,
             "ticks": ""
            },
            "colorscale": [
             [
              0,
              "#0d0887"
             ],
             [
              0.1111111111111111,
              "#46039f"
             ],
             [
              0.2222222222222222,
              "#7201a8"
             ],
             [
              0.3333333333333333,
              "#9c179e"
             ],
             [
              0.4444444444444444,
              "#bd3786"
             ],
             [
              0.5555555555555556,
              "#d8576b"
             ],
             [
              0.6666666666666666,
              "#ed7953"
             ],
             [
              0.7777777777777778,
              "#fb9f3a"
             ],
             [
              0.8888888888888888,
              "#fdca26"
             ],
             [
              1,
              "#f0f921"
             ]
            ],
            "type": "contour"
           }
          ],
          "contourcarpet": [
           {
            "colorbar": {
             "outlinewidth": 0,
             "ticks": ""
            },
            "type": "contourcarpet"
           }
          ],
          "heatmap": [
           {
            "colorbar": {
             "outlinewidth": 0,
             "ticks": ""
            },
            "colorscale": [
             [
              0,
              "#0d0887"
             ],
             [
              0.1111111111111111,
              "#46039f"
             ],
             [
              0.2222222222222222,
              "#7201a8"
             ],
             [
              0.3333333333333333,
              "#9c179e"
             ],
             [
              0.4444444444444444,
              "#bd3786"
             ],
             [
              0.5555555555555556,
              "#d8576b"
             ],
             [
              0.6666666666666666,
              "#ed7953"
             ],
             [
              0.7777777777777778,
              "#fb9f3a"
             ],
             [
              0.8888888888888888,
              "#fdca26"
             ],
             [
              1,
              "#f0f921"
             ]
            ],
            "type": "heatmap"
           }
          ],
          "histogram": [
           {
            "marker": {
             "pattern": {
              "fillmode": "overlay",
              "size": 10,
              "solidity": 0.2
             }
            },
            "type": "histogram"
           }
          ],
          "histogram2d": [
           {
            "colorbar": {
             "outlinewidth": 0,
             "ticks": ""
            },
            "colorscale": [
             [
              0,
              "#0d0887"
             ],
             [
              0.1111111111111111,
              "#46039f"
             ],
             [
              0.2222222222222222,
              "#7201a8"
             ],
             [
              0.3333333333333333,
              "#9c179e"
             ],
             [
              0.4444444444444444,
              "#bd3786"
             ],
             [
              0.5555555555555556,
              "#d8576b"
             ],
             [
              0.6666666666666666,
              "#ed7953"
             ],
             [
              0.7777777777777778,
              "#fb9f3a"
             ],
             [
              0.8888888888888888,
              "#fdca26"
             ],
             [
              1,
              "#f0f921"
             ]
            ],
            "type": "histogram2d"
           }
          ],
          "histogram2dcontour": [
           {
            "colorbar": {
             "outlinewidth": 0,
             "ticks": ""
            },
            "colorscale": [
             [
              0,
              "#0d0887"
             ],
             [
              0.1111111111111111,
              "#46039f"
             ],
             [
              0.2222222222222222,
              "#7201a8"
             ],
             [
              0.3333333333333333,
              "#9c179e"
             ],
             [
              0.4444444444444444,
              "#bd3786"
             ],
             [
              0.5555555555555556,
              "#d8576b"
             ],
             [
              0.6666666666666666,
              "#ed7953"
             ],
             [
              0.7777777777777778,
              "#fb9f3a"
             ],
             [
              0.8888888888888888,
              "#fdca26"
             ],
             [
              1,
              "#f0f921"
             ]
            ],
            "type": "histogram2dcontour"
           }
          ],
          "mesh3d": [
           {
            "colorbar": {
             "outlinewidth": 0,
             "ticks": ""
            },
            "type": "mesh3d"
           }
          ],
          "parcoords": [
           {
            "line": {
             "colorbar": {
              "outlinewidth": 0,
              "ticks": ""
             }
            },
            "type": "parcoords"
           }
          ],
          "pie": [
           {
            "automargin": true,
            "type": "pie"
           }
          ],
          "scatter": [
           {
            "fillpattern": {
             "fillmode": "overlay",
             "size": 10,
             "solidity": 0.2
            },
            "type": "scatter"
           }
          ],
          "scatter3d": [
           {
            "line": {
             "colorbar": {
              "outlinewidth": 0,
              "ticks": ""
             }
            },
            "marker": {
             "colorbar": {
              "outlinewidth": 0,
              "ticks": ""
             }
            },
            "type": "scatter3d"
           }
          ],
          "scattercarpet": [
           {
            "marker": {
             "colorbar": {
              "outlinewidth": 0,
              "ticks": ""
             }
            },
            "type": "scattercarpet"
           }
          ],
          "scattergeo": [
           {
            "marker": {
             "colorbar": {
              "outlinewidth": 0,
              "ticks": ""
             }
            },
            "type": "scattergeo"
           }
          ],
          "scattergl": [
           {
            "marker": {
             "colorbar": {
              "outlinewidth": 0,
              "ticks": ""
             }
            },
            "type": "scattergl"
           }
          ],
          "scattermap": [
           {
            "marker": {
             "colorbar": {
              "outlinewidth": 0,
              "ticks": ""
             }
            },
            "type": "scattermap"
           }
          ],
          "scattermapbox": [
           {
            "marker": {
             "colorbar": {
              "outlinewidth": 0,
              "ticks": ""
             }
            },
            "type": "scattermapbox"
           }
          ],
          "scatterpolar": [
           {
            "marker": {
             "colorbar": {
              "outlinewidth": 0,
              "ticks": ""
             }
            },
            "type": "scatterpolar"
           }
          ],
          "scatterpolargl": [
           {
            "marker": {
             "colorbar": {
              "outlinewidth": 0,
              "ticks": ""
             }
            },
            "type": "scatterpolargl"
           }
          ],
          "scatterternary": [
           {
            "marker": {
             "colorbar": {
              "outlinewidth": 0,
              "ticks": ""
             }
            },
            "type": "scatterternary"
           }
          ],
          "surface": [
           {
            "colorbar": {
             "outlinewidth": 0,
             "ticks": ""
            },
            "colorscale": [
             [
              0,
              "#0d0887"
             ],
             [
              0.1111111111111111,
              "#46039f"
             ],
             [
              0.2222222222222222,
              "#7201a8"
             ],
             [
              0.3333333333333333,
              "#9c179e"
             ],
             [
              0.4444444444444444,
              "#bd3786"
             ],
             [
              0.5555555555555556,
              "#d8576b"
             ],
             [
              0.6666666666666666,
              "#ed7953"
             ],
             [
              0.7777777777777778,
              "#fb9f3a"
             ],
             [
              0.8888888888888888,
              "#fdca26"
             ],
             [
              1,
              "#f0f921"
             ]
            ],
            "type": "surface"
           }
          ],
          "table": [
           {
            "cells": {
             "fill": {
              "color": "#EBF0F8"
             },
             "line": {
              "color": "white"
             }
            },
            "header": {
             "fill": {
              "color": "#C8D4E3"
             },
             "line": {
              "color": "white"
             }
            },
            "type": "table"
           }
          ]
         },
         "layout": {
          "annotationdefaults": {
           "arrowcolor": "#2a3f5f",
           "arrowhead": 0,
           "arrowwidth": 1
          },
          "autotypenumbers": "strict",
          "coloraxis": {
           "colorbar": {
            "outlinewidth": 0,
            "ticks": ""
           }
          },
          "colorscale": {
           "diverging": [
            [
             0,
             "#8e0152"
            ],
            [
             0.1,
             "#c51b7d"
            ],
            [
             0.2,
             "#de77ae"
            ],
            [
             0.3,
             "#f1b6da"
            ],
            [
             0.4,
             "#fde0ef"
            ],
            [
             0.5,
             "#f7f7f7"
            ],
            [
             0.6,
             "#e6f5d0"
            ],
            [
             0.7,
             "#b8e186"
            ],
            [
             0.8,
             "#7fbc41"
            ],
            [
             0.9,
             "#4d9221"
            ],
            [
             1,
             "#276419"
            ]
           ],
           "sequential": [
            [
             0,
             "#0d0887"
            ],
            [
             0.1111111111111111,
             "#46039f"
            ],
            [
             0.2222222222222222,
             "#7201a8"
            ],
            [
             0.3333333333333333,
             "#9c179e"
            ],
            [
             0.4444444444444444,
             "#bd3786"
            ],
            [
             0.5555555555555556,
             "#d8576b"
            ],
            [
             0.6666666666666666,
             "#ed7953"
            ],
            [
             0.7777777777777778,
             "#fb9f3a"
            ],
            [
             0.8888888888888888,
             "#fdca26"
            ],
            [
             1,
             "#f0f921"
            ]
           ],
           "sequentialminus": [
            [
             0,
             "#0d0887"
            ],
            [
             0.1111111111111111,
             "#46039f"
            ],
            [
             0.2222222222222222,
             "#7201a8"
            ],
            [
             0.3333333333333333,
             "#9c179e"
            ],
            [
             0.4444444444444444,
             "#bd3786"
            ],
            [
             0.5555555555555556,
             "#d8576b"
            ],
            [
             0.6666666666666666,
             "#ed7953"
            ],
            [
             0.7777777777777778,
             "#fb9f3a"
            ],
            [
             0.8888888888888888,
             "#fdca26"
            ],
            [
             1,
             "#f0f921"
            ]
           ]
          },
          "colorway": [
           "#636efa",
           "#EF553B",
           "#00cc96",
           "#ab63fa",
           "#FFA15A",
           "#19d3f3",
           "#FF6692",
           "#B6E880",
           "#FF97FF",
           "#FECB52"
          ],
          "font": {
           "color": "#2a3f5f"
          },
          "geo": {
           "bgcolor": "white",
           "lakecolor": "white",
           "landcolor": "#E5ECF6",
           "showlakes": true,
           "showland": true,
           "subunitcolor": "white"
          },
          "hoverlabel": {
           "align": "left"
          },
          "hovermode": "closest",
          "mapbox": {
           "style": "light"
          },
          "paper_bgcolor": "white",
          "plot_bgcolor": "#E5ECF6",
          "polar": {
           "angularaxis": {
            "gridcolor": "white",
            "linecolor": "white",
            "ticks": ""
           },
           "bgcolor": "#E5ECF6",
           "radialaxis": {
            "gridcolor": "white",
            "linecolor": "white",
            "ticks": ""
           }
          },
          "scene": {
           "xaxis": {
            "backgroundcolor": "#E5ECF6",
            "gridcolor": "white",
            "gridwidth": 2,
            "linecolor": "white",
            "showbackground": true,
            "ticks": "",
            "zerolinecolor": "white"
           },
           "yaxis": {
            "backgroundcolor": "#E5ECF6",
            "gridcolor": "white",
            "gridwidth": 2,
            "linecolor": "white",
            "showbackground": true,
            "ticks": "",
            "zerolinecolor": "white"
           },
           "zaxis": {
            "backgroundcolor": "#E5ECF6",
            "gridcolor": "white",
            "gridwidth": 2,
            "linecolor": "white",
            "showbackground": true,
            "ticks": "",
            "zerolinecolor": "white"
           }
          },
          "shapedefaults": {
           "line": {
            "color": "#2a3f5f"
           }
          },
          "ternary": {
           "aaxis": {
            "gridcolor": "white",
            "linecolor": "white",
            "ticks": ""
           },
           "baxis": {
            "gridcolor": "white",
            "linecolor": "white",
            "ticks": ""
           },
           "bgcolor": "#E5ECF6",
           "caxis": {
            "gridcolor": "white",
            "linecolor": "white",
            "ticks": ""
           }
          },
          "title": {
           "x": 0.05
          },
          "xaxis": {
           "automargin": true,
           "gridcolor": "white",
           "linecolor": "white",
           "ticks": "",
           "title": {
            "standoff": 15
           },
           "zerolinecolor": "white",
           "zerolinewidth": 2
          },
          "yaxis": {
           "automargin": true,
           "gridcolor": "white",
           "linecolor": "white",
           "ticks": "",
           "title": {
            "standoff": 15
           },
           "zerolinecolor": "white",
           "zerolinewidth": 2
          }
         }
        },
        "title": {
         "text": "Batter Performance Based on Opposition Strength"
        },
        "xaxis": {
         "anchor": "y",
         "domain": [
          0,
          1
         ],
         "title": {
          "text": "opposition_strength"
         }
        },
        "yaxis": {
         "anchor": "x",
         "domain": [
          0,
          1
         ],
         "title": {
          "text": "best_batter"
         }
        }
       }
      }
     },
     "metadata": {},
     "output_type": "display_data"
    }
   ],
   "source": [
    "px.density_heatmap(data, x='opposition_strength', y = 'best_batter', title='Batter Performance Based on Opposition Strength')"
   ]
  },
  {
   "cell_type": "markdown",
   "id": "d0494259",
   "metadata": {},
   "source": [
    "### Data Preparation:"
   ]
  },
  {
   "cell_type": "code",
   "execution_count": 219,
   "id": "3d95204c",
   "metadata": {},
   "outputs": [],
   "source": [
    "X = data[['temperature', 'wind_speed', 'pitch_green', 'pitch_dry', 'pitch_hard', 'pitch_dusty']]\n",
    "y = data['best_batter']"
   ]
  },
  {
   "cell_type": "markdown",
   "id": "0ab65334",
   "metadata": {},
   "source": [
    "Data Splitting:"
   ]
  },
  {
   "cell_type": "code",
   "execution_count": 220,
   "id": "b365848b",
   "metadata": {},
   "outputs": [
    {
     "name": "stdout",
     "output_type": "stream",
     "text": [
      "\n",
      "Train Data Shape: (4000, 6)\n",
      "Test Data Shape: (1000, 6)      \n",
      "\n"
     ]
    }
   ],
   "source": [
    "X_train, X_test, y_train, y_test = train_test_split(X, y, test_size=0.2, random_state=40)\n",
    "\n",
    "print(f\"\"\"\n",
    "Train Data Shape: {X_train.shape}\n",
    "Test Data Shape: {X_test.shape}      \n",
    "\"\"\")"
   ]
  },
  {
   "cell_type": "markdown",
   "id": "4f2b4efa",
   "metadata": {},
   "source": [
    "Standardizing the data:"
   ]
  },
  {
   "cell_type": "code",
   "execution_count": 231,
   "id": "a676f38f",
   "metadata": {},
   "outputs": [],
   "source": [
    "scaler = StandardScaler()\n",
    "\n",
    "X_train_scaled = scaler.fit_transform(X_train)\n",
    "X_test_scaled = scaler.transform(X_test)\n",
    "# X_train_scaled = X_train\n",
    "# X_test_scaled = X_test"
   ]
  },
  {
   "cell_type": "markdown",
   "id": "09f0f60f",
   "metadata": {},
   "source": [
    "KNN Model Load and Fit the data...."
   ]
  },
  {
   "cell_type": "code",
   "execution_count": 232,
   "id": "0a9b6dc7",
   "metadata": {},
   "outputs": [],
   "source": [
    "from sklearn.neighbors import KNeighborsClassifier"
   ]
  },
  {
   "cell_type": "code",
   "execution_count": 244,
   "id": "193cf28f",
   "metadata": {},
   "outputs": [],
   "source": [
    "accuracies = []\n",
    "k_indices = range(1,201)\n",
    "\n",
    "for k in k_indices:\n",
    "    knn = KNeighborsClassifier(n_neighbors=k, metric='minkowski')\n",
    "    knn.fit(X_train_scaled, y_train)\n",
    "    y_pred = knn.predict(X_test_scaled)\n",
    "    accuracies.append(accuracy_score(y_test, y_pred))"
   ]
  },
  {
   "cell_type": "code",
   "execution_count": 245,
   "id": "786f64eb",
   "metadata": {},
   "outputs": [
    {
     "data": {
      "application/vnd.plotly.v1+json": {
       "config": {
        "plotlyServerURL": "https://plot.ly"
       },
       "data": [
        {
         "type": "scatter",
         "x": [
          1,
          2,
          3,
          4,
          5,
          6,
          7,
          8,
          9,
          10,
          11,
          12,
          13,
          14,
          15,
          16,
          17,
          18,
          19,
          20,
          21,
          22,
          23,
          24,
          25,
          26,
          27,
          28,
          29,
          30,
          31,
          32,
          33,
          34,
          35,
          36,
          37,
          38,
          39,
          40,
          41,
          42,
          43,
          44,
          45,
          46,
          47,
          48,
          49,
          50,
          51,
          52,
          53,
          54,
          55,
          56,
          57,
          58,
          59,
          60,
          61,
          62,
          63,
          64,
          65,
          66,
          67,
          68,
          69,
          70,
          71,
          72,
          73,
          74,
          75,
          76,
          77,
          78,
          79,
          80,
          81,
          82,
          83,
          84,
          85,
          86,
          87,
          88,
          89,
          90,
          91,
          92,
          93,
          94,
          95,
          96,
          97,
          98,
          99,
          100,
          101,
          102,
          103,
          104,
          105,
          106,
          107,
          108,
          109,
          110,
          111,
          112,
          113,
          114,
          115,
          116,
          117,
          118,
          119,
          120,
          121,
          122,
          123,
          124,
          125,
          126,
          127,
          128,
          129,
          130,
          131,
          132,
          133,
          134,
          135,
          136,
          137,
          138,
          139,
          140,
          141,
          142,
          143,
          144,
          145,
          146,
          147,
          148,
          149,
          150,
          151,
          152,
          153,
          154,
          155,
          156,
          157,
          158,
          159,
          160,
          161,
          162,
          163,
          164,
          165,
          166,
          167,
          168,
          169,
          170,
          171,
          172,
          173,
          174,
          175,
          176,
          177,
          178,
          179,
          180,
          181,
          182,
          183,
          184,
          185,
          186,
          187,
          188,
          189,
          190,
          191,
          192,
          193,
          194,
          195,
          196,
          197,
          198,
          199,
          200
         ],
         "y": [
          0.414,
          0.471,
          0.464,
          0.483,
          0.493,
          0.493,
          0.508,
          0.503,
          0.512,
          0.518,
          0.526,
          0.526,
          0.529,
          0.524,
          0.529,
          0.531,
          0.527,
          0.532,
          0.54,
          0.536,
          0.541,
          0.535,
          0.543,
          0.537,
          0.543,
          0.538,
          0.542,
          0.541,
          0.541,
          0.543,
          0.546,
          0.546,
          0.543,
          0.548,
          0.542,
          0.54,
          0.544,
          0.541,
          0.543,
          0.547,
          0.551,
          0.553,
          0.551,
          0.552,
          0.546,
          0.547,
          0.549,
          0.545,
          0.544,
          0.542,
          0.541,
          0.54,
          0.54,
          0.539,
          0.537,
          0.538,
          0.539,
          0.537,
          0.537,
          0.537,
          0.544,
          0.544,
          0.547,
          0.547,
          0.544,
          0.546,
          0.546,
          0.543,
          0.542,
          0.543,
          0.549,
          0.55,
          0.552,
          0.549,
          0.546,
          0.543,
          0.54,
          0.543,
          0.542,
          0.541,
          0.541,
          0.539,
          0.541,
          0.543,
          0.542,
          0.544,
          0.542,
          0.545,
          0.544,
          0.547,
          0.546,
          0.549,
          0.548,
          0.546,
          0.543,
          0.547,
          0.546,
          0.546,
          0.547,
          0.549,
          0.549,
          0.549,
          0.551,
          0.549,
          0.55,
          0.547,
          0.549,
          0.544,
          0.546,
          0.547,
          0.548,
          0.549,
          0.548,
          0.546,
          0.548,
          0.546,
          0.546,
          0.545,
          0.544,
          0.541,
          0.544,
          0.541,
          0.541,
          0.542,
          0.542,
          0.543,
          0.54,
          0.544,
          0.543,
          0.544,
          0.544,
          0.544,
          0.542,
          0.542,
          0.542,
          0.544,
          0.541,
          0.542,
          0.544,
          0.543,
          0.543,
          0.541,
          0.543,
          0.54,
          0.541,
          0.542,
          0.543,
          0.541,
          0.542,
          0.539,
          0.539,
          0.538,
          0.538,
          0.537,
          0.539,
          0.537,
          0.538,
          0.535,
          0.536,
          0.536,
          0.536,
          0.536,
          0.537,
          0.537,
          0.537,
          0.538,
          0.536,
          0.538,
          0.535,
          0.539,
          0.538,
          0.538,
          0.538,
          0.537,
          0.537,
          0.537,
          0.537,
          0.536,
          0.537,
          0.537,
          0.537,
          0.535,
          0.535,
          0.535,
          0.538,
          0.537,
          0.536,
          0.537,
          0.535,
          0.534,
          0.534,
          0.535,
          0.535,
          0.534,
          0.534,
          0.533,
          0.534,
          0.534,
          0.535,
          0.536
         ]
        }
       ],
       "layout": {
        "template": {
         "data": {
          "bar": [
           {
            "error_x": {
             "color": "#2a3f5f"
            },
            "error_y": {
             "color": "#2a3f5f"
            },
            "marker": {
             "line": {
              "color": "#E5ECF6",
              "width": 0.5
             },
             "pattern": {
              "fillmode": "overlay",
              "size": 10,
              "solidity": 0.2
             }
            },
            "type": "bar"
           }
          ],
          "barpolar": [
           {
            "marker": {
             "line": {
              "color": "#E5ECF6",
              "width": 0.5
             },
             "pattern": {
              "fillmode": "overlay",
              "size": 10,
              "solidity": 0.2
             }
            },
            "type": "barpolar"
           }
          ],
          "carpet": [
           {
            "aaxis": {
             "endlinecolor": "#2a3f5f",
             "gridcolor": "white",
             "linecolor": "white",
             "minorgridcolor": "white",
             "startlinecolor": "#2a3f5f"
            },
            "baxis": {
             "endlinecolor": "#2a3f5f",
             "gridcolor": "white",
             "linecolor": "white",
             "minorgridcolor": "white",
             "startlinecolor": "#2a3f5f"
            },
            "type": "carpet"
           }
          ],
          "choropleth": [
           {
            "colorbar": {
             "outlinewidth": 0,
             "ticks": ""
            },
            "type": "choropleth"
           }
          ],
          "contour": [
           {
            "colorbar": {
             "outlinewidth": 0,
             "ticks": ""
            },
            "colorscale": [
             [
              0,
              "#0d0887"
             ],
             [
              0.1111111111111111,
              "#46039f"
             ],
             [
              0.2222222222222222,
              "#7201a8"
             ],
             [
              0.3333333333333333,
              "#9c179e"
             ],
             [
              0.4444444444444444,
              "#bd3786"
             ],
             [
              0.5555555555555556,
              "#d8576b"
             ],
             [
              0.6666666666666666,
              "#ed7953"
             ],
             [
              0.7777777777777778,
              "#fb9f3a"
             ],
             [
              0.8888888888888888,
              "#fdca26"
             ],
             [
              1,
              "#f0f921"
             ]
            ],
            "type": "contour"
           }
          ],
          "contourcarpet": [
           {
            "colorbar": {
             "outlinewidth": 0,
             "ticks": ""
            },
            "type": "contourcarpet"
           }
          ],
          "heatmap": [
           {
            "colorbar": {
             "outlinewidth": 0,
             "ticks": ""
            },
            "colorscale": [
             [
              0,
              "#0d0887"
             ],
             [
              0.1111111111111111,
              "#46039f"
             ],
             [
              0.2222222222222222,
              "#7201a8"
             ],
             [
              0.3333333333333333,
              "#9c179e"
             ],
             [
              0.4444444444444444,
              "#bd3786"
             ],
             [
              0.5555555555555556,
              "#d8576b"
             ],
             [
              0.6666666666666666,
              "#ed7953"
             ],
             [
              0.7777777777777778,
              "#fb9f3a"
             ],
             [
              0.8888888888888888,
              "#fdca26"
             ],
             [
              1,
              "#f0f921"
             ]
            ],
            "type": "heatmap"
           }
          ],
          "histogram": [
           {
            "marker": {
             "pattern": {
              "fillmode": "overlay",
              "size": 10,
              "solidity": 0.2
             }
            },
            "type": "histogram"
           }
          ],
          "histogram2d": [
           {
            "colorbar": {
             "outlinewidth": 0,
             "ticks": ""
            },
            "colorscale": [
             [
              0,
              "#0d0887"
             ],
             [
              0.1111111111111111,
              "#46039f"
             ],
             [
              0.2222222222222222,
              "#7201a8"
             ],
             [
              0.3333333333333333,
              "#9c179e"
             ],
             [
              0.4444444444444444,
              "#bd3786"
             ],
             [
              0.5555555555555556,
              "#d8576b"
             ],
             [
              0.6666666666666666,
              "#ed7953"
             ],
             [
              0.7777777777777778,
              "#fb9f3a"
             ],
             [
              0.8888888888888888,
              "#fdca26"
             ],
             [
              1,
              "#f0f921"
             ]
            ],
            "type": "histogram2d"
           }
          ],
          "histogram2dcontour": [
           {
            "colorbar": {
             "outlinewidth": 0,
             "ticks": ""
            },
            "colorscale": [
             [
              0,
              "#0d0887"
             ],
             [
              0.1111111111111111,
              "#46039f"
             ],
             [
              0.2222222222222222,
              "#7201a8"
             ],
             [
              0.3333333333333333,
              "#9c179e"
             ],
             [
              0.4444444444444444,
              "#bd3786"
             ],
             [
              0.5555555555555556,
              "#d8576b"
             ],
             [
              0.6666666666666666,
              "#ed7953"
             ],
             [
              0.7777777777777778,
              "#fb9f3a"
             ],
             [
              0.8888888888888888,
              "#fdca26"
             ],
             [
              1,
              "#f0f921"
             ]
            ],
            "type": "histogram2dcontour"
           }
          ],
          "mesh3d": [
           {
            "colorbar": {
             "outlinewidth": 0,
             "ticks": ""
            },
            "type": "mesh3d"
           }
          ],
          "parcoords": [
           {
            "line": {
             "colorbar": {
              "outlinewidth": 0,
              "ticks": ""
             }
            },
            "type": "parcoords"
           }
          ],
          "pie": [
           {
            "automargin": true,
            "type": "pie"
           }
          ],
          "scatter": [
           {
            "fillpattern": {
             "fillmode": "overlay",
             "size": 10,
             "solidity": 0.2
            },
            "type": "scatter"
           }
          ],
          "scatter3d": [
           {
            "line": {
             "colorbar": {
              "outlinewidth": 0,
              "ticks": ""
             }
            },
            "marker": {
             "colorbar": {
              "outlinewidth": 0,
              "ticks": ""
             }
            },
            "type": "scatter3d"
           }
          ],
          "scattercarpet": [
           {
            "marker": {
             "colorbar": {
              "outlinewidth": 0,
              "ticks": ""
             }
            },
            "type": "scattercarpet"
           }
          ],
          "scattergeo": [
           {
            "marker": {
             "colorbar": {
              "outlinewidth": 0,
              "ticks": ""
             }
            },
            "type": "scattergeo"
           }
          ],
          "scattergl": [
           {
            "marker": {
             "colorbar": {
              "outlinewidth": 0,
              "ticks": ""
             }
            },
            "type": "scattergl"
           }
          ],
          "scattermap": [
           {
            "marker": {
             "colorbar": {
              "outlinewidth": 0,
              "ticks": ""
             }
            },
            "type": "scattermap"
           }
          ],
          "scattermapbox": [
           {
            "marker": {
             "colorbar": {
              "outlinewidth": 0,
              "ticks": ""
             }
            },
            "type": "scattermapbox"
           }
          ],
          "scatterpolar": [
           {
            "marker": {
             "colorbar": {
              "outlinewidth": 0,
              "ticks": ""
             }
            },
            "type": "scatterpolar"
           }
          ],
          "scatterpolargl": [
           {
            "marker": {
             "colorbar": {
              "outlinewidth": 0,
              "ticks": ""
             }
            },
            "type": "scatterpolargl"
           }
          ],
          "scatterternary": [
           {
            "marker": {
             "colorbar": {
              "outlinewidth": 0,
              "ticks": ""
             }
            },
            "type": "scatterternary"
           }
          ],
          "surface": [
           {
            "colorbar": {
             "outlinewidth": 0,
             "ticks": ""
            },
            "colorscale": [
             [
              0,
              "#0d0887"
             ],
             [
              0.1111111111111111,
              "#46039f"
             ],
             [
              0.2222222222222222,
              "#7201a8"
             ],
             [
              0.3333333333333333,
              "#9c179e"
             ],
             [
              0.4444444444444444,
              "#bd3786"
             ],
             [
              0.5555555555555556,
              "#d8576b"
             ],
             [
              0.6666666666666666,
              "#ed7953"
             ],
             [
              0.7777777777777778,
              "#fb9f3a"
             ],
             [
              0.8888888888888888,
              "#fdca26"
             ],
             [
              1,
              "#f0f921"
             ]
            ],
            "type": "surface"
           }
          ],
          "table": [
           {
            "cells": {
             "fill": {
              "color": "#EBF0F8"
             },
             "line": {
              "color": "white"
             }
            },
            "header": {
             "fill": {
              "color": "#C8D4E3"
             },
             "line": {
              "color": "white"
             }
            },
            "type": "table"
           }
          ]
         },
         "layout": {
          "annotationdefaults": {
           "arrowcolor": "#2a3f5f",
           "arrowhead": 0,
           "arrowwidth": 1
          },
          "autotypenumbers": "strict",
          "coloraxis": {
           "colorbar": {
            "outlinewidth": 0,
            "ticks": ""
           }
          },
          "colorscale": {
           "diverging": [
            [
             0,
             "#8e0152"
            ],
            [
             0.1,
             "#c51b7d"
            ],
            [
             0.2,
             "#de77ae"
            ],
            [
             0.3,
             "#f1b6da"
            ],
            [
             0.4,
             "#fde0ef"
            ],
            [
             0.5,
             "#f7f7f7"
            ],
            [
             0.6,
             "#e6f5d0"
            ],
            [
             0.7,
             "#b8e186"
            ],
            [
             0.8,
             "#7fbc41"
            ],
            [
             0.9,
             "#4d9221"
            ],
            [
             1,
             "#276419"
            ]
           ],
           "sequential": [
            [
             0,
             "#0d0887"
            ],
            [
             0.1111111111111111,
             "#46039f"
            ],
            [
             0.2222222222222222,
             "#7201a8"
            ],
            [
             0.3333333333333333,
             "#9c179e"
            ],
            [
             0.4444444444444444,
             "#bd3786"
            ],
            [
             0.5555555555555556,
             "#d8576b"
            ],
            [
             0.6666666666666666,
             "#ed7953"
            ],
            [
             0.7777777777777778,
             "#fb9f3a"
            ],
            [
             0.8888888888888888,
             "#fdca26"
            ],
            [
             1,
             "#f0f921"
            ]
           ],
           "sequentialminus": [
            [
             0,
             "#0d0887"
            ],
            [
             0.1111111111111111,
             "#46039f"
            ],
            [
             0.2222222222222222,
             "#7201a8"
            ],
            [
             0.3333333333333333,
             "#9c179e"
            ],
            [
             0.4444444444444444,
             "#bd3786"
            ],
            [
             0.5555555555555556,
             "#d8576b"
            ],
            [
             0.6666666666666666,
             "#ed7953"
            ],
            [
             0.7777777777777778,
             "#fb9f3a"
            ],
            [
             0.8888888888888888,
             "#fdca26"
            ],
            [
             1,
             "#f0f921"
            ]
           ]
          },
          "colorway": [
           "#636efa",
           "#EF553B",
           "#00cc96",
           "#ab63fa",
           "#FFA15A",
           "#19d3f3",
           "#FF6692",
           "#B6E880",
           "#FF97FF",
           "#FECB52"
          ],
          "font": {
           "color": "#2a3f5f"
          },
          "geo": {
           "bgcolor": "white",
           "lakecolor": "white",
           "landcolor": "#E5ECF6",
           "showlakes": true,
           "showland": true,
           "subunitcolor": "white"
          },
          "hoverlabel": {
           "align": "left"
          },
          "hovermode": "closest",
          "mapbox": {
           "style": "light"
          },
          "paper_bgcolor": "white",
          "plot_bgcolor": "#E5ECF6",
          "polar": {
           "angularaxis": {
            "gridcolor": "white",
            "linecolor": "white",
            "ticks": ""
           },
           "bgcolor": "#E5ECF6",
           "radialaxis": {
            "gridcolor": "white",
            "linecolor": "white",
            "ticks": ""
           }
          },
          "scene": {
           "xaxis": {
            "backgroundcolor": "#E5ECF6",
            "gridcolor": "white",
            "gridwidth": 2,
            "linecolor": "white",
            "showbackground": true,
            "ticks": "",
            "zerolinecolor": "white"
           },
           "yaxis": {
            "backgroundcolor": "#E5ECF6",
            "gridcolor": "white",
            "gridwidth": 2,
            "linecolor": "white",
            "showbackground": true,
            "ticks": "",
            "zerolinecolor": "white"
           },
           "zaxis": {
            "backgroundcolor": "#E5ECF6",
            "gridcolor": "white",
            "gridwidth": 2,
            "linecolor": "white",
            "showbackground": true,
            "ticks": "",
            "zerolinecolor": "white"
           }
          },
          "shapedefaults": {
           "line": {
            "color": "#2a3f5f"
           }
          },
          "ternary": {
           "aaxis": {
            "gridcolor": "white",
            "linecolor": "white",
            "ticks": ""
           },
           "baxis": {
            "gridcolor": "white",
            "linecolor": "white",
            "ticks": ""
           },
           "bgcolor": "#E5ECF6",
           "caxis": {
            "gridcolor": "white",
            "linecolor": "white",
            "ticks": ""
           }
          },
          "title": {
           "x": 0.05
          },
          "xaxis": {
           "automargin": true,
           "gridcolor": "white",
           "linecolor": "white",
           "ticks": "",
           "title": {
            "standoff": 15
           },
           "zerolinecolor": "white",
           "zerolinewidth": 2
          },
          "yaxis": {
           "automargin": true,
           "gridcolor": "white",
           "linecolor": "white",
           "ticks": "",
           "title": {
            "standoff": 15
           },
           "zerolinecolor": "white",
           "zerolinewidth": 2
          }
         }
        },
        "title": {
         "text": "Accuracy v/s k_values:"
        }
       }
      }
     },
     "metadata": {},
     "output_type": "display_data"
    }
   ],
   "source": [
    "fig = go.Figure()\n",
    "fig.update_layout(title = \"Accuracy v/s k_values:\")\n",
    "fig.add_trace(\n",
    "    go.Scatter(\n",
    "        x = list(k_indices),\n",
    "        y = accuracies\n",
    "    )\n",
    ")"
   ]
  },
  {
   "cell_type": "code",
   "execution_count": 246,
   "id": "a53b3caf",
   "metadata": {},
   "outputs": [
    {
     "name": "stdout",
     "output_type": "stream",
     "text": [
      "Best K: 42\n"
     ]
    }
   ],
   "source": [
    "best_k_value = list(k_indices)[accuracies.index(max(accuracies))]\n",
    "print(f\"Best K: {best_k_value}\")\n",
    "\n",
    "knn = KNeighborsClassifier(n_neighbors=best_k_value)\n",
    "knn.fit(X_train_scaled, y_train)\n",
    "y_pred = knn.predict(X_test_scaled)\n"
   ]
  },
  {
   "cell_type": "code",
   "execution_count": 247,
   "id": "ee61fa4a",
   "metadata": {},
   "outputs": [
    {
     "name": "stdout",
     "output_type": "stream",
     "text": [
      "              precision    recall  f1-score   support\n",
      "\n",
      "           1       0.59      1.00      0.75       208\n",
      "           2       0.56      0.98      0.72       190\n",
      "           3       0.47      0.14      0.22       193\n",
      "           4       0.50      0.46      0.48       202\n",
      "           5       0.51      0.18      0.27       207\n",
      "\n",
      "    accuracy                           0.55      1000\n",
      "   macro avg       0.53      0.55      0.49      1000\n",
      "weighted avg       0.53      0.55      0.49      1000\n",
      "\n"
     ]
    }
   ],
   "source": [
    "print(classification_report(y_test, y_pred))"
   ]
  },
  {
   "cell_type": "markdown",
   "id": "354ae88a",
   "metadata": {},
   "source": [
    "---"
   ]
  }
 ],
 "metadata": {
  "kernelspec": {
   "display_name": "Python 3",
   "language": "python",
   "name": "python3"
  },
  "language_info": {
   "codemirror_mode": {
    "name": "ipython",
    "version": 3
   },
   "file_extension": ".py",
   "mimetype": "text/x-python",
   "name": "python",
   "nbconvert_exporter": "python",
   "pygments_lexer": "ipython3",
   "version": "3.10.16"
  }
 },
 "nbformat": 4,
 "nbformat_minor": 5
}
