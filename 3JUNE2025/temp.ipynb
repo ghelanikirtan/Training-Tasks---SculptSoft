{
 "cells": [
  {
   "cell_type": "code",
   "execution_count": 8,
   "id": "5a2fcd23",
   "metadata": {},
   "outputs": [],
   "source": [
    "import numpy as np\n",
    "\n",
    "\n",
    "X = np.array([[1],[2],[3],[4],[5]])\n",
    "y = np.array([2,4,6,8,10])"
   ]
  },
  {
   "cell_type": "code",
   "execution_count": 9,
   "id": "a4a0880b",
   "metadata": {},
   "outputs": [
    {
     "data": {
      "text/plain": [
       "array([[1., 1.],\n",
       "       [1., 2.],\n",
       "       [1., 3.],\n",
       "       [1., 4.],\n",
       "       [1., 5.]])"
      ]
     },
     "execution_count": 9,
     "metadata": {},
     "output_type": "execute_result"
    }
   ],
   "source": [
    "X_b = np.c_[np.ones(len(X)), X]\n",
    "X_b"
   ]
  },
  {
   "cell_type": "code",
   "execution_count": 11,
   "id": "0559cc9d",
   "metadata": {},
   "outputs": [
    {
     "data": {
      "text/plain": [
       "array([5.66213743e-15, 2.00000000e+00])"
      ]
     },
     "execution_count": 11,
     "metadata": {},
     "output_type": "execute_result"
    }
   ],
   "source": [
    "theta = np.linalg.inv(X_b.T @ X_b) @ X_b.T @ y\n",
    "\n",
    "theta"
   ]
  },
  {
   "cell_type": "code",
   "execution_count": 12,
   "id": "023ce14e",
   "metadata": {},
   "outputs": [],
   "source": [
    "intercept, coeff = theta[0], theta[1]"
   ]
  },
  {
   "cell_type": "code",
   "execution_count": 32,
   "id": "752b4b5b",
   "metadata": {},
   "outputs": [
    {
     "data": {
      "text/plain": [
       "912.0000000000005"
      ]
     },
     "execution_count": 32,
     "metadata": {},
     "output_type": "execute_result"
    }
   ],
   "source": [
    "coeff*456 + intercept"
   ]
  },
  {
   "cell_type": "code",
   "execution_count": null,
   "id": "d55767af",
   "metadata": {},
   "outputs": [],
   "source": []
  }
 ],
 "metadata": {
  "kernelspec": {
   "display_name": "Python 3",
   "language": "python",
   "name": "python3"
  },
  "language_info": {
   "codemirror_mode": {
    "name": "ipython",
    "version": 3
   },
   "file_extension": ".py",
   "mimetype": "text/x-python",
   "name": "python",
   "nbconvert_exporter": "python",
   "pygments_lexer": "ipython3",
   "version": "3.10.16"
  }
 },
 "nbformat": 4,
 "nbformat_minor": 5
}
