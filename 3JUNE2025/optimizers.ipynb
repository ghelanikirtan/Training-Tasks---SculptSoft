{
 "cells": [
  {
   "cell_type": "markdown",
   "id": "c5613e3f",
   "metadata": {},
   "source": [
    "# Optimizers & it's types: [3RD JUNE 2025]\n",
    "\n",
    "\n",
    "## Optimizers:\n",
    "\n",
    "- These adjust the weights of the model based on gradient of loss function, aiming to minimize the loss & improve model accuracy.\n",
    "\n",
    "- Basically these are iterative procedures.\n",
    "\n",
    "- Here gradient means taking partial derivatives of the given function...\n",
    "\n",
    "- Tensorflow optimizers library: `tf.keras.optimizers`\n",
    "\n",
    "- PyTorch optimizers lib.: `torch.optim`\n",
    "\n",
    "### Cost/Loss Functions:\n",
    "\n",
    "- These are the functions to calculate the error of a model's prediction for single data point. Common Cost functions are as follow:\n",
    "\n",
    "1. Regression Loss funcs:\n",
    "    - MSE : `sum[(actual - predicted)^2] / size`\n",
    "    - MAE : `sum[abs(actual - predicted)] / size`\n",
    "    - MBE : `sum(actual - predicted) / size`       \n",
    "\n",
    "2. Classification Loss funcs:\n",
    "    - Cross-Entropy [log] Loss: `-1*[actual*log(predicted) + (1 - actual)*log(1 - predicted)]` \n",
    "    - Hinge [SVM] Loss: `sum[max(0, 1 - actual*predicted)] / size` \n",
    "\n",
    "## Types of Optimizers:\n",
    "\n",
    "1. Gradient Descent [Stochastic Gradient Descent]\n",
    "2. Adagrad [Adaptive Gradient Descent]\n",
    "3. RMSprop [Root Mean Sqre Propogation]\n",
    "4. Adam [Adaptive Moment Estimation]\n",
    "\n",
    "\n",
    "src: [analyticsvidhya 🔗](https://www.analyticsvidhya.com/blog/2021/10/a-comprehensive-guide-on-deep-learning-optimizers/)"
   ]
  },
  {
   "cell_type": "code",
   "execution_count": 2,
   "id": "4f26ebf7",
   "metadata": {},
   "outputs": [],
   "source": [
    "import numpy as np \n",
    "import pandas as pd\n",
    "import seaborn as sns\n",
    "import matplotlib.pyplot as plt"
   ]
  },
  {
   "cell_type": "markdown",
   "id": "250ebed7",
   "metadata": {},
   "source": [
    "### 1. Gradient Descent & Stochastic GD.:\n",
    "\n",
    "**Gradient Descent:**\n",
    "- Optimization algorithm that modifies the values to achieve the local minimum. \n",
    "- `X_new = X - alpha * f'(x)`\n",
    "- `w = w - lr * f'(w)`\n",
    "- Key NOTE: Takes equal size of steps. So slow convergence.\n",
    "\n",
    "**Stochastic Gradient Descent:**\n",
    "\n",
    "- Stochastic means randomness.\n",
    "- It is similar to normal GD, but we add some random noise here \n",
    "- `X_new = X - alpha * [f'(x) + random_noise]`\n",
    "- `w = w - lr * [f'(w) + np.random.normal(0,0.1)]`\n",
    "- Key NOTE: Due to noise the step size are not of equal size. So leads to faster convergence.\n"
   ]
  },
  {
   "cell_type": "code",
   "execution_count": 29,
   "id": "a04a7e97",
   "metadata": {},
   "outputs": [],
   "source": [
    "def gradient_descent(\n",
    "    w, # weight\n",
    "    learning_rate, # alpha\n",
    "    gradient_w # gradient of weight\n",
    "):\n",
    "    return w - learning_rate * gradient_w\n",
    "\n",
    "def SGD(\n",
    "    w, \n",
    "    learning_rate, \n",
    "    gradient_w\n",
    "):\n",
    "    noise = np.random.normal(0,0.1) #randomness\n",
    "    return w - learning_rate * (gradient_w + noise)"
   ]
  },
  {
   "cell_type": "markdown",
   "id": "845c30e8",
   "metadata": {},
   "source": [
    "### 2. Adagrad (Adaptive Gradient Descent):\n",
    "\n",
    "- Uses different learning_rates for each iteration unlike above one.\n",
    "- changes in lr depends on params during the training.\n",
    "- `w = w - (n / sqrt(alpha + E)) * f'(x)`\n",
    "- n is constant, E is small +ve to avoid 0 division error, alpha is different gradients square at each iteration.\n",
    "- Weights get smaller steps over time (Good for sparse data)."
   ]
  },
  {
   "cell_type": "code",
   "execution_count": 5,
   "id": "170d2a3a",
   "metadata": {},
   "outputs": [],
   "source": [
    "def Adagrad(\n",
    "    w,\n",
    "    learning_rate,\n",
    "    gradient_w,\n",
    "    cache\n",
    "):\n",
    "    cache += gradient_w**2\n",
    "    E = 1e-8\n",
    "    return w - learning_rate * gradient_w / (np.sqrt(cache) + E) , cache #iterative so need to store the past gradients square\n"
   ]
  },
  {
   "cell_type": "markdown",
   "id": "8542754b",
   "metadata": {},
   "source": [
    "### 3. RMSProp (Root Mean Square):\n",
    "\n",
    "- Uses moving average of past gradients to control how fast we learn.\n",
    "- Similar to Adagrad but uses exponentially decaying average of past gradient squares...\n",
    "\n",
    "- `w = w - [ n / sqrt(G) * f'(x)]`\n",
    "- where `G = (gamma * G_prev) + (1 - gamma)*(f'(X))^2`"
   ]
  },
  {
   "cell_type": "code",
   "execution_count": 6,
   "id": "ee49bea4",
   "metadata": {},
   "outputs": [],
   "source": [
    "def RMSProp(\n",
    "    w, \n",
    "    learning_rate, \n",
    "    gradient_w,\n",
    "    cache, # prev gradient_w\n",
    "    decay_rate = 0.8, # gamma\n",
    "):\n",
    "    cache = (decay_rate * cache) + (1 - decay_rate) * (cache**2)\n",
    "    E = 1e-8\n",
    "    return w - learning_rate * gradient_w / (np.sqrt(cache) + E), cache\n",
    "     "
   ]
  },
  {
   "cell_type": "markdown",
   "id": "419be4de",
   "metadata": {},
   "source": [
    "### 4. Adam (Adaptive Moment Estimation):\n",
    "\n",
    "- Best & widely used optimizer.\n",
    "- Tracks both: Momentum (mean of gradient) & RMS (variance of gradient).\n",
    "- Fast convergence, robust to noisy data, widely used in deep learning.\n",
    "\n",
    "```\n",
    "moments:\n",
    "    m = beta1 * m + (1 - beta1) * grad_w\n",
    "    v = beta2 * v + (1 - beta2) * grad_w^2\n",
    "\n",
    "    beta1 & beta2 -> decay rate of average gradient\n",
    "\n",
    "bias:\n",
    "    m_bias = m / (1 - beta1)\n",
    "    v_bias = v / (1 - beta2)\n",
    "\n",
    "\n",
    "w = w - alpha * m_bias / (sqrt(v_bias) + E)\n",
    "\n",
    "E - small positive to avoid zero division error\n",
    "\n",
    "```"
   ]
  },
  {
   "cell_type": "code",
   "execution_count": 7,
   "id": "f7258070",
   "metadata": {},
   "outputs": [],
   "source": [
    "def Adam(\n",
    "    w,\n",
    "    learning_rate,\n",
    "    gradient_w,\n",
    "    m, v,  # iterative...\n",
    "    beta1, beta2,\n",
    "    t=1, \n",
    "):\n",
    "    m = beta1 * m + (1-beta1) * gradient_w\n",
    "    v = beta2 * v + (1-beta2) * (gradient_w**2)\n",
    "    \n",
    "    m_bias = m / (1-beta1**t)\n",
    "    v_bias = v / (1- beta2**t)\n",
    "    \n",
    "    E = 1e-8\n",
    "    \n",
    "    return w - learning_rate * m_bias / (np.sqrt(v_bias) + E) , m, v"
   ]
  },
  {
   "cell_type": "code",
   "execution_count": 46,
   "id": "562e3cf7",
   "metadata": {},
   "outputs": [
    {
     "data": {
      "text/plain": [
       "(array([0.07510634]), array([0.03962068]))"
      ]
     },
     "execution_count": 46,
     "metadata": {},
     "output_type": "execute_result"
    }
   ],
   "source": [
    "lr = 0.001\n",
    "loss = np.random.rand(1)\n",
    "init = np.random.rand(1)\n",
    "loss, init"
   ]
  },
  {
   "cell_type": "code",
   "execution_count": 47,
   "id": "a8240969",
   "metadata": {},
   "outputs": [],
   "source": [
    "loss_list = []\n",
    "loss_list.append(loss)\n",
    "for epoch in range(10):\n",
    "    loss = loss - lr * init if epoch == 0 else loss\n",
    "    loss_list.append(loss)"
   ]
  },
  {
   "cell_type": "code",
   "execution_count": 48,
   "id": "e0a51a68",
   "metadata": {},
   "outputs": [],
   "source": [
    "losses = np.array(loss_list)"
   ]
  },
  {
   "cell_type": "code",
   "execution_count": 49,
   "id": "b651c342",
   "metadata": {},
   "outputs": [
    {
     "data": {
      "image/png": "[encoded data removed]",
      "text/plain": [
       "<Figure size 1000x800 with 1 Axes>"
      ]
     },
     "metadata": {},
     "output_type": "display_data"
    }
   ],
   "source": [
    "plt.figure(figsize=(10,8))\n",
    "plt.plot(loss_list, label='loss - Gradient Descent')\n",
    "plt.plot(loss)\n",
    "plt.legend()\n",
    "plt.grid(True)\n",
    "plt.show()"
   ]
  }
 ],
 "metadata": {
  "kernelspec": {
   "display_name": "Python 3",
   "language": "python",
   "name": "python3"
  },
  "language_info": {
   "codemirror_mode": {
    "name": "ipython",
    "version": 3
   },
   "file_extension": ".py",
   "mimetype": "text/x-python",
   "name": "python",
   "nbconvert_exporter": "python",
   "pygments_lexer": "ipython3",
   "version": "3.10.16"
  }
 },
 "nbformat": 4,
 "nbformat_minor": 5
}
