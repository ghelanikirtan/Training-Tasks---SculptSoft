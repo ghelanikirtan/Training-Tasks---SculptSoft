{
 "cells": [
  {
   "cell_type": "markdown",
   "id": "713be7e6",
   "metadata": {},
   "source": [
    "# Vectorization Techniques [2nd June 2025]:\n",
    "\n",
    "- This is a method of converting the Textual Data into machine understandatble data (numerical data). This converted / encoded data are known as vectors.\n",
    "- Methods [TF-IDF, Count_Vectorizer, BERT vectorization].\n",
    "- It's a part of NLP..."
   ]
  },
  {
   "cell_type": "markdown",
   "id": "bb603441",
   "metadata": {},
   "source": [
    "## 1. TF-IDF Vectorization:\n",
    "\n",
    "- Term Frequency - Inverse Document Frequency   \n",
    "- TF *(w,d)*= (occur. of word *w* in document *d*) / (tot. no. of words in document *d*)\n",
    "- IDF *(w,D)* = ln((tot. no. of docs(N) in corpus D ) / (no. of documents containing w))\n",
    "\n",
    "- TF-IDF *(w,d,D)* = TF * IDF\n",
    "\n",
    "\n",
    "Disadv.: \n",
    "- Cannot capture semantics.\n",
    "- Computationally expensive."
   ]
  },
  {
   "cell_type": "code",
   "execution_count": 1,
   "id": "3d554506",
   "metadata": {},
   "outputs": [
    {
     "name": "stdout",
     "output_type": "stream",
     "text": [
      "Feature Names: ['ai' 'am' 'an' 'enthusiast' 'ghelani' 'growing' 'in' 'is' 'kirtan'\n",
      " 'latest' 'like' 'sided' 'sword' 'technology' 'the' 'today' 'trend' 'two']\n",
      "(4, 18)\n"
     ]
    }
   ],
   "source": [
    "from sklearn.feature_extraction.text import TfidfVectorizer\n",
    "import pandas as pd\n",
    "\n",
    "\n",
    "corpus = [\n",
    "    \"I am Kirtan Ghelani\",\n",
    "    \"Kirtan Ghelani is an AI Enthusiast\",\n",
    "    \"AI is the latest trend in the technology\",\n",
    "    \"Today's growing technology is like a two-sided sword.\"\n",
    "]\n",
    "\n",
    "vectorizer = TfidfVectorizer()\n",
    "\n",
    "# This is basically transforming the textual data into numerical data so we use .fit_transform()\n",
    "X = vectorizer.fit_transform(corpus)\n",
    "print(f\"Feature Names: {vectorizer.get_feature_names_out()}\")\n",
    "\n",
    "print(X.shape)"
   ]
  },
  {
   "cell_type": "markdown",
   "id": "f8710cb3",
   "metadata": {},
   "source": [
    "## 2. Count Vectorizer:\n",
    "\n",
    "- Simple and hashing kinda implementation.\n",
    "- It is effective where the frequency of the word is a key feature...\n",
    "\n",
    "Disadv.:\n",
    "- ignores context & order of words...\n"
   ]
  },
  {
   "cell_type": "code",
   "execution_count": null,
   "id": "88edd1e7",
   "metadata": {},
   "outputs": [
    {
     "name": "stdout",
     "output_type": "stream",
     "text": [
      "Features: ['ai' 'am' 'an' 'enthusiast' 'ghelani' 'growing' 'in' 'is' 'kirtan'\n",
      " 'latest' 'like' 'sided' 'sword' 'technology' 'the' 'today' 'trend' 'two']\n"
     ]
    },
    {
     "data": {
      "text/plain": [
       "array([[0, 1, 0, 0, 1, 0, 0, 0, 1, 0, 0, 0, 0, 0, 0, 0, 0, 0],\n",
       "       [1, 0, 1, 1, 1, 0, 0, 1, 1, 0, 0, 0, 0, 0, 0, 0, 0, 0],\n",
       "       [1, 0, 0, 0, 0, 0, 1, 1, 0, 1, 0, 0, 0, 1, 2, 0, 1, 0],\n",
       "       [0, 0, 0, 0, 0, 1, 0, 1, 0, 0, 1, 1, 1, 1, 0, 1, 0, 1]],\n",
       "      dtype=int64)"
      ]
     },
     "execution_count": 2,
     "metadata": {},
     "output_type": "execute_result"
    }
   ],
   "source": [
    "from sklearn.feature_extraction.text import CountVectorizer\n",
    "\n",
    "vectorizer = CountVectorizer()\n",
    "X = vectorizer.fit_transform(corpus)\n",
    "print(f\"Features: {vectorizer.get_feature_names_out()}\")\n",
    "X.toarray()"
   ]
  },
  {
   "cell_type": "markdown",
   "id": "f70fe15e",
   "metadata": {},
   "source": [
    "## 3. BERT Vectorization:\n",
    "\n",
    "- Bidirectional Encoder Representations from Transformers.\n",
    "- Transformer-based model (it pretrains bidirectional representations by jointly conditioning on both left & r8 context in all layers.)\n",
    "- Can be fine-tuned for specific tasks.\n",
    "\n",
    "\n",
    "Disadv.:\n",
    "- Large model size.\n",
    "- High computational requirements for training & inference."
   ]
  },
  {
   "cell_type": "code",
   "execution_count": 43,
   "id": "1708f2ec",
   "metadata": {},
   "outputs": [],
   "source": [
    "import random\n",
    "import torch\n",
    "from transformers import AutoTokenizer, AutoModel"
   ]
  },
  {
   "cell_type": "code",
   "execution_count": 4,
   "id": "a32f6dd3",
   "metadata": {},
   "outputs": [],
   "source": [
    "random_seed = 32\n",
    "random.seed(random_seed)\n",
    "\n",
    "# \n",
    "torch.manual_seed(random_seed)\n",
    "if torch.cuda.is_available():\n",
    "    torch.cuda.manual_seed_all(random_seed)"
   ]
  },
  {
   "cell_type": "code",
   "execution_count": 66,
   "id": "30727e3c",
   "metadata": {},
   "outputs": [],
   "source": [
    "# BERT Tokenizer:\n",
    "\n",
    "model_id = 'bert-base-uncased'\n",
    "\n",
    "tokenizer = AutoTokenizer.from_pretrained(model_id)\n",
    "model = AutoModel.from_pretrained(model_id)"
   ]
  },
  {
   "cell_type": "code",
   "execution_count": 67,
   "id": "f0570043",
   "metadata": {},
   "outputs": [],
   "source": [
    "text_data = f\"\"\"Hello, my name is Kirtan Ghelani. \n",
    "I am 22 year old AI-ML Developer working at SculptSoft Private Limited.\"\"\""
   ]
  },
  {
   "cell_type": "code",
   "execution_count": 71,
   "id": "b939e7bd",
   "metadata": {},
   "outputs": [
    {
     "name": "stdout",
     "output_type": "stream",
     "text": [
      ">>>>>>>> Shape: torch.Size([1, 32])\n",
      "encoded input (Tokens):\n",
      "tensor([[  101,  7592,  1010,  2026,  2171,  2003, 11382, 13320,  2078,  1043,\n",
      "         16001,  7088,  1012,  1045,  2572,  2570,  2095,  2214,  9932,  1011,\n",
      "         19875,  9722,  2551,  2012,  8040,  5313, 22798, 15794,  2797,  3132,\n",
      "          1012,   102]])\n",
      "-------------------------------------------------------------------------------------\n",
      "\n"
     ]
    }
   ],
   "source": [
    "# Tokenizing / Tokenizing the raw text_data:\n",
    "encoded_input = tokenizer(\n",
    "    text_data,\n",
    "    return_tensors = 'pt',\n",
    ")\n",
    "\n",
    "\n",
    "# This can be feeded to model like this...\n",
    "encoded_output = model(**encoded_input)\n",
    "\n",
    "print(f\"\"\">>>>>>>> Shape: {encoded_input['input_ids'].shape}\n",
    "encoded input (Tokens):\n",
    "{encoded_input['input_ids']}\n",
    "{'-'*85}\n",
    "\"\"\")"
   ]
  },
  {
   "cell_type": "code",
   "execution_count": 72,
   "id": "3abc6c84",
   "metadata": {},
   "outputs": [
    {
     "data": {
      "text/plain": [
       "'[CLS] hello, my name is kirtan ghelani. i am 22 year old ai - ml developer working at sculptsoft private limited. [SEP]'"
      ]
     },
     "execution_count": 72,
     "metadata": {},
     "output_type": "execute_result"
    }
   ],
   "source": [
    "# Decoding the tokenized data... [here we decode the model output ]\n",
    "decoded_txt = tokenizer.decode(encoded_input['input_ids'][0])\n",
    "decoded_txt"
   ]
  }
 ],
 "metadata": {
  "kernelspec": {
   "display_name": "Python 3",
   "language": "python",
   "name": "python3"
  },
  "language_info": {
   "codemirror_mode": {
    "name": "ipython",
    "version": 3
   },
   "file_extension": ".py",
   "mimetype": "text/x-python",
   "name": "python",
   "nbconvert_exporter": "python",
   "pygments_lexer": "ipython3",
   "version": "3.10.16"
  }
 },
 "nbformat": 4,
 "nbformat_minor": 5
}
