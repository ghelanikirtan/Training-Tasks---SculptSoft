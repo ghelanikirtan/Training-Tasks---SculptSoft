{
 "cells": [
  {
   "cell_type": "markdown",
   "id": "713be7e6",
   "metadata": {},
   "source": [
    "# Vectorization Techniques [2nd June 2025]:\n",
    "\n",
    "- This is a method of converting the Textual Data into machine understandatble data (numerical data). This converted / encoded data are known as vectors.\n",
    "- Methods [TF-IDF, Count_Vectorizer, BERT vectorization].\n",
    "- It's a part of NLP..."
   ]
  },
  {
   "cell_type": "markdown",
   "id": "bb603441",
   "metadata": {},
   "source": [
    "## 1. TF-IDF Vectorization:\n",
    "\n",
    "- Term Frequency - Inverse Document Frequency   \n",
    "- TF *(w,d)*= (occur. of word *w* in document *d*) / (tot. no. of words in document *d*)\n",
    "- IDF *(w,D)* = ln((tot. no. of docs(N) in corpus D ) / (no. of documents containing w))\n",
    "\n",
    "- TF-IDF *(w,d,D)* = TF * IDF\n",
    "\n",
    "\n",
    "Disadv.: \n",
    "    - Cannot capture semantics.\n",
    "    - Computationally expensive."
   ]
  },
  {
   "cell_type": "code",
   "execution_count": 8,
   "id": "3d554506",
   "metadata": {},
   "outputs": [
    {
     "name": "stdout",
     "output_type": "stream",
     "text": [
      "Feature Names: ['ai' 'am' 'an' 'enthusiast' 'ghelani' 'growing' 'in' 'is' 'kirtan'\n",
      " 'latest' 'like' 'sided' 'sword' 'technology' 'the' 'today' 'trend' 'two']\n",
      "(4, 18)\n"
     ]
    }
   ],
   "source": [
    "from sklearn.feature_extraction.text import TfidfVectorizer\n",
    "import pandas as pd\n",
    "\n",
    "\n",
    "corpus = [\n",
    "    \"I am Kirtan Ghelani\",\n",
    "    \"Kirtan Ghelani is an AI Enthusiast\",\n",
    "    \"AI is the latest trend in the technology\",\n",
    "    \"Today's growing technology is like a two-sided sword.\"\n",
    "]\n",
    "\n",
    "vectorizer = TfidfVectorizer()\n",
    "\n",
    "# This is basically transforming the textual data into numerical data so we use .fit_transform()\n",
    "X = vectorizer.fit_transform(corpus)\n",
    "print(f\"Feature Names: {vectorizer.get_feature_names_out()}\")\n",
    "\n",
    "print(X.shape)"
   ]
  },
  {
   "cell_type": "code",
   "execution_count": null,
   "id": "88edd1e7",
   "metadata": {},
   "outputs": [],
   "source": []
  },
  {
   "cell_type": "markdown",
   "id": "f70fe15e",
   "metadata": {},
   "source": []
  }
 ],
 "metadata": {
  "kernelspec": {
   "display_name": "Python 3",
   "language": "python",
   "name": "python3"
  },
  "language_info": {
   "codemirror_mode": {
    "name": "ipython",
    "version": 3
   },
   "file_extension": ".py",
   "mimetype": "text/x-python",
   "name": "python",
   "nbconvert_exporter": "python",
   "pygments_lexer": "ipython3",
   "version": "3.10.16"
  }
 },
 "nbformat": 4,
 "nbformat_minor": 5
}
