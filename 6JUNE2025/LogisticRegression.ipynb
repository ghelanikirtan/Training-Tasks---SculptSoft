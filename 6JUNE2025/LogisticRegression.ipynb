{
 "cells": [
  {
   "cell_type": "markdown",
   "id": "c717747b",
   "metadata": {},
   "source": [
    "## Logistic Regression:\n",
    "\n",
    "- Use for classification. [binary and mulitclass both]\n",
    "- Three types:\n",
    "\n",
    "1. Binomial Logistic Regression.\n",
    "2. Multinomial Logistic Regression.\n",
    "3. Ordinal Logistic Regression."
   ]
  },
  {
   "cell_type": "markdown",
   "id": "e32f1c3d",
   "metadata": {},
   "source": []
  }
 ],
 "metadata": {
  "language_info": {
   "name": "python"
  }
 },
 "nbformat": 4,
 "nbformat_minor": 5
}
